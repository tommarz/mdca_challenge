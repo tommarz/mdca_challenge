{
 "cells": [
  {
   "cell_type": "code",
   "execution_count": 87,
   "id": "b2c42cc1-2428-40a5-abe0-a3b2055b2c8e",
   "metadata": {},
   "outputs": [],
   "source": [
    "%run utils.ipynb"
   ]
  },
  {
   "cell_type": "code",
   "execution_count": 42,
   "id": "2ee0fdbd-3864-44a8-a6a4-88a8b7ff66bd",
   "metadata": {},
   "outputs": [],
   "source": [
    "import pandas as pd\n",
    "import numpy as np\n",
    "import os\n",
    "import sys\n",
    "import matplotlib.pyplot as plt\n",
    "import dill\n",
    "%matplotlib inline"
   ]
  },
  {
   "cell_type": "code",
   "execution_count": 9,
   "id": "4fc3ae1c-c3e7-49dd-bf64-aa341c9c1015",
   "metadata": {},
   "outputs": [],
   "source": [
    "import sklearn\n",
    "from sklearn.svm import OneClassSVM\n",
    "from sklearn.metrics import roc_auc_score, precision_score, recall_score, f1_score, accuracy_score, confusion_matrix, top_k_accuracy_score\n",
    "from sklearn.preprocessing import OneHotEncoder, LabelEncoder, FunctionTransformer\n",
    "from sklearn.compose import ColumnTransformer, make_column_transformer\n",
    "from sklearn.feature_extraction.text import TfidfVectorizer, TfidfTransformer\n",
    "from sklearn.ensemble import RandomForestClassifier\n",
    "from sklearn.linear_model import LogisticRegression\n",
    "from sklearn.neural_network import MLPClassifier\n",
    "from sklearn.neighbors import KNeighborsClassifier\n",
    "from sklearn.decomposition import PCA\n",
    "from sklearn.feature_extraction import DictVectorizer"
   ]
  },
  {
   "cell_type": "code",
   "execution_count": 10,
   "id": "2589f3ea-b0cb-4d8e-9021-4830289bc106",
   "metadata": {},
   "outputs": [],
   "source": [
    "import tensorflow as tf\n",
    "from tensorflow.keras.layers import Dense, LSTM, Dropout, Activation, Input, Embedding, TextVectorization, Reshape, Add, Concatenate, Flatten\n",
    "from tensorflow.keras.losses import binary_crossentropy\n",
    "from tensorflow.keras.models import Model, Sequential\n",
    "from tensorflow.keras.optimizers import Adam, SGD\n",
    "from tensorflow.keras.callbacks import ReduceLROnPlateau, ModelCheckpoint, EarlyStopping"
   ]
  },
  {
   "cell_type": "code",
   "execution_count": 79,
   "id": "3d36055b-46c6-4d2a-97ab-a8695841bd72",
   "metadata": {},
   "outputs": [],
   "source": [
    "def load_test_data(data_path=DATA_PATH):\n",
    "    _, seg_df = load_user_data(data_path)\n",
    "    labels = pd.read_csv('challengeToFill.csv').drop(columns=['Unnamed: 0']).T.reset_index(drop=True).T\n",
    "    y_seg = labels.iloc[:LABELED_USERS, TRAIN_SEG:]\n",
    "    y_seg = y_seg.to_numpy().flatten()\n",
    "    y_user = pd.Series([idx//(2*TRAIN_SEG) for idx, _ in enumerate(y_seg)])\n",
    "    X = seg_df.iloc[:LABELED_USERS, TRAIN_SEG:]\n",
    "    return X, y_seg, y_user"
   ]
  },
  {
   "cell_type": "code",
   "execution_count": 94,
   "id": "ed56f456-3585-4462-8a27-ba83ecbffea6",
   "metadata": {},
   "outputs": [],
   "source": [
    "class Submitter:\n",
    "    \n",
    "    def __init__(self, model):\n",
    "        self.model=model\n",
    "        \n",
    "    def evaluate_model(self, X, y_seg, y_user=None, k=3):\n",
    "        y_user = y_user.to_numpy().flatten() if y_user is not None else None\n",
    "        try:\n",
    "            y_pred = self.model.predict_proba(X)\n",
    "        except:\n",
    "            y_pred = self.model.predict(X)\n",
    "        y_pred_seg = np.array([1 if t in p else 0 for t, p in zip(y_user, get_top_k_classes(y_pred, k))]) if y_user is not None else y_pred\n",
    "        get_metrics(y_seg, y_pred_seg)"
   ]
  },
  {
   "cell_type": "code",
   "execution_count": 89,
   "id": "d8e949c5-d30c-4973-8a88-32f3884e2595",
   "metadata": {},
   "outputs": [
    {
     "data": {
      "text/plain": [
       "((10, 100), (1000,), (1000,))"
      ]
     },
     "execution_count": 89,
     "metadata": {},
     "output_type": "execute_result"
    }
   ],
   "source": [
    "X, y_seg, y_user = load_test_data()\n",
    "X.shape, y_seg.shape,  y_user.shape"
   ]
  },
  {
   "cell_type": "code",
   "execution_count": 90,
   "id": "41b907a6-91ca-47e8-905d-35a3368c7095",
   "metadata": {},
   "outputs": [],
   "source": [
    "with open(f'KNeighborsClassifier.dill', 'rb') as f:\n",
    "    clf = dill.load(f)"
   ]
  },
  {
   "cell_type": "code",
   "execution_count": 91,
   "id": "4b879519-95ba-4603-bbe1-f4d81bc0a42a",
   "metadata": {},
   "outputs": [
    {
     "data": {
      "text/plain": [
       "Pipeline(steps=[('functiontransformer',\n",
       "                 FunctionTransformer(func=<function <lambda> at 0x0000027B9D764670>)),\n",
       "                ('tfidfvectorizer',\n",
       "                 TfidfVectorizer(max_df=0.1, min_df=0.01, ngram_range=(1, 3),\n",
       "                                 sublinear_tf=True)),\n",
       "                ('kneighborsclassifier',\n",
       "                 KNeighborsClassifier(n_neighbors=10, weights='distance'))])"
      ]
     },
     "execution_count": 91,
     "metadata": {},
     "output_type": "execute_result"
    }
   ],
   "source": [
    "clf"
   ]
  },
  {
   "cell_type": "code",
   "execution_count": 98,
   "id": "9a44ff38-9852-45ae-80cb-7caf372a7664",
   "metadata": {},
   "outputs": [],
   "source": [
    "clf = tf.keras.models.load_model('model.h5')"
   ]
  },
  {
   "cell_type": "code",
   "execution_count": 99,
   "id": "c04a8333-8601-4935-a571-4954c1ba9ea2",
   "metadata": {},
   "outputs": [
    {
     "ename": "ValueError",
     "evalue": "Failed to convert a NumPy array to a Tensor (Unsupported object type list).",
     "output_type": "error",
     "traceback": [
      "\u001b[1;31m---------------------------------------------------------------------------\u001b[0m",
      "\u001b[1;31mAttributeError\u001b[0m                            Traceback (most recent call last)",
      "Input \u001b[1;32mIn [94]\u001b[0m, in \u001b[0;36mSubmitter.evaluate_model\u001b[1;34m(self, X, y_seg, y_user, k)\u001b[0m\n\u001b[0;32m      8\u001b[0m \u001b[38;5;28;01mtry\u001b[39;00m:\n\u001b[1;32m----> 9\u001b[0m     y_pred \u001b[38;5;241m=\u001b[39m \u001b[38;5;28;43mself\u001b[39;49m\u001b[38;5;241;43m.\u001b[39;49m\u001b[43mmodel\u001b[49m\u001b[38;5;241;43m.\u001b[39;49m\u001b[43mpredict_proba\u001b[49m(X)\n\u001b[0;32m     10\u001b[0m \u001b[38;5;28;01mexcept\u001b[39;00m:\n",
      "\u001b[1;31mAttributeError\u001b[0m: 'Sequential' object has no attribute 'predict_proba'",
      "\nDuring handling of the above exception, another exception occurred:\n",
      "\u001b[1;31mTypeError\u001b[0m                                 Traceback (most recent call last)",
      "File \u001b[1;32m~\\.conda\\envs\\dl\\lib\\site-packages\\tensorflow\\python\\data\\util\\structure.py:106\u001b[0m, in \u001b[0;36mnormalize_element\u001b[1;34m(element, element_signature)\u001b[0m\n\u001b[0;32m    105\u001b[0m   \u001b[38;5;28;01mif\u001b[39;00m spec \u001b[38;5;129;01mis\u001b[39;00m \u001b[38;5;28;01mNone\u001b[39;00m:\n\u001b[1;32m--> 106\u001b[0m     spec \u001b[38;5;241m=\u001b[39m \u001b[43mtype_spec_from_value\u001b[49m\u001b[43m(\u001b[49m\u001b[43mt\u001b[49m\u001b[43m,\u001b[49m\u001b[43m \u001b[49m\u001b[43muse_fallback\u001b[49m\u001b[38;5;241;43m=\u001b[39;49m\u001b[38;5;28;43;01mFalse\u001b[39;49;00m\u001b[43m)\u001b[49m\n\u001b[0;32m    107\u001b[0m \u001b[38;5;28;01mexcept\u001b[39;00m \u001b[38;5;167;01mTypeError\u001b[39;00m:\n\u001b[0;32m    108\u001b[0m   \u001b[38;5;66;03m# TypeError indicates it was not possible to compute a `TypeSpec` for\u001b[39;00m\n\u001b[0;32m    109\u001b[0m   \u001b[38;5;66;03m# the value. As a fallback try converting the value to a tensor.\u001b[39;00m\n",
      "File \u001b[1;32m~\\.conda\\envs\\dl\\lib\\site-packages\\tensorflow\\python\\data\\util\\structure.py:486\u001b[0m, in \u001b[0;36mtype_spec_from_value\u001b[1;34m(element, use_fallback)\u001b[0m\n\u001b[0;32m    483\u001b[0m     logging\u001b[38;5;241m.\u001b[39mvlog(\n\u001b[0;32m    484\u001b[0m         \u001b[38;5;241m3\u001b[39m, \u001b[38;5;124m\"\u001b[39m\u001b[38;5;124mFailed to convert \u001b[39m\u001b[38;5;132;01m%r\u001b[39;00m\u001b[38;5;124m to tensor: \u001b[39m\u001b[38;5;132;01m%s\u001b[39;00m\u001b[38;5;124m\"\u001b[39m \u001b[38;5;241m%\u001b[39m (\u001b[38;5;28mtype\u001b[39m(element)\u001b[38;5;241m.\u001b[39m\u001b[38;5;18m__name__\u001b[39m, e))\n\u001b[1;32m--> 486\u001b[0m \u001b[38;5;28;01mraise\u001b[39;00m \u001b[38;5;167;01mTypeError\u001b[39;00m(\u001b[38;5;124m\"\u001b[39m\u001b[38;5;124mCould not build a TypeSpec for \u001b[39m\u001b[38;5;132;01m%r\u001b[39;00m\u001b[38;5;124m with type \u001b[39m\u001b[38;5;132;01m%s\u001b[39;00m\u001b[38;5;124m\"\u001b[39m \u001b[38;5;241m%\u001b[39m\n\u001b[0;32m    487\u001b[0m                 (element, \u001b[38;5;28mtype\u001b[39m(element)\u001b[38;5;241m.\u001b[39m\u001b[38;5;18m__name__\u001b[39m))\n",
      "\u001b[1;31mTypeError\u001b[0m: Could not build a TypeSpec for                                                  50   \\\n0  [uname, uname, pwd, echo, echo, ksh, uname, un...   \n1  [cat, mail, tcsh, hostname, stty, netstat, ls,...   \n2  [launchef, sh, netstat, netscape, netscape, ne...   \n3  [ksh, cat, tty, hostname, arch, tset, stty, ks...   \n4  [a.out, a.out, mail, sh, gettxt, hostname, get...   \n5  [sh, rmdir, sh, exrecove, ex, ex, launchef, sh...   \n6  [ls, mc, lc, ls, mc, lc, more, more, date, sen...   \n7  [cat, cut, cat, nawk, cat, nawk, cat, nawk, ca...   \n8  [sh, hostname, [, cat, [, hostname, stty, date...   \n9  [rlogin, id, rlogin, rlogin, ksh, xterm, rlogi...   \n\n                                                 51   \\\n0  [uname, pwd, echo, echo, ksh, uname, uname, pw...   \n1  [mail, tcsh, hostname, stty, netstat, ls, ls, ...   \n2  [sh, netstat, netscape, netscape, netscape, mo...   \n3  [cat, tty, hostname, arch, tset, stty, ksh, se...   \n4  [a.out, mail, sh, gettxt, hostname, gettxt, ge...   \n5  [rmdir, sh, exrecove, ex, ex, launchef, sh, la...   \n6  [mc, lc, ls, mc, lc, more, more, date, sendmai...   \n7  [cut, cat, nawk, cat, nawk, cat, nawk, cat, na...   \n8  [hostname, [, cat, [, hostname, stty, date, ec...   \n9  [id, rlogin, rlogin, ksh, xterm, rlogin, rlogi...   \n\n                                                 52   \\\n0  [pwd, echo, echo, ksh, uname, uname, pwd, echo...   \n1  [tcsh, hostname, stty, netstat, ls, ls, netsca...   \n2  [netstat, netscape, netscape, netscape, movema...   \n3  [tty, hostname, arch, tset, stty, ksh, sed, la...   \n4  [mail, sh, gettxt, hostname, gettxt, gettxt, g...   \n5  [sh, exrecove, ex, ex, launchef, sh, launchef,...   \n6  [lc, ls, mc, lc, more, more, date, sendmail, s...   \n7  [cat, nawk, cat, nawk, cat, nawk, cat, nawk, c...   \n8  [[, cat, [, hostname, stty, date, echo, [, fin...   \n9  [rlogin, rlogin, ksh, xterm, rlogin, rlogin, k...   \n\n                                                 53   \\\n0  [echo, echo, ksh, uname, uname, pwd, echo, ech...   \n1  [hostname, stty, netstat, ls, ls, netscape, la...   \n2  [netscape, netscape, netscape, movemail, movem...   \n3  [hostname, arch, tset, stty, ksh, sed, last, p...   \n4  [sh, gettxt, hostname, gettxt, gettxt, gettxt,...   \n5  [exrecove, ex, ex, launchef, sh, launchef, net...   \n6  [ls, mc, lc, more, more, date, sendmail, sendm...   \n7  [nawk, cat, nawk, cat, nawk, cat, nawk, cat, n...   \n8  [cat, [, hostname, stty, date, echo, [, find, ...   \n9  [rlogin, ksh, xterm, rlogin, rlogin, ksh, touc...   \n\n                                                 54   \\\n0  [echo, ksh, uname, uname, pwd, echo, echo, ksh...   \n1  [stty, netstat, ls, ls, netscape, launchef, sh...   \n2  [netscape, netscape, movemail, movemail, netsc...   \n3  [arch, tset, stty, ksh, sed, last, passwd, rlo...   \n4  [gettxt, hostname, gettxt, gettxt, gettxt, xco...   \n5  [ex, ex, launchef, sh, launchef, netstat, nets...   \n6  [mc, lc, more, more, date, sendmail, sendmail,...   \n7  [cat, nawk, cat, nawk, cat, nawk, cat, nawk, c...   \n8  [[, hostname, stty, date, echo, [, find, chmod...   \n9  [ksh, xterm, rlogin, rlogin, ksh, touch, touch...   \n\n                                                 55   \\\n0  [ksh, uname, uname, pwd, echo, echo, ksh, mkdi...   \n1  [netstat, ls, ls, netscape, launchef, sh, laun...   \n2  [netscape, movemail, movemail, netscape, netsc...   \n3  [tset, stty, ksh, sed, last, passwd, rlogin, r...   \n4  [hostname, gettxt, gettxt, gettxt, xconfirm, e...   \n5  [ex, launchef, sh, launchef, netstat, netscape...   \n6  [lc, more, more, date, sendmail, sendmail, sh,...   \n7  [nawk, cat, nawk, cat, nawk, cat, nawk, cat, n...   \n8  [hostname, stty, date, echo, [, find, chmod, e...   \n9  [xterm, rlogin, rlogin, ksh, touch, touch, tou...   \n\n                                                 56   \\\n0  [uname, uname, pwd, echo, echo, ksh, mkdir, un...   \n1  [ls, ls, netscape, launchef, sh, launchef, sh,...   \n2  [movemail, movemail, netscape, netscape, netsc...   \n3  [stty, ksh, sed, last, passwd, rlogin, rlogin,...   \n4  [gettxt, gettxt, gettxt, xconfirm, endsessi, t...   \n5  [launchef, sh, launchef, netstat, netscape, ne...   \n6  [more, more, date, sendmail, sendmail, sh, Med...   \n7  [cat, nawk, cat, nawk, cat, nawk, cat, nawk, c...   \n8  [stty, date, echo, [, find, chmod, echo, ls, m...   \n9  [rlogin, rlogin, ksh, touch, touch, touch, ksh...   \n\n                                                 57   \\\n0  [uname, pwd, echo, echo, ksh, mkdir, uname, un...   \n1  [ls, netscape, launchef, sh, launchef, sh, net...   \n2  [movemail, netscape, netscape, netscape, netsc...   \n3  [ksh, sed, last, passwd, rlogin, rlogin, rlogi...   \n4  [gettxt, gettxt, xconfirm, endsessi, tellwm, t...   \n5  [sh, launchef, netstat, netscape, netscape, ne...   \n6  [more, date, sendmail, sendmail, sh, MediaMai,...   \n7  [nawk, cat, nawk, cat, nawk, cat, nawk, cat, n...   \n8  [date, echo, [, find, chmod, echo, ls, mc, lc,...   \n9  [rlogin, ksh, touch, touch, touch, ksh, rcp, l...   \n\n                                                 58   \\\n0  [pwd, echo, echo, ksh, mkdir, uname, uname, pw...   \n1  [netscape, launchef, sh, launchef, sh, netscap...   \n2  [netscape, netscape, netscape, netscape, netsc...   \n3  [sed, last, passwd, rlogin, rlogin, rlogin, rl...   \n4  [gettxt, xconfirm, endsessi, tellwm, tellwm, x...   \n5  [launchef, netstat, netscape, netscape, netsca...   \n6  [date, sendmail, sendmail, sh, MediaMai, sendm...   \n7  [cat, nawk, cat, nawk, cat, nawk, cat, nawk, c...   \n8  [echo, [, find, chmod, echo, ls, mc, lc, ls, m...   \n9  [ksh, touch, touch, touch, ksh, rcp, ls, rshd,...   \n\n                                                 59   ...  \\\n0  [echo, echo, ksh, mkdir, uname, uname, pwd, ec...  ...   \n1  [launchef, sh, launchef, sh, netscape, netscap...  ...   \n2  [netscape, netscape, netscape, netscape, netsc...  ...   \n3  [last, passwd, rlogin, rlogin, rlogin, rlogin,...  ...   \n4  [xconfirm, endsessi, tellwm, tellwm, xprop, en...  ...   \n5  [netstat, netscape, netscape, netscape, netsca...  ...   \n6  [sendmail, sendmail, sh, MediaMai, sendmail, l...  ...   \n7  [nawk, cat, nawk, cat, nawk, cat, nawk, cat, n...  ...   \n8  [[, find, chmod, echo, ls, mc, lc, ls, mc, lc,...  ...   \n9  [touch, touch, touch, ksh, rcp, ls, rshd, cat,...  ...   \n\n                                                 140  \\\n0  [pwd, echo, echo, ksh, uname, uname, pwd, echo...   \n1  [generic, generic, date, generic, download, ge...   \n2  [tellwm, xprop, xdm, endsessi, 4Dwm, toolches,...   \n3  [sh, man, man, pine, rsh, pine, rsh, pine, rsh...   \n4  [cat, file, ppost, awk, ppost, bc, date, postp...   \n5  [xterm, xterm, ksh, xterm, ksh, ksh, netscape,...   \n6  [virtex, virtex, virtex, virtex, virtex, virte...   \n7  [nawk, cat, htn_repo, cat, hightoll, sed, egre...   \n8  [tcppost, sh, LOCK, ex, sh, eqn, tbl, tbl, tro...   \n9  [sort, sed, ipeek, ksh, rshd, sh, cat, stty, u...   \n\n                                                 141  \\\n0  [echo, echo, ksh, uname, uname, pwd, echo, ech...   \n1  [generic, date, generic, download, gethost, tc...   \n2  [xprop, xdm, endsessi, 4Dwm, toolches, faces, ...   \n3  [man, man, pine, rsh, pine, rsh, pine, rsh, pi...   \n4  [file, ppost, awk, ppost, bc, date, postprin, ...   \n5  [xterm, ksh, xterm, ksh, ksh, netscape, netsca...   \n6  [virtex, virtex, virtex, virtex, virtex, virte...   \n7  [cat, htn_repo, cat, hightoll, sed, egrep, naw...   \n8  [sh, LOCK, ex, sh, eqn, tbl, tbl, troff, sed, ...   \n9  [sed, ipeek, ksh, rshd, sh, cat, stty, uname, ...   \n\n                                                 142  \\\n0  [echo, ksh, uname, uname, pwd, echo, echo, ksh...   \n1  [date, generic, download, gethost, tcpostio, t...   \n2  [xdm, endsessi, 4Dwm, toolches, faces, xclock,...   \n3  [man, pine, rsh, pine, rsh, pine, rsh, pine, r...   \n4  [ppost, awk, ppost, bc, date, postprin, cat, c...   \n5  [ksh, xterm, ksh, ksh, netscape, netscape, Med...   \n6  [virtex, virtex, virtex, virtex, virtex, virte...   \n7  [htn_repo, cat, hightoll, sed, egrep, nawk, tc...   \n8  [LOCK, ex, sh, eqn, tbl, tbl, troff, sed, host...   \n9  [ipeek, ksh, rshd, sh, cat, stty, uname, ksh, ...   \n\n                                                 143  \\\n0  [ksh, uname, uname, pwd, echo, echo, ksh, mkdi...   \n1  [generic, download, gethost, tcpostio, tcposti...   \n2  [endsessi, 4Dwm, toolches, faces, xclock, cat,...   \n3  [pine, rsh, pine, rsh, pine, rsh, pine, rsh, r...   \n4  [awk, ppost, bc, date, postprin, cat, cat, cat...   \n5  [xterm, ksh, ksh, netscape, netscape, MediaMai...   \n6  [virtex, virtex, virtex, virtex, virtex, virte...   \n7  [cat, hightoll, sed, egrep, nawk, tcsh, get_ac...   \n8  [ex, sh, eqn, tbl, tbl, troff, sed, hostname, ...   \n9  [ksh, rshd, sh, cat, stty, uname, ksh, cut, da...   \n\n                                                 144  \\\n0  [uname, uname, pwd, echo, echo, ksh, mkdir, se...   \n1  [download, gethost, tcpostio, tcpostio, tcpost...   \n2  [4Dwm, toolches, faces, xclock, cat, mail, csh...   \n3  [rsh, pine, rsh, pine, rsh, pine, rsh, rm, net...   \n4  [ppost, bc, date, postprin, cat, cat, cat, hpo...   \n5  [ksh, ksh, netscape, netscape, MediaMai, cat, ...   \n6  [virtex, virtex, virtex, virtex, virtex, virte...   \n7  [hightoll, sed, egrep, nawk, tcsh, get_acc, tc...   \n8  [sh, eqn, tbl, tbl, troff, sed, hostname, sed,...   \n9  [rshd, sh, cat, stty, uname, ksh, cut, date, m...   \n\n                                                 145  \\\n0  [uname, pwd, echo, echo, ksh, mkdir, sendmail,...   \n1  [gethost, tcpostio, tcpostio, tcpostio, tcpost...   \n2  [toolches, faces, xclock, cat, mail, csh, host...   \n3  [pine, rsh, pine, rsh, pine, rsh, rm, netscape...   \n4  [bc, date, postprin, cat, cat, cat, hpost, ppo...   \n5  [ksh, netscape, netscape, MediaMai, cat, hostn...   \n6  [virtex, virtex, virtex, virtex, virtex, virte...   \n7  [sed, egrep, nawk, tcsh, get_acc, tcsh, cat, e...   \n8  [eqn, tbl, tbl, troff, sed, hostname, sed, eqn...   \n9  [sh, cat, stty, uname, ksh, cut, date, mesg, k...   \n\n                                                 146  \\\n0  [pwd, echo, echo, ksh, mkdir, sendmail, sendma...   \n1  [tcpostio, tcpostio, tcpostio, tcpostio, cat, ...   \n2  [faces, xclock, cat, mail, csh, hostname, stty...   \n3  [rsh, pine, rsh, pine, rsh, rm, netscape, nets...   \n4  [date, postprin, cat, cat, cat, hpost, ppost, ...   \n5  [netscape, netscape, MediaMai, cat, hostname, ...   \n6  [virtex, virtex, virtex, virtex, virtex, virte...   \n7  [egrep, nawk, tcsh, get_acc, tcsh, cat, extrac...   \n8  [tbl, tbl, troff, sed, hostname, sed, eqn, id,...   \n9  [cat, stty, uname, ksh, cut, date, mesg, ksh, ...   \n\n                                                 147  \\\n0  [echo, echo, ksh, mkdir, sendmail, sendmail, l...   \n1  [tcpostio, tcpostio, tcpostio, cat, generic, l...   \n2  [xclock, cat, mail, csh, hostname, stty, tset,...   \n3  [pine, rsh, pine, rsh, rm, netscape, netscape,...   \n4  [postprin, cat, cat, cat, hpost, ppost, rm, ge...   \n5  [netscape, MediaMai, cat, hostname, stty, tty,...   \n6  [virtex, virtex, virtex, virtex, virtex, virte...   \n7  [nawk, tcsh, get_acc, tcsh, cat, extract_, egr...   \n8  [tbl, troff, sed, hostname, sed, eqn, id, nawk...   \n9  [stty, uname, ksh, cut, date, mesg, ksh, who, ...   \n\n                                                 148  \\\n0  [echo, ksh, mkdir, sendmail, sendmail, ls, mov...   \n1  [tcpostio, tcpostio, cat, generic, ls, generic...   \n2  [cat, mail, csh, hostname, stty, tset, resize,...   \n3  [rsh, pine, rsh, rm, netscape, netscape, ksh, ...   \n4  [cat, cat, cat, hpost, ppost, rm, generic, ln,...   \n5  [MediaMai, cat, hostname, stty, tty, sh, more,...   \n6  [virtex, virtex, virtex, virtex, virtex, virte...   \n7  [tcsh, get_acc, tcsh, cat, extract_, egrep, ks...   \n8  [troff, sed, hostname, sed, eqn, id, nawk, get...   \n9  [uname, ksh, cut, date, mesg, ksh, who, wc, cu...   \n\n                                                 149  \n0  [ksh, mkdir, sendmail, sendmail, ls, movemail,...  \n1  [tcpostio, cat, generic, ls, generic, date, ge...  \n2  [mail, csh, hostname, stty, tset, resize, move...  \n3  [pine, rsh, rm, netscape, netscape, ksh, pine,...  \n4  [cat, cat, hpost, ppost, rm, generic, ln, ln, ...  \n5  [cat, hostname, stty, tty, sh, more, sh, more,...  \n6  [virtex, virtex, virtex, virtex, virtex, virte...  \n7  [get_acc, tcsh, cat, extract_, egrep, ksh, tcs...  \n8  [sed, hostname, sed, eqn, id, nawk, getopt, tr...  \n9  [ksh, cut, date, mesg, ksh, who, wc, cut, ls, ...  \n\n[10 rows x 100 columns] with type DataFrame",
      "\nDuring handling of the above exception, another exception occurred:\n",
      "\u001b[1;31mValueError\u001b[0m                                Traceback (most recent call last)",
      "Input \u001b[1;32mIn [99]\u001b[0m, in \u001b[0;36m<cell line: 2>\u001b[1;34m()\u001b[0m\n\u001b[0;32m      1\u001b[0m submitter \u001b[38;5;241m=\u001b[39m Submitter(clf)\n\u001b[1;32m----> 2\u001b[0m \u001b[43msubmitter\u001b[49m\u001b[38;5;241;43m.\u001b[39;49m\u001b[43mevaluate_model\u001b[49m\u001b[43m(\u001b[49m\u001b[43mX\u001b[49m\u001b[43m,\u001b[49m\u001b[43m \u001b[49m\u001b[43my_seg\u001b[49m\u001b[43m,\u001b[49m\u001b[43m \u001b[49m\u001b[43my_user\u001b[49m\u001b[38;5;241;43m=\u001b[39;49m\u001b[38;5;28;43;01mNone\u001b[39;49;00m\u001b[43m,\u001b[49m\u001b[43m \u001b[49m\u001b[43mk\u001b[49m\u001b[38;5;241;43m=\u001b[39;49m\u001b[38;5;241;43m1\u001b[39;49m\u001b[43m)\u001b[49m\n",
      "Input \u001b[1;32mIn [94]\u001b[0m, in \u001b[0;36mSubmitter.evaluate_model\u001b[1;34m(self, X, y_seg, y_user, k)\u001b[0m\n\u001b[0;32m      9\u001b[0m     y_pred \u001b[38;5;241m=\u001b[39m \u001b[38;5;28mself\u001b[39m\u001b[38;5;241m.\u001b[39mmodel\u001b[38;5;241m.\u001b[39mpredict_proba(X)\n\u001b[0;32m     10\u001b[0m \u001b[38;5;28;01mexcept\u001b[39;00m:\n\u001b[1;32m---> 11\u001b[0m     y_pred \u001b[38;5;241m=\u001b[39m \u001b[38;5;28;43mself\u001b[39;49m\u001b[38;5;241;43m.\u001b[39;49m\u001b[43mmodel\u001b[49m\u001b[38;5;241;43m.\u001b[39;49m\u001b[43mpredict\u001b[49m\u001b[43m(\u001b[49m\u001b[43mX\u001b[49m\u001b[43m)\u001b[49m\n\u001b[0;32m     12\u001b[0m y_pred_seg \u001b[38;5;241m=\u001b[39m np\u001b[38;5;241m.\u001b[39marray([\u001b[38;5;241m1\u001b[39m \u001b[38;5;28;01mif\u001b[39;00m t \u001b[38;5;129;01min\u001b[39;00m p \u001b[38;5;28;01melse\u001b[39;00m \u001b[38;5;241m0\u001b[39m \u001b[38;5;28;01mfor\u001b[39;00m t, p \u001b[38;5;129;01min\u001b[39;00m \u001b[38;5;28mzip\u001b[39m(y_user, get_top_k_classes(y_pred, k))]) \u001b[38;5;28;01mif\u001b[39;00m y_user \u001b[38;5;129;01mis\u001b[39;00m \u001b[38;5;129;01mnot\u001b[39;00m \u001b[38;5;28;01mNone\u001b[39;00m \u001b[38;5;28;01melse\u001b[39;00m y_pred\n\u001b[0;32m     13\u001b[0m get_metrics(y_seg, y_pred_seg)\n",
      "File \u001b[1;32m~\\.conda\\envs\\dl\\lib\\site-packages\\keras\\engine\\training.py:1720\u001b[0m, in \u001b[0;36mModel.predict\u001b[1;34m(self, x, batch_size, verbose, steps, callbacks, max_queue_size, workers, use_multiprocessing)\u001b[0m\n\u001b[0;32m   1714\u001b[0m   \u001b[38;5;28;01mexcept\u001b[39;00m \u001b[38;5;167;01mValueError\u001b[39;00m:\n\u001b[0;32m   1715\u001b[0m     warnings\u001b[38;5;241m.\u001b[39mwarn(\u001b[38;5;124m'\u001b[39m\u001b[38;5;124mUsing Model.predict with \u001b[39m\u001b[38;5;124m'\u001b[39m\n\u001b[0;32m   1716\u001b[0m                   \u001b[38;5;124m'\u001b[39m\u001b[38;5;124mMultiWorkerDistributionStrategy or TPUStrategy and \u001b[39m\u001b[38;5;124m'\u001b[39m\n\u001b[0;32m   1717\u001b[0m                   \u001b[38;5;124m'\u001b[39m\u001b[38;5;124mAutoShardPolicy.FILE might lead to out-of-order result\u001b[39m\u001b[38;5;124m'\u001b[39m\n\u001b[0;32m   1718\u001b[0m                   \u001b[38;5;124m'\u001b[39m\u001b[38;5;124m. Consider setting it to AutoShardPolicy.DATA.\u001b[39m\u001b[38;5;124m'\u001b[39m)\n\u001b[1;32m-> 1720\u001b[0m data_handler \u001b[38;5;241m=\u001b[39m \u001b[43mdata_adapter\u001b[49m\u001b[38;5;241;43m.\u001b[39;49m\u001b[43mget_data_handler\u001b[49m\u001b[43m(\u001b[49m\n\u001b[0;32m   1721\u001b[0m \u001b[43m    \u001b[49m\u001b[43mx\u001b[49m\u001b[38;5;241;43m=\u001b[39;49m\u001b[43mx\u001b[49m\u001b[43m,\u001b[49m\n\u001b[0;32m   1722\u001b[0m \u001b[43m    \u001b[49m\u001b[43mbatch_size\u001b[49m\u001b[38;5;241;43m=\u001b[39;49m\u001b[43mbatch_size\u001b[49m\u001b[43m,\u001b[49m\n\u001b[0;32m   1723\u001b[0m \u001b[43m    \u001b[49m\u001b[43msteps_per_epoch\u001b[49m\u001b[38;5;241;43m=\u001b[39;49m\u001b[43msteps\u001b[49m\u001b[43m,\u001b[49m\n\u001b[0;32m   1724\u001b[0m \u001b[43m    \u001b[49m\u001b[43minitial_epoch\u001b[49m\u001b[38;5;241;43m=\u001b[39;49m\u001b[38;5;241;43m0\u001b[39;49m\u001b[43m,\u001b[49m\n\u001b[0;32m   1725\u001b[0m \u001b[43m    \u001b[49m\u001b[43mepochs\u001b[49m\u001b[38;5;241;43m=\u001b[39;49m\u001b[38;5;241;43m1\u001b[39;49m\u001b[43m,\u001b[49m\n\u001b[0;32m   1726\u001b[0m \u001b[43m    \u001b[49m\u001b[43mmax_queue_size\u001b[49m\u001b[38;5;241;43m=\u001b[39;49m\u001b[43mmax_queue_size\u001b[49m\u001b[43m,\u001b[49m\n\u001b[0;32m   1727\u001b[0m \u001b[43m    \u001b[49m\u001b[43mworkers\u001b[49m\u001b[38;5;241;43m=\u001b[39;49m\u001b[43mworkers\u001b[49m\u001b[43m,\u001b[49m\n\u001b[0;32m   1728\u001b[0m \u001b[43m    \u001b[49m\u001b[43muse_multiprocessing\u001b[49m\u001b[38;5;241;43m=\u001b[39;49m\u001b[43muse_multiprocessing\u001b[49m\u001b[43m,\u001b[49m\n\u001b[0;32m   1729\u001b[0m \u001b[43m    \u001b[49m\u001b[43mmodel\u001b[49m\u001b[38;5;241;43m=\u001b[39;49m\u001b[38;5;28;43mself\u001b[39;49m\u001b[43m,\u001b[49m\n\u001b[0;32m   1730\u001b[0m \u001b[43m    \u001b[49m\u001b[43msteps_per_execution\u001b[49m\u001b[38;5;241;43m=\u001b[39;49m\u001b[38;5;28;43mself\u001b[39;49m\u001b[38;5;241;43m.\u001b[39;49m\u001b[43m_steps_per_execution\u001b[49m\u001b[43m)\u001b[49m\n\u001b[0;32m   1732\u001b[0m \u001b[38;5;66;03m# Container that configures and calls `tf.keras.Callback`s.\u001b[39;00m\n\u001b[0;32m   1733\u001b[0m \u001b[38;5;28;01mif\u001b[39;00m \u001b[38;5;129;01mnot\u001b[39;00m \u001b[38;5;28misinstance\u001b[39m(callbacks, callbacks_module\u001b[38;5;241m.\u001b[39mCallbackList):\n",
      "File \u001b[1;32m~\\.conda\\envs\\dl\\lib\\site-packages\\keras\\engine\\data_adapter.py:1383\u001b[0m, in \u001b[0;36mget_data_handler\u001b[1;34m(*args, **kwargs)\u001b[0m\n\u001b[0;32m   1381\u001b[0m \u001b[38;5;28;01mif\u001b[39;00m \u001b[38;5;28mgetattr\u001b[39m(kwargs[\u001b[38;5;124m\"\u001b[39m\u001b[38;5;124mmodel\u001b[39m\u001b[38;5;124m\"\u001b[39m], \u001b[38;5;124m\"\u001b[39m\u001b[38;5;124m_cluster_coordinator\u001b[39m\u001b[38;5;124m\"\u001b[39m, \u001b[38;5;28;01mNone\u001b[39;00m):\n\u001b[0;32m   1382\u001b[0m   \u001b[38;5;28;01mreturn\u001b[39;00m _ClusterCoordinatorDataHandler(\u001b[38;5;241m*\u001b[39margs, \u001b[38;5;241m*\u001b[39m\u001b[38;5;241m*\u001b[39mkwargs)\n\u001b[1;32m-> 1383\u001b[0m \u001b[38;5;28;01mreturn\u001b[39;00m DataHandler(\u001b[38;5;241m*\u001b[39margs, \u001b[38;5;241m*\u001b[39m\u001b[38;5;241m*\u001b[39mkwargs)\n",
      "File \u001b[1;32m~\\.conda\\envs\\dl\\lib\\site-packages\\keras\\engine\\data_adapter.py:1138\u001b[0m, in \u001b[0;36mDataHandler.__init__\u001b[1;34m(self, x, y, sample_weight, batch_size, steps_per_epoch, initial_epoch, epochs, shuffle, class_weight, max_queue_size, workers, use_multiprocessing, model, steps_per_execution, distribute)\u001b[0m\n\u001b[0;32m   1135\u001b[0m   \u001b[38;5;28mself\u001b[39m\u001b[38;5;241m.\u001b[39m_steps_per_execution_value \u001b[38;5;241m=\u001b[39m steps_per_execution\u001b[38;5;241m.\u001b[39mnumpy()\u001b[38;5;241m.\u001b[39mitem()\n\u001b[0;32m   1137\u001b[0m adapter_cls \u001b[38;5;241m=\u001b[39m select_data_adapter(x, y)\n\u001b[1;32m-> 1138\u001b[0m \u001b[38;5;28mself\u001b[39m\u001b[38;5;241m.\u001b[39m_adapter \u001b[38;5;241m=\u001b[39m \u001b[43madapter_cls\u001b[49m\u001b[43m(\u001b[49m\n\u001b[0;32m   1139\u001b[0m \u001b[43m    \u001b[49m\u001b[43mx\u001b[49m\u001b[43m,\u001b[49m\n\u001b[0;32m   1140\u001b[0m \u001b[43m    \u001b[49m\u001b[43my\u001b[49m\u001b[43m,\u001b[49m\n\u001b[0;32m   1141\u001b[0m \u001b[43m    \u001b[49m\u001b[43mbatch_size\u001b[49m\u001b[38;5;241;43m=\u001b[39;49m\u001b[43mbatch_size\u001b[49m\u001b[43m,\u001b[49m\n\u001b[0;32m   1142\u001b[0m \u001b[43m    \u001b[49m\u001b[43msteps\u001b[49m\u001b[38;5;241;43m=\u001b[39;49m\u001b[43msteps_per_epoch\u001b[49m\u001b[43m,\u001b[49m\n\u001b[0;32m   1143\u001b[0m \u001b[43m    \u001b[49m\u001b[43mepochs\u001b[49m\u001b[38;5;241;43m=\u001b[39;49m\u001b[43mepochs\u001b[49m\u001b[43m \u001b[49m\u001b[38;5;241;43m-\u001b[39;49m\u001b[43m \u001b[49m\u001b[43minitial_epoch\u001b[49m\u001b[43m,\u001b[49m\n\u001b[0;32m   1144\u001b[0m \u001b[43m    \u001b[49m\u001b[43msample_weights\u001b[49m\u001b[38;5;241;43m=\u001b[39;49m\u001b[43msample_weight\u001b[49m\u001b[43m,\u001b[49m\n\u001b[0;32m   1145\u001b[0m \u001b[43m    \u001b[49m\u001b[43mshuffle\u001b[49m\u001b[38;5;241;43m=\u001b[39;49m\u001b[43mshuffle\u001b[49m\u001b[43m,\u001b[49m\n\u001b[0;32m   1146\u001b[0m \u001b[43m    \u001b[49m\u001b[43mmax_queue_size\u001b[49m\u001b[38;5;241;43m=\u001b[39;49m\u001b[43mmax_queue_size\u001b[49m\u001b[43m,\u001b[49m\n\u001b[0;32m   1147\u001b[0m \u001b[43m    \u001b[49m\u001b[43mworkers\u001b[49m\u001b[38;5;241;43m=\u001b[39;49m\u001b[43mworkers\u001b[49m\u001b[43m,\u001b[49m\n\u001b[0;32m   1148\u001b[0m \u001b[43m    \u001b[49m\u001b[43muse_multiprocessing\u001b[49m\u001b[38;5;241;43m=\u001b[39;49m\u001b[43muse_multiprocessing\u001b[49m\u001b[43m,\u001b[49m\n\u001b[0;32m   1149\u001b[0m \u001b[43m    \u001b[49m\u001b[43mdistribution_strategy\u001b[49m\u001b[38;5;241;43m=\u001b[39;49m\u001b[43mtf\u001b[49m\u001b[38;5;241;43m.\u001b[39;49m\u001b[43mdistribute\u001b[49m\u001b[38;5;241;43m.\u001b[39;49m\u001b[43mget_strategy\u001b[49m\u001b[43m(\u001b[49m\u001b[43m)\u001b[49m\u001b[43m,\u001b[49m\n\u001b[0;32m   1150\u001b[0m \u001b[43m    \u001b[49m\u001b[43mmodel\u001b[49m\u001b[38;5;241;43m=\u001b[39;49m\u001b[43mmodel\u001b[49m\u001b[43m)\u001b[49m\n\u001b[0;32m   1152\u001b[0m strategy \u001b[38;5;241m=\u001b[39m tf\u001b[38;5;241m.\u001b[39mdistribute\u001b[38;5;241m.\u001b[39mget_strategy()\n\u001b[0;32m   1154\u001b[0m \u001b[38;5;28mself\u001b[39m\u001b[38;5;241m.\u001b[39m_current_step \u001b[38;5;241m=\u001b[39m \u001b[38;5;241m0\u001b[39m\n",
      "File \u001b[1;32m~\\.conda\\envs\\dl\\lib\\site-packages\\keras\\engine\\data_adapter.py:322\u001b[0m, in \u001b[0;36mTensorLikeDataAdapter.__init__\u001b[1;34m(self, x, y, sample_weights, sample_weight_modes, batch_size, epochs, steps, shuffle, **kwargs)\u001b[0m\n\u001b[0;32m    318\u001b[0m   \u001b[38;5;28;01mreturn\u001b[39;00m flat_dataset\n\u001b[0;32m    320\u001b[0m indices_dataset \u001b[38;5;241m=\u001b[39m indices_dataset\u001b[38;5;241m.\u001b[39mflat_map(slice_batch_indices)\n\u001b[1;32m--> 322\u001b[0m dataset \u001b[38;5;241m=\u001b[39m \u001b[38;5;28;43mself\u001b[39;49m\u001b[38;5;241;43m.\u001b[39;49m\u001b[43mslice_inputs\u001b[49m\u001b[43m(\u001b[49m\u001b[43mindices_dataset\u001b[49m\u001b[43m,\u001b[49m\u001b[43m \u001b[49m\u001b[43minputs\u001b[49m\u001b[43m)\u001b[49m\n\u001b[0;32m    324\u001b[0m \u001b[38;5;28;01mif\u001b[39;00m shuffle \u001b[38;5;241m==\u001b[39m \u001b[38;5;124m\"\u001b[39m\u001b[38;5;124mbatch\u001b[39m\u001b[38;5;124m\"\u001b[39m:\n\u001b[0;32m    325\u001b[0m   \u001b[38;5;28;01mdef\u001b[39;00m \u001b[38;5;21mshuffle_batch\u001b[39m(\u001b[38;5;241m*\u001b[39mbatch):\n",
      "File \u001b[1;32m~\\.conda\\envs\\dl\\lib\\site-packages\\keras\\engine\\data_adapter.py:348\u001b[0m, in \u001b[0;36mTensorLikeDataAdapter.slice_inputs\u001b[1;34m(self, indices_dataset, inputs)\u001b[0m\n\u001b[0;32m    331\u001b[0m \u001b[38;5;28;01mdef\u001b[39;00m \u001b[38;5;21mslice_inputs\u001b[39m(\u001b[38;5;28mself\u001b[39m, indices_dataset, inputs):\n\u001b[0;32m    332\u001b[0m   \u001b[38;5;124;03m\"\"\"Slice inputs into a Dataset of batches.\u001b[39;00m\n\u001b[0;32m    333\u001b[0m \n\u001b[0;32m    334\u001b[0m \u001b[38;5;124;03m  Given a Dataset of batch indices and the unsliced inputs,\u001b[39;00m\n\u001b[1;32m   (...)\u001b[0m\n\u001b[0;32m    344\u001b[0m \u001b[38;5;124;03m    A Dataset of input batches matching the batch indices.\u001b[39;00m\n\u001b[0;32m    345\u001b[0m \u001b[38;5;124;03m  \"\"\"\u001b[39;00m\n\u001b[0;32m    346\u001b[0m   dataset \u001b[38;5;241m=\u001b[39m tf\u001b[38;5;241m.\u001b[39mdata\u001b[38;5;241m.\u001b[39mDataset\u001b[38;5;241m.\u001b[39mzip((\n\u001b[0;32m    347\u001b[0m       indices_dataset,\n\u001b[1;32m--> 348\u001b[0m       \u001b[43mtf\u001b[49m\u001b[38;5;241;43m.\u001b[39;49m\u001b[43mdata\u001b[49m\u001b[38;5;241;43m.\u001b[39;49m\u001b[43mDataset\u001b[49m\u001b[38;5;241;43m.\u001b[39;49m\u001b[43mfrom_tensors\u001b[49m\u001b[43m(\u001b[49m\u001b[43minputs\u001b[49m\u001b[43m)\u001b[49m\u001b[38;5;241m.\u001b[39mrepeat()\n\u001b[0;32m    349\u001b[0m   ))\n\u001b[0;32m    351\u001b[0m   \u001b[38;5;28;01mdef\u001b[39;00m \u001b[38;5;21mgrab_batch\u001b[39m(i, data):\n\u001b[0;32m    352\u001b[0m     \u001b[38;5;28;01mreturn\u001b[39;00m tf\u001b[38;5;241m.\u001b[39mnest\u001b[38;5;241m.\u001b[39mmap_structure(\u001b[38;5;28;01mlambda\u001b[39;00m d: tf\u001b[38;5;241m.\u001b[39mgather(d, i, axis\u001b[38;5;241m=\u001b[39m\u001b[38;5;241m0\u001b[39m), data)\n",
      "File \u001b[1;32m~\\.conda\\envs\\dl\\lib\\site-packages\\tensorflow\\python\\data\\ops\\dataset_ops.py:606\u001b[0m, in \u001b[0;36mDatasetV2.from_tensors\u001b[1;34m(tensors)\u001b[0m\n\u001b[0;32m    570\u001b[0m \u001b[38;5;129m@staticmethod\u001b[39m\n\u001b[0;32m    571\u001b[0m \u001b[38;5;28;01mdef\u001b[39;00m \u001b[38;5;21mfrom_tensors\u001b[39m(tensors):\n\u001b[0;32m    572\u001b[0m   \u001b[38;5;124;03m\"\"\"Creates a `Dataset` with a single element, comprising the given tensors.\u001b[39;00m\n\u001b[0;32m    573\u001b[0m \n\u001b[0;32m    574\u001b[0m \u001b[38;5;124;03m  `from_tensors` produces a dataset containing only a single element. To slice\u001b[39;00m\n\u001b[1;32m   (...)\u001b[0m\n\u001b[0;32m    604\u001b[0m \u001b[38;5;124;03m    Dataset: A `Dataset`.\u001b[39;00m\n\u001b[0;32m    605\u001b[0m \u001b[38;5;124;03m  \"\"\"\u001b[39;00m\n\u001b[1;32m--> 606\u001b[0m   \u001b[38;5;28;01mreturn\u001b[39;00m \u001b[43mTensorDataset\u001b[49m\u001b[43m(\u001b[49m\u001b[43mtensors\u001b[49m\u001b[43m)\u001b[49m\n",
      "File \u001b[1;32m~\\.conda\\envs\\dl\\lib\\site-packages\\tensorflow\\python\\data\\ops\\dataset_ops.py:3825\u001b[0m, in \u001b[0;36mTensorDataset.__init__\u001b[1;34m(self, element)\u001b[0m\n\u001b[0;32m   3823\u001b[0m \u001b[38;5;28;01mdef\u001b[39;00m \u001b[38;5;21m__init__\u001b[39m(\u001b[38;5;28mself\u001b[39m, element):\n\u001b[0;32m   3824\u001b[0m   \u001b[38;5;124;03m\"\"\"See `Dataset.from_tensors()` for details.\"\"\"\u001b[39;00m\n\u001b[1;32m-> 3825\u001b[0m   element \u001b[38;5;241m=\u001b[39m \u001b[43mstructure\u001b[49m\u001b[38;5;241;43m.\u001b[39;49m\u001b[43mnormalize_element\u001b[49m\u001b[43m(\u001b[49m\u001b[43melement\u001b[49m\u001b[43m)\u001b[49m\n\u001b[0;32m   3826\u001b[0m   \u001b[38;5;28mself\u001b[39m\u001b[38;5;241m.\u001b[39m_structure \u001b[38;5;241m=\u001b[39m structure\u001b[38;5;241m.\u001b[39mtype_spec_from_value(element)\n\u001b[0;32m   3827\u001b[0m   \u001b[38;5;28mself\u001b[39m\u001b[38;5;241m.\u001b[39m_tensors \u001b[38;5;241m=\u001b[39m structure\u001b[38;5;241m.\u001b[39mto_tensor_list(\u001b[38;5;28mself\u001b[39m\u001b[38;5;241m.\u001b[39m_structure, element)\n",
      "File \u001b[1;32m~\\.conda\\envs\\dl\\lib\\site-packages\\tensorflow\\python\\data\\util\\structure.py:111\u001b[0m, in \u001b[0;36mnormalize_element\u001b[1;34m(element, element_signature)\u001b[0m\n\u001b[0;32m    106\u001b[0m     spec \u001b[38;5;241m=\u001b[39m type_spec_from_value(t, use_fallback\u001b[38;5;241m=\u001b[39m\u001b[38;5;28;01mFalse\u001b[39;00m)\n\u001b[0;32m    107\u001b[0m \u001b[38;5;28;01mexcept\u001b[39;00m \u001b[38;5;167;01mTypeError\u001b[39;00m:\n\u001b[0;32m    108\u001b[0m   \u001b[38;5;66;03m# TypeError indicates it was not possible to compute a `TypeSpec` for\u001b[39;00m\n\u001b[0;32m    109\u001b[0m   \u001b[38;5;66;03m# the value. As a fallback try converting the value to a tensor.\u001b[39;00m\n\u001b[0;32m    110\u001b[0m   normalized_components\u001b[38;5;241m.\u001b[39mappend(\n\u001b[1;32m--> 111\u001b[0m       \u001b[43mops\u001b[49m\u001b[38;5;241;43m.\u001b[39;49m\u001b[43mconvert_to_tensor\u001b[49m\u001b[43m(\u001b[49m\u001b[43mt\u001b[49m\u001b[43m,\u001b[49m\u001b[43m \u001b[49m\u001b[43mname\u001b[49m\u001b[38;5;241;43m=\u001b[39;49m\u001b[38;5;124;43m\"\u001b[39;49m\u001b[38;5;124;43mcomponent_\u001b[39;49m\u001b[38;5;132;43;01m%d\u001b[39;49;00m\u001b[38;5;124;43m\"\u001b[39;49m\u001b[43m \u001b[49m\u001b[38;5;241;43m%\u001b[39;49m\u001b[43m \u001b[49m\u001b[43mi\u001b[49m\u001b[43m)\u001b[49m)\n\u001b[0;32m    112\u001b[0m \u001b[38;5;28;01melse\u001b[39;00m:\n\u001b[0;32m    113\u001b[0m   \u001b[38;5;28;01mif\u001b[39;00m \u001b[38;5;28misinstance\u001b[39m(spec, sparse_tensor\u001b[38;5;241m.\u001b[39mSparseTensorSpec):\n",
      "File \u001b[1;32m~\\.conda\\envs\\dl\\lib\\site-packages\\tensorflow\\python\\profiler\\trace.py:163\u001b[0m, in \u001b[0;36mtrace_wrapper.<locals>.inner_wrapper.<locals>.wrapped\u001b[1;34m(*args, **kwargs)\u001b[0m\n\u001b[0;32m    161\u001b[0m   \u001b[38;5;28;01mwith\u001b[39;00m Trace(trace_name, \u001b[38;5;241m*\u001b[39m\u001b[38;5;241m*\u001b[39mtrace_kwargs):\n\u001b[0;32m    162\u001b[0m     \u001b[38;5;28;01mreturn\u001b[39;00m func(\u001b[38;5;241m*\u001b[39margs, \u001b[38;5;241m*\u001b[39m\u001b[38;5;241m*\u001b[39mkwargs)\n\u001b[1;32m--> 163\u001b[0m \u001b[38;5;28;01mreturn\u001b[39;00m func(\u001b[38;5;241m*\u001b[39margs, \u001b[38;5;241m*\u001b[39m\u001b[38;5;241m*\u001b[39mkwargs)\n",
      "File \u001b[1;32m~\\.conda\\envs\\dl\\lib\\site-packages\\tensorflow\\python\\framework\\ops.py:1566\u001b[0m, in \u001b[0;36mconvert_to_tensor\u001b[1;34m(value, dtype, name, as_ref, preferred_dtype, dtype_hint, ctx, accepted_result_types)\u001b[0m\n\u001b[0;32m   1561\u001b[0m       \u001b[38;5;28;01mraise\u001b[39;00m \u001b[38;5;167;01mTypeError\u001b[39;00m(\u001b[38;5;124m\"\u001b[39m\u001b[38;5;124mconvert_to_tensor did not convert to \u001b[39m\u001b[38;5;124m\"\u001b[39m\n\u001b[0;32m   1562\u001b[0m                       \u001b[38;5;124m\"\u001b[39m\u001b[38;5;124mthe preferred dtype: \u001b[39m\u001b[38;5;132;01m%s\u001b[39;00m\u001b[38;5;124m vs \u001b[39m\u001b[38;5;132;01m%s\u001b[39;00m\u001b[38;5;124m \u001b[39m\u001b[38;5;124m\"\u001b[39m \u001b[38;5;241m%\u001b[39m\n\u001b[0;32m   1563\u001b[0m                       (ret\u001b[38;5;241m.\u001b[39mdtype\u001b[38;5;241m.\u001b[39mbase_dtype, preferred_dtype\u001b[38;5;241m.\u001b[39mbase_dtype))\n\u001b[0;32m   1565\u001b[0m \u001b[38;5;28;01mif\u001b[39;00m ret \u001b[38;5;129;01mis\u001b[39;00m \u001b[38;5;28;01mNone\u001b[39;00m:\n\u001b[1;32m-> 1566\u001b[0m   ret \u001b[38;5;241m=\u001b[39m \u001b[43mconversion_func\u001b[49m\u001b[43m(\u001b[49m\u001b[43mvalue\u001b[49m\u001b[43m,\u001b[49m\u001b[43m \u001b[49m\u001b[43mdtype\u001b[49m\u001b[38;5;241;43m=\u001b[39;49m\u001b[43mdtype\u001b[49m\u001b[43m,\u001b[49m\u001b[43m \u001b[49m\u001b[43mname\u001b[49m\u001b[38;5;241;43m=\u001b[39;49m\u001b[43mname\u001b[49m\u001b[43m,\u001b[49m\u001b[43m \u001b[49m\u001b[43mas_ref\u001b[49m\u001b[38;5;241;43m=\u001b[39;49m\u001b[43mas_ref\u001b[49m\u001b[43m)\u001b[49m\n\u001b[0;32m   1568\u001b[0m \u001b[38;5;28;01mif\u001b[39;00m ret \u001b[38;5;129;01mis\u001b[39;00m \u001b[38;5;28mNotImplemented\u001b[39m:\n\u001b[0;32m   1569\u001b[0m   \u001b[38;5;28;01mcontinue\u001b[39;00m\n",
      "File \u001b[1;32m~\\.conda\\envs\\dl\\lib\\site-packages\\tensorflow\\python\\framework\\constant_op.py:346\u001b[0m, in \u001b[0;36m_constant_tensor_conversion_function\u001b[1;34m(v, dtype, name, as_ref)\u001b[0m\n\u001b[0;32m    343\u001b[0m \u001b[38;5;28;01mdef\u001b[39;00m \u001b[38;5;21m_constant_tensor_conversion_function\u001b[39m(v, dtype\u001b[38;5;241m=\u001b[39m\u001b[38;5;28;01mNone\u001b[39;00m, name\u001b[38;5;241m=\u001b[39m\u001b[38;5;28;01mNone\u001b[39;00m,\n\u001b[0;32m    344\u001b[0m                                          as_ref\u001b[38;5;241m=\u001b[39m\u001b[38;5;28;01mFalse\u001b[39;00m):\n\u001b[0;32m    345\u001b[0m   _ \u001b[38;5;241m=\u001b[39m as_ref\n\u001b[1;32m--> 346\u001b[0m   \u001b[38;5;28;01mreturn\u001b[39;00m \u001b[43mconstant\u001b[49m\u001b[43m(\u001b[49m\u001b[43mv\u001b[49m\u001b[43m,\u001b[49m\u001b[43m \u001b[49m\u001b[43mdtype\u001b[49m\u001b[38;5;241;43m=\u001b[39;49m\u001b[43mdtype\u001b[49m\u001b[43m,\u001b[49m\u001b[43m \u001b[49m\u001b[43mname\u001b[49m\u001b[38;5;241;43m=\u001b[39;49m\u001b[43mname\u001b[49m\u001b[43m)\u001b[49m\n",
      "File \u001b[1;32m~\\.conda\\envs\\dl\\lib\\site-packages\\tensorflow\\python\\framework\\constant_op.py:271\u001b[0m, in \u001b[0;36mconstant\u001b[1;34m(value, dtype, shape, name)\u001b[0m\n\u001b[0;32m    174\u001b[0m \u001b[38;5;129m@tf_export\u001b[39m(\u001b[38;5;124m\"\u001b[39m\u001b[38;5;124mconstant\u001b[39m\u001b[38;5;124m\"\u001b[39m, v1\u001b[38;5;241m=\u001b[39m[])\n\u001b[0;32m    175\u001b[0m \u001b[38;5;28;01mdef\u001b[39;00m \u001b[38;5;21mconstant\u001b[39m(value, dtype\u001b[38;5;241m=\u001b[39m\u001b[38;5;28;01mNone\u001b[39;00m, shape\u001b[38;5;241m=\u001b[39m\u001b[38;5;28;01mNone\u001b[39;00m, name\u001b[38;5;241m=\u001b[39m\u001b[38;5;124m\"\u001b[39m\u001b[38;5;124mConst\u001b[39m\u001b[38;5;124m\"\u001b[39m):\n\u001b[0;32m    176\u001b[0m   \u001b[38;5;124;03m\"\"\"Creates a constant tensor from a tensor-like object.\u001b[39;00m\n\u001b[0;32m    177\u001b[0m \n\u001b[0;32m    178\u001b[0m \u001b[38;5;124;03m  Note: All eager `tf.Tensor` values are immutable (in contrast to\u001b[39;00m\n\u001b[1;32m   (...)\u001b[0m\n\u001b[0;32m    269\u001b[0m \u001b[38;5;124;03m    ValueError: if called on a symbolic tensor.\u001b[39;00m\n\u001b[0;32m    270\u001b[0m \u001b[38;5;124;03m  \"\"\"\u001b[39;00m\n\u001b[1;32m--> 271\u001b[0m   \u001b[38;5;28;01mreturn\u001b[39;00m \u001b[43m_constant_impl\u001b[49m\u001b[43m(\u001b[49m\u001b[43mvalue\u001b[49m\u001b[43m,\u001b[49m\u001b[43m \u001b[49m\u001b[43mdtype\u001b[49m\u001b[43m,\u001b[49m\u001b[43m \u001b[49m\u001b[43mshape\u001b[49m\u001b[43m,\u001b[49m\u001b[43m \u001b[49m\u001b[43mname\u001b[49m\u001b[43m,\u001b[49m\u001b[43m \u001b[49m\u001b[43mverify_shape\u001b[49m\u001b[38;5;241;43m=\u001b[39;49m\u001b[38;5;28;43;01mFalse\u001b[39;49;00m\u001b[43m,\u001b[49m\n\u001b[0;32m    272\u001b[0m \u001b[43m                        \u001b[49m\u001b[43mallow_broadcast\u001b[49m\u001b[38;5;241;43m=\u001b[39;49m\u001b[38;5;28;43;01mTrue\u001b[39;49;00m\u001b[43m)\u001b[49m\n",
      "File \u001b[1;32m~\\.conda\\envs\\dl\\lib\\site-packages\\tensorflow\\python\\framework\\constant_op.py:283\u001b[0m, in \u001b[0;36m_constant_impl\u001b[1;34m(value, dtype, shape, name, verify_shape, allow_broadcast)\u001b[0m\n\u001b[0;32m    281\u001b[0m     \u001b[38;5;28;01mwith\u001b[39;00m trace\u001b[38;5;241m.\u001b[39mTrace(\u001b[38;5;124m\"\u001b[39m\u001b[38;5;124mtf.constant\u001b[39m\u001b[38;5;124m\"\u001b[39m):\n\u001b[0;32m    282\u001b[0m       \u001b[38;5;28;01mreturn\u001b[39;00m _constant_eager_impl(ctx, value, dtype, shape, verify_shape)\n\u001b[1;32m--> 283\u001b[0m   \u001b[38;5;28;01mreturn\u001b[39;00m \u001b[43m_constant_eager_impl\u001b[49m\u001b[43m(\u001b[49m\u001b[43mctx\u001b[49m\u001b[43m,\u001b[49m\u001b[43m \u001b[49m\u001b[43mvalue\u001b[49m\u001b[43m,\u001b[49m\u001b[43m \u001b[49m\u001b[43mdtype\u001b[49m\u001b[43m,\u001b[49m\u001b[43m \u001b[49m\u001b[43mshape\u001b[49m\u001b[43m,\u001b[49m\u001b[43m \u001b[49m\u001b[43mverify_shape\u001b[49m\u001b[43m)\u001b[49m\n\u001b[0;32m    285\u001b[0m g \u001b[38;5;241m=\u001b[39m ops\u001b[38;5;241m.\u001b[39mget_default_graph()\n\u001b[0;32m    286\u001b[0m tensor_value \u001b[38;5;241m=\u001b[39m attr_value_pb2\u001b[38;5;241m.\u001b[39mAttrValue()\n",
      "File \u001b[1;32m~\\.conda\\envs\\dl\\lib\\site-packages\\tensorflow\\python\\framework\\constant_op.py:308\u001b[0m, in \u001b[0;36m_constant_eager_impl\u001b[1;34m(ctx, value, dtype, shape, verify_shape)\u001b[0m\n\u001b[0;32m    306\u001b[0m \u001b[38;5;28;01mdef\u001b[39;00m \u001b[38;5;21m_constant_eager_impl\u001b[39m(ctx, value, dtype, shape, verify_shape):\n\u001b[0;32m    307\u001b[0m   \u001b[38;5;124;03m\"\"\"Creates a constant on the current device.\"\"\"\u001b[39;00m\n\u001b[1;32m--> 308\u001b[0m   t \u001b[38;5;241m=\u001b[39m \u001b[43mconvert_to_eager_tensor\u001b[49m\u001b[43m(\u001b[49m\u001b[43mvalue\u001b[49m\u001b[43m,\u001b[49m\u001b[43m \u001b[49m\u001b[43mctx\u001b[49m\u001b[43m,\u001b[49m\u001b[43m \u001b[49m\u001b[43mdtype\u001b[49m\u001b[43m)\u001b[49m\n\u001b[0;32m    309\u001b[0m   \u001b[38;5;28;01mif\u001b[39;00m shape \u001b[38;5;129;01mis\u001b[39;00m \u001b[38;5;28;01mNone\u001b[39;00m:\n\u001b[0;32m    310\u001b[0m     \u001b[38;5;28;01mreturn\u001b[39;00m t\n",
      "File \u001b[1;32m~\\.conda\\envs\\dl\\lib\\site-packages\\tensorflow\\python\\framework\\constant_op.py:106\u001b[0m, in \u001b[0;36mconvert_to_eager_tensor\u001b[1;34m(value, ctx, dtype)\u001b[0m\n\u001b[0;32m    104\u001b[0m     dtype \u001b[38;5;241m=\u001b[39m dtypes\u001b[38;5;241m.\u001b[39mas_dtype(dtype)\u001b[38;5;241m.\u001b[39mas_datatype_enum\n\u001b[0;32m    105\u001b[0m ctx\u001b[38;5;241m.\u001b[39mensure_initialized()\n\u001b[1;32m--> 106\u001b[0m \u001b[38;5;28;01mreturn\u001b[39;00m \u001b[43mops\u001b[49m\u001b[38;5;241;43m.\u001b[39;49m\u001b[43mEagerTensor\u001b[49m\u001b[43m(\u001b[49m\u001b[43mvalue\u001b[49m\u001b[43m,\u001b[49m\u001b[43m \u001b[49m\u001b[43mctx\u001b[49m\u001b[38;5;241;43m.\u001b[39;49m\u001b[43mdevice_name\u001b[49m\u001b[43m,\u001b[49m\u001b[43m \u001b[49m\u001b[43mdtype\u001b[49m\u001b[43m)\u001b[49m\n",
      "\u001b[1;31mValueError\u001b[0m: Failed to convert a NumPy array to a Tensor (Unsupported object type list)."
     ]
    }
   ],
   "source": [
    "submitter = Submitter(clf)\n",
    "submitter.evaluate_model(X, y_seg, y_user=None, k=1)"
   ]
  },
  {
   "cell_type": "code",
   "execution_count": null,
   "id": "c34aee6a-de7a-496a-8c6e-040781aea46e",
   "metadata": {},
   "outputs": [],
   "source": []
  }
 ],
 "metadata": {
  "kernelspec": {
   "display_name": "Python [conda env:.conda-dl] *",
   "language": "python",
   "name": "conda-env-.conda-dl-py"
  },
  "language_info": {
   "codemirror_mode": {
    "name": "ipython",
    "version": 3
   },
   "file_extension": ".py",
   "mimetype": "text/x-python",
   "name": "python",
   "nbconvert_exporter": "python",
   "pygments_lexer": "ipython3",
   "version": "3.9.12"
  }
 },
 "nbformat": 4,
 "nbformat_minor": 5
}
