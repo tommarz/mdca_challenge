{
 "cells": [
  {
   "cell_type": "code",
   "execution_count": 1,
   "metadata": {},
   "outputs": [],
   "source": [
    "import gensim\n",
    "from gensim.models import Word2Vec, FastText\n",
    "# import tensorflow\n",
    "from sklearn.feature_extraction.text import TfidfVectorizer\n",
    "import pandas as pd"
   ]
  },
  {
   "cell_type": "code",
   "execution_count": 2,
   "metadata": {},
   "outputs": [],
   "source": [
    "TRAIN = 5000\n",
    "SEG_SIZE = 100\n",
    "TRAIN_SEG = round(TRAIN / SEG_SIZE)\n",
    "LABELED_USERS = 10\n",
    "EMBEDDING_DIM = 128\n",
    "DATA_PATH = 'FraudedRawData'"
   ]
  },
  {
   "cell_type": "code",
   "execution_count": 3,
   "metadata": {},
   "outputs": [],
   "source": [
    "def create_embeddings(sentences, vector_size=128, window=5):\n",
    "    model = FastText(sentences=sentences, vector_size=vector_size, window=window)\n",
    "    model.save(\"fasttext.model\")\n",
    "    return model"
   ]
  },
  {
   "cell_type": "code",
   "execution_count": 4,
   "metadata": {},
   "outputs": [],
   "source": [
    "def load_user_data(dir_path=DATA_PATH):\n",
    "    df = pd.DataFrame()\n",
    "    for i in range(40):\n",
    "        tmp = pd.read_csv(dir_path + '/User' + str(i), sep=' ', header=None)\n",
    "        df = pd.concat([df, tmp], axis=1)\n",
    "    df = df.T.reset_index(drop=True)\n",
    "    seg_df = pd.DataFrame()\n",
    "    for i in range(150):\n",
    "        seg_df = pd.concat([seg_df, df.iloc[:, i*100:i*100 + 100].apply(lambda x: \",\".join(x.astype(str)).split(','), axis=1)],\n",
    "                           axis=1, names=[str(i)])\n",
    "    seg_df = seg_df.T.reset_index(drop=True).T\n",
    "    return df, seg_df"
   ]
  },
  {
   "cell_type": "code",
   "execution_count": 5,
   "metadata": {},
   "outputs": [],
   "source": [
    "def get_top_k_probas(probas, k=5):\n",
    "    return np.partition(probas, -k, axis=1)[:, -k:]"
   ]
  },
  {
   "cell_type": "code",
   "execution_count": 6,
   "metadata": {},
   "outputs": [],
   "source": [
    "def get_top_k_classes(probas, k=5):\n",
    "    return np.argpartition(probas, -k, axis=1)[:, -k:]"
   ]
  },
  {
   "cell_type": "code",
   "execution_count": 8,
   "metadata": {},
   "outputs": [],
   "source": [
    "def get_metrics(y_true, y_pred):\n",
    "    try:\n",
    "        y_true = y_true.values.flatten().tolist()\n",
    "    except:\n",
    "        pass\n",
    "    print(f'Acc: {accuracy_score(y_true, y_pred)}')\n",
    "    print(f'Precision: {precision_score(y_true, y_pred)}')\n",
    "    print(f'Recall: {recall_score(y_true, y_pred)}')\n",
    "    print(f'F1 Score: {f1_score(y_true, y_pred)}')\n",
    "    conf_mat = confusion_matrix(y_true, y_pred)\n",
    "    tp, tn = conf_mat[1, 1], conf_mat[0, 0]\n",
    "    classification_score = tn + 9*tp\n",
    "    print(f'Classification Score: {classification_score}')\n",
    "    final_grade = min(100, 95 * 3*classification_score/4575) # + 0.3 * report_grade\n",
    "    # print(f'Final Grade: {final_grade}')\n",
    "    return classification_score\n",
    "    # return preds"
   ]
  }
 ],
 "metadata": {
  "kernelspec": {
   "display_name": "Python [conda env:.conda-dl] *",
   "language": "python",
   "name": "conda-env-.conda-dl-py"
  },
  "language_info": {
   "codemirror_mode": {
    "name": "ipython",
    "version": 3
   },
   "file_extension": ".py",
   "mimetype": "text/x-python",
   "name": "python",
   "nbconvert_exporter": "python",
   "pygments_lexer": "ipython3",
   "version": "3.9.12"
  }
 },
 "nbformat": 4,
 "nbformat_minor": 4
}
