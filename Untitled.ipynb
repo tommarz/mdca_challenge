{
 "cells": [
  {
   "cell_type": "markdown",
   "id": "1bc406a7-8cc9-41a7-9fed-0852ae721af1",
   "metadata": {},
   "source": [
    "# Untitled"
   ]
  },
  {
   "cell_type": "code",
<<<<<<< HEAD
   "execution_count": 54,
=======
   "execution_count": 1,
>>>>>>> ecc920778820ded154e814aee1d7dcf061929c9a
   "id": "7c7f8162-bfec-40aa-a17c-a7109929ffbb",
   "metadata": {},
   "outputs": [],
   "source": [
    "%run utils.ipynb"
   ]
  },
  {
   "cell_type": "code",
<<<<<<< HEAD
   "execution_count": 55,
=======
   "execution_count": 2,
>>>>>>> ecc920778820ded154e814aee1d7dcf061929c9a
   "id": "9c64fbe8-2dfd-4223-b771-b41d9d547692",
   "metadata": {},
   "outputs": [],
   "source": [
    "import pandas as pd\n",
    "import numpy as np\n",
    "import os\n",
    "import sys\n",
    "# from utils import *\n",
    "import matplotlib.pyplot as plt\n",
    "%matplotlib inline\n",
    "import dill"
   ]
  },
  {
   "cell_type": "code",
<<<<<<< HEAD
   "execution_count": 56,
=======
   "execution_count": 458,
>>>>>>> ecc920778820ded154e814aee1d7dcf061929c9a
   "id": "19196106-8d74-494d-873d-9aee9be96727",
   "metadata": {},
   "outputs": [],
   "source": [
    "import sklearn\n",
    "from sklearn.svm import OneClassSVM\n",
    "from sklearn.metrics import roc_auc_score, precision_score, recall_score, f1_score, accuracy_score, confusion_matrix, top_k_accuracy_score\n",
    "from sklearn.preprocessing import OneHotEncoder, LabelEncoder, FunctionTransformer, MinMaxScaler\n",
    "from sklearn.compose import ColumnTransformer, make_column_transformer\n",
    "from sklearn.model_selection import train_test_split, KFold\n",
    "from sklearn.feature_extraction.text import TfidfVectorizer, TfidfTransformer, CountVectorizer\n",
    "from sklearn.ensemble import RandomForestClassifier\n",
    "from sklearn.linear_model import LogisticRegression\n",
    "from sklearn.neural_network import MLPClassifier\n",
    "from sklearn.neighbors import KNeighborsClassifier\n",
    "from sklearn.decomposition import PCA\n",
    "from sklearn.feature_extraction import DictVectorizer\n",
    "from sklearn.pipeline import Pipeline, make_pipeline"
   ]
  },
  {
   "cell_type": "code",
   "execution_count": 57,
   "id": "1693f547-d026-412c-8dc1-209832b293bb",
   "metadata": {},
   "outputs": [],
   "source": [
    "import tensorflow as tf\n",
    "from tensorflow.keras.layers import Dense, LSTM, Dropout, Activation, Input, Embedding, TextVectorization, Reshape, Add, Concatenate, Flatten, Conv1D, Conv1DTranspose\n",
    "from tensorflow.keras.losses import binary_crossentropy\n",
    "from tensorflow.keras.models import Model, Sequential\n",
    "from tensorflow.keras.optimizers import Adam, SGD\n",
    "from tensorflow.keras.callbacks import ReduceLROnPlateau, ModelCheckpoint, EarlyStopping"
   ]
  },
  {
   "cell_type": "code",
<<<<<<< HEAD
   "execution_count": 58,
=======
   "execution_count": 160,
>>>>>>> ecc920778820ded154e814aee1d7dcf061929c9a
   "id": "6e5a1641-28b4-442b-b675-71ad6a6ff9fe",
   "metadata": {},
   "outputs": [
    {
     "name": "stdout",
     "output_type": "stream",
     "text": [
      "(40, 150)\n",
      "FastTextKeyedVectors<vector_size=128, 134 keys>\n",
      "(10, 50)\n",
      "(10, 100)\n"
     ]
    }
   ],
   "source": [
    "_, seg_df = load_user_data()\n",
    "print(seg_df.shape)\n",
    "y = pd.read_csv('challengeToFill.csv').drop(columns=['Unnamed: 0']).T.reset_index(drop=True).T\n",
    "y_train = y.iloc[:LABELED_USERS, :TRAIN_SEG]\n",
    "y_test_df = y.iloc[:LABELED_USERS, TRAIN_SEG:]\n",
    "train_df = seg_df.iloc[:LABELED_USERS, :TRAIN_SEG]\n",
    "test_df = seg_df.iloc[:LABELED_USERS, TRAIN_SEG:]\n",
    "submission_df = seg_df.iloc[LABELED_USERS:, TRAIN_SEG:]\n",
    "sentences = train_df.to_numpy().flatten().tolist()\n",
    "# embedding_model = create_embeddings(sentences, vector_size=EMBEDDING_DIM, window=5)\n",
    "# print(embedding_model.wv)\n",
    "print(train_df.shape)\n",
    "print(test_df.shape)"
   ]
  },
  {
   "cell_type": "code",
<<<<<<< HEAD
   "execution_count": 138,
   "id": "6e3cf0ed",
   "metadata": {},
   "outputs": [],
   "source": [
    "all_commands = np.unique(seg_df.to_numpy().flatten().tolist()).tolist()"
   ]
  },
  {
   "cell_type": "code",
   "execution_count": 139,
=======
   "execution_count": 161,
>>>>>>> ecc920778820ded154e814aee1d7dcf061929c9a
   "id": "c9445bcc-fa8f-41cc-9a2c-5382c9e3d7b2",
   "metadata": {},
   "outputs": [
    {
     "data": {
      "text/plain": [
       "((500,), (1000,))"
      ]
     },
<<<<<<< HEAD
     "execution_count": 139,
=======
     "execution_count": 161,
>>>>>>> ecc920778820ded154e814aee1d7dcf061929c9a
     "metadata": {},
     "output_type": "execute_result"
    }
   ],
   "source": [
    "train = train_df.to_numpy().flatten()\n",
    "test = test_df.to_numpy().flatten()\n",
    "train.shape, test.shape"
   ]
  },
  {
   "cell_type": "code",
<<<<<<< HEAD
   "execution_count": 61,
   "id": "baaea5ff",
   "metadata": {},
   "outputs": [],
   "source": [
    "w2x = {k: idx for idx, k in enumerate(all_commands)}\n",
    "x2w = {idx: k for idx, k in enumerate(all_commands)}"
   ]
  },
  {
   "cell_type": "code",
   "execution_count": 141,
   "id": "238b17a4",
   "metadata": {},
   "outputs": [],
   "source": [
    "def seg_to_hist(segs, vocab=all_commands):\n",
    "    count_vec = CountVectorizer(lowercase=False, vocabulary=vocab)\n",
    "    features = count_vec.transform([' '.join(seg) for seg in segs])\n",
    "    return features.toarray()"
=======
   "execution_count": 801,
   "id": "7674133c-0170-4706-aa26-f6bf3a6e9950",
   "metadata": {},
   "outputs": [
    {
     "data": {
      "text/html": [
       "<div>\n",
       "<style scoped>\n",
       "    .dataframe tbody tr th:only-of-type {\n",
       "        vertical-align: middle;\n",
       "    }\n",
       "\n",
       "    .dataframe tbody tr th {\n",
       "        vertical-align: top;\n",
       "    }\n",
       "\n",
       "    .dataframe thead th {\n",
       "        text-align: right;\n",
       "    }\n",
       "</style>\n",
       "<table border=\"1\" class=\"dataframe\">\n",
       "  <thead>\n",
       "    <tr style=\"text-align: right;\">\n",
       "      <th></th>\n",
       "      <th>20</th>\n",
       "      <th>acroread</th>\n",
       "      <th>arch</th>\n",
       "      <th>basename</th>\n",
       "      <th>bc</th>\n",
       "      <th>col</th>\n",
       "      <th>download</th>\n",
       "      <th>dpost</th>\n",
       "      <th>dvips</th>\n",
       "      <th>ed</th>\n",
       "      <th>...</th>\n",
       "      <th>troff</th>\n",
       "      <th>unlock</th>\n",
       "      <th>unpack</th>\n",
       "      <th>wc</th>\n",
       "      <th>who</th>\n",
       "      <th>xclock</th>\n",
       "      <th>xgvis</th>\n",
       "      <th>xinitrc</th>\n",
       "      <th>xset</th>\n",
       "      <th>user_label</th>\n",
       "    </tr>\n",
       "  </thead>\n",
       "  <tbody>\n",
       "    <tr>\n",
       "      <th>0</th>\n",
       "      <td>0.0</td>\n",
       "      <td>0.0</td>\n",
       "      <td>0.0</td>\n",
       "      <td>0.0</td>\n",
       "      <td>0.0</td>\n",
       "      <td>0.0</td>\n",
       "      <td>0.0</td>\n",
       "      <td>0.0</td>\n",
       "      <td>0.0</td>\n",
       "      <td>0.0</td>\n",
       "      <td>...</td>\n",
       "      <td>0.0</td>\n",
       "      <td>0.0</td>\n",
       "      <td>0.0</td>\n",
       "      <td>0.000000</td>\n",
       "      <td>0.000000</td>\n",
       "      <td>0.0</td>\n",
       "      <td>0.575140</td>\n",
       "      <td>0.0</td>\n",
       "      <td>0.0</td>\n",
       "      <td>0</td>\n",
       "    </tr>\n",
       "    <tr>\n",
       "      <th>1</th>\n",
       "      <td>0.0</td>\n",
       "      <td>0.0</td>\n",
       "      <td>0.0</td>\n",
       "      <td>0.0</td>\n",
       "      <td>0.0</td>\n",
       "      <td>0.0</td>\n",
       "      <td>0.0</td>\n",
       "      <td>0.0</td>\n",
       "      <td>0.0</td>\n",
       "      <td>0.0</td>\n",
       "      <td>...</td>\n",
       "      <td>0.0</td>\n",
       "      <td>0.0</td>\n",
       "      <td>0.0</td>\n",
       "      <td>0.000000</td>\n",
       "      <td>0.000000</td>\n",
       "      <td>0.0</td>\n",
       "      <td>0.644835</td>\n",
       "      <td>0.0</td>\n",
       "      <td>0.0</td>\n",
       "      <td>0</td>\n",
       "    </tr>\n",
       "    <tr>\n",
       "      <th>2</th>\n",
       "      <td>0.0</td>\n",
       "      <td>0.0</td>\n",
       "      <td>0.0</td>\n",
       "      <td>0.0</td>\n",
       "      <td>0.0</td>\n",
       "      <td>0.0</td>\n",
       "      <td>0.0</td>\n",
       "      <td>0.0</td>\n",
       "      <td>0.0</td>\n",
       "      <td>0.0</td>\n",
       "      <td>...</td>\n",
       "      <td>0.0</td>\n",
       "      <td>0.0</td>\n",
       "      <td>0.0</td>\n",
       "      <td>0.000000</td>\n",
       "      <td>0.000000</td>\n",
       "      <td>0.0</td>\n",
       "      <td>0.644835</td>\n",
       "      <td>0.0</td>\n",
       "      <td>0.0</td>\n",
       "      <td>0</td>\n",
       "    </tr>\n",
       "    <tr>\n",
       "      <th>3</th>\n",
       "      <td>0.0</td>\n",
       "      <td>0.0</td>\n",
       "      <td>0.0</td>\n",
       "      <td>0.0</td>\n",
       "      <td>0.0</td>\n",
       "      <td>0.0</td>\n",
       "      <td>0.0</td>\n",
       "      <td>0.0</td>\n",
       "      <td>0.0</td>\n",
       "      <td>0.0</td>\n",
       "      <td>...</td>\n",
       "      <td>0.0</td>\n",
       "      <td>0.0</td>\n",
       "      <td>0.0</td>\n",
       "      <td>0.000000</td>\n",
       "      <td>0.000000</td>\n",
       "      <td>0.0</td>\n",
       "      <td>0.644835</td>\n",
       "      <td>0.0</td>\n",
       "      <td>0.0</td>\n",
       "      <td>0</td>\n",
       "    </tr>\n",
       "    <tr>\n",
       "      <th>4</th>\n",
       "      <td>0.0</td>\n",
       "      <td>0.0</td>\n",
       "      <td>0.0</td>\n",
       "      <td>0.0</td>\n",
       "      <td>0.0</td>\n",
       "      <td>0.0</td>\n",
       "      <td>0.0</td>\n",
       "      <td>0.0</td>\n",
       "      <td>0.0</td>\n",
       "      <td>0.0</td>\n",
       "      <td>...</td>\n",
       "      <td>0.0</td>\n",
       "      <td>0.0</td>\n",
       "      <td>0.0</td>\n",
       "      <td>0.000000</td>\n",
       "      <td>0.000000</td>\n",
       "      <td>0.0</td>\n",
       "      <td>0.644835</td>\n",
       "      <td>0.0</td>\n",
       "      <td>0.0</td>\n",
       "      <td>0</td>\n",
       "    </tr>\n",
       "    <tr>\n",
       "      <th>...</th>\n",
       "      <td>...</td>\n",
       "      <td>...</td>\n",
       "      <td>...</td>\n",
       "      <td>...</td>\n",
       "      <td>...</td>\n",
       "      <td>...</td>\n",
       "      <td>...</td>\n",
       "      <td>...</td>\n",
       "      <td>...</td>\n",
       "      <td>...</td>\n",
       "      <td>...</td>\n",
       "      <td>...</td>\n",
       "      <td>...</td>\n",
       "      <td>...</td>\n",
       "      <td>...</td>\n",
       "      <td>...</td>\n",
       "      <td>...</td>\n",
       "      <td>...</td>\n",
       "      <td>...</td>\n",
       "      <td>...</td>\n",
       "      <td>...</td>\n",
       "    </tr>\n",
       "    <tr>\n",
       "      <th>495</th>\n",
       "      <td>0.0</td>\n",
       "      <td>0.0</td>\n",
       "      <td>0.0</td>\n",
       "      <td>0.0</td>\n",
       "      <td>0.0</td>\n",
       "      <td>0.0</td>\n",
       "      <td>0.0</td>\n",
       "      <td>0.0</td>\n",
       "      <td>0.0</td>\n",
       "      <td>0.0</td>\n",
       "      <td>...</td>\n",
       "      <td>0.0</td>\n",
       "      <td>0.0</td>\n",
       "      <td>0.0</td>\n",
       "      <td>0.242745</td>\n",
       "      <td>0.242745</td>\n",
       "      <td>0.0</td>\n",
       "      <td>0.000000</td>\n",
       "      <td>0.0</td>\n",
       "      <td>0.0</td>\n",
       "      <td>9</td>\n",
       "    </tr>\n",
       "    <tr>\n",
       "      <th>496</th>\n",
       "      <td>0.0</td>\n",
       "      <td>0.0</td>\n",
       "      <td>0.0</td>\n",
       "      <td>0.0</td>\n",
       "      <td>0.0</td>\n",
       "      <td>0.0</td>\n",
       "      <td>0.0</td>\n",
       "      <td>0.0</td>\n",
       "      <td>0.0</td>\n",
       "      <td>0.0</td>\n",
       "      <td>...</td>\n",
       "      <td>0.0</td>\n",
       "      <td>0.0</td>\n",
       "      <td>0.0</td>\n",
       "      <td>0.242745</td>\n",
       "      <td>0.242745</td>\n",
       "      <td>0.0</td>\n",
       "      <td>0.000000</td>\n",
       "      <td>0.0</td>\n",
       "      <td>0.0</td>\n",
       "      <td>9</td>\n",
       "    </tr>\n",
       "    <tr>\n",
       "      <th>497</th>\n",
       "      <td>0.0</td>\n",
       "      <td>0.0</td>\n",
       "      <td>0.0</td>\n",
       "      <td>0.0</td>\n",
       "      <td>0.0</td>\n",
       "      <td>0.0</td>\n",
       "      <td>0.0</td>\n",
       "      <td>0.0</td>\n",
       "      <td>0.0</td>\n",
       "      <td>0.0</td>\n",
       "      <td>...</td>\n",
       "      <td>0.0</td>\n",
       "      <td>0.0</td>\n",
       "      <td>0.0</td>\n",
       "      <td>0.242745</td>\n",
       "      <td>0.242745</td>\n",
       "      <td>0.0</td>\n",
       "      <td>0.000000</td>\n",
       "      <td>0.0</td>\n",
       "      <td>0.0</td>\n",
       "      <td>9</td>\n",
       "    </tr>\n",
       "    <tr>\n",
       "      <th>498</th>\n",
       "      <td>0.0</td>\n",
       "      <td>0.0</td>\n",
       "      <td>0.0</td>\n",
       "      <td>0.0</td>\n",
       "      <td>0.0</td>\n",
       "      <td>0.0</td>\n",
       "      <td>0.0</td>\n",
       "      <td>0.0</td>\n",
       "      <td>0.0</td>\n",
       "      <td>0.0</td>\n",
       "      <td>...</td>\n",
       "      <td>0.0</td>\n",
       "      <td>0.0</td>\n",
       "      <td>0.0</td>\n",
       "      <td>0.243563</td>\n",
       "      <td>0.243563</td>\n",
       "      <td>0.0</td>\n",
       "      <td>0.000000</td>\n",
       "      <td>0.0</td>\n",
       "      <td>0.0</td>\n",
       "      <td>9</td>\n",
       "    </tr>\n",
       "    <tr>\n",
       "      <th>499</th>\n",
       "      <td>0.0</td>\n",
       "      <td>0.0</td>\n",
       "      <td>0.0</td>\n",
       "      <td>0.0</td>\n",
       "      <td>0.0</td>\n",
       "      <td>0.0</td>\n",
       "      <td>0.0</td>\n",
       "      <td>0.0</td>\n",
       "      <td>0.0</td>\n",
       "      <td>0.0</td>\n",
       "      <td>...</td>\n",
       "      <td>0.0</td>\n",
       "      <td>0.0</td>\n",
       "      <td>0.0</td>\n",
       "      <td>0.243563</td>\n",
       "      <td>0.243563</td>\n",
       "      <td>0.0</td>\n",
       "      <td>0.000000</td>\n",
       "      <td>0.0</td>\n",
       "      <td>0.0</td>\n",
       "      <td>9</td>\n",
       "    </tr>\n",
       "  </tbody>\n",
       "</table>\n",
       "<p>500 rows × 57 columns</p>\n",
       "</div>"
      ],
      "text/plain": [
       "      20  acroread  arch  basename   bc  col  download  dpost  dvips   ed  \\\n",
       "0    0.0       0.0   0.0       0.0  0.0  0.0       0.0    0.0    0.0  0.0   \n",
       "1    0.0       0.0   0.0       0.0  0.0  0.0       0.0    0.0    0.0  0.0   \n",
       "2    0.0       0.0   0.0       0.0  0.0  0.0       0.0    0.0    0.0  0.0   \n",
       "3    0.0       0.0   0.0       0.0  0.0  0.0       0.0    0.0    0.0  0.0   \n",
       "4    0.0       0.0   0.0       0.0  0.0  0.0       0.0    0.0    0.0  0.0   \n",
       "..   ...       ...   ...       ...  ...  ...       ...    ...    ...  ...   \n",
       "495  0.0       0.0   0.0       0.0  0.0  0.0       0.0    0.0    0.0  0.0   \n",
       "496  0.0       0.0   0.0       0.0  0.0  0.0       0.0    0.0    0.0  0.0   \n",
       "497  0.0       0.0   0.0       0.0  0.0  0.0       0.0    0.0    0.0  0.0   \n",
       "498  0.0       0.0   0.0       0.0  0.0  0.0       0.0    0.0    0.0  0.0   \n",
       "499  0.0       0.0   0.0       0.0  0.0  0.0       0.0    0.0    0.0  0.0   \n",
       "\n",
       "     ...  troff  unlock  unpack        wc       who  xclock     xgvis  \\\n",
       "0    ...    0.0     0.0     0.0  0.000000  0.000000     0.0  0.575140   \n",
       "1    ...    0.0     0.0     0.0  0.000000  0.000000     0.0  0.644835   \n",
       "2    ...    0.0     0.0     0.0  0.000000  0.000000     0.0  0.644835   \n",
       "3    ...    0.0     0.0     0.0  0.000000  0.000000     0.0  0.644835   \n",
       "4    ...    0.0     0.0     0.0  0.000000  0.000000     0.0  0.644835   \n",
       "..   ...    ...     ...     ...       ...       ...     ...       ...   \n",
       "495  ...    0.0     0.0     0.0  0.242745  0.242745     0.0  0.000000   \n",
       "496  ...    0.0     0.0     0.0  0.242745  0.242745     0.0  0.000000   \n",
       "497  ...    0.0     0.0     0.0  0.242745  0.242745     0.0  0.000000   \n",
       "498  ...    0.0     0.0     0.0  0.243563  0.243563     0.0  0.000000   \n",
       "499  ...    0.0     0.0     0.0  0.243563  0.243563     0.0  0.000000   \n",
       "\n",
       "     xinitrc  xset  user_label  \n",
       "0        0.0   0.0           0  \n",
       "1        0.0   0.0           0  \n",
       "2        0.0   0.0           0  \n",
       "3        0.0   0.0           0  \n",
       "4        0.0   0.0           0  \n",
       "..       ...   ...         ...  \n",
       "495      0.0   0.0           9  \n",
       "496      0.0   0.0           9  \n",
       "497      0.0   0.0           9  \n",
       "498      0.0   0.0           9  \n",
       "499      0.0   0.0           9  \n",
       "\n",
       "[500 rows x 57 columns]"
      ]
     },
     "execution_count": 801,
     "metadata": {},
     "output_type": "execute_result"
    }
   ],
   "source": [
    "# tfidf_vec = TfidfVectorizer(max_features=10, max_df=50, min_df=1)\n",
    "tfidf_vec = TfidfVectorizer(ngram_range=(1,1), max_features=100, max_df=50, min_df=10)\n",
    "tfidf_features = pd.DataFrame.sparse.from_spmatrix(tfidf_vec.fit_transform([' '.join(x) for x in train.tolist()]), columns=tfidf_vec.get_feature_names_out()).sparse.to_dense()\n",
    "y_train_user = pd.Series([idx//50 for idx in X_train.index], name='user_label')\n",
    "tfidf_features.join(y_train_user)"
>>>>>>> ecc920778820ded154e814aee1d7dcf061929c9a
   ]
  },
  {
   "cell_type": "code",
<<<<<<< HEAD
   "execution_count": 143,
   "id": "edd89d3a",
   "metadata": {},
   "outputs": [],
   "source": [
    "def tfidf_per_user(uid, top_n=100):\n",
    "    documents = []\n",
    "    for i in range(NUM_USERS):\n",
    "        documents.append(' '.join([' '.join(x) for x in seg_df.iloc[i,:TRAIN_SEG]]))\n",
    "    tfidf = TfidfVectorizer(ngram_range=(3,3))\n",
    "    data = tfidf.fit_transform(documents)\n",
    "    tfidf_features = pd.DataFrame.sparse.from_spmatrix(data, columns=tfidf.get_feature_names_out()).sparse.to_dense().T\n",
    "    tfidf_features.columns = [f'user{i}' for i in range(NUM_USERS)]\n",
    "    top_n_user = tfidf_features.nlargest(top_n, f'user{uid}').index.tolist()\n",
    "    return top_n_user"
=======
   "execution_count": 802,
   "id": "76e805ee-516f-4e3e-8fbb-164fa2ea9bf4",
   "metadata": {},
   "outputs": [
    {
     "data": {
      "text/html": [
       "<div>\n",
       "<style scoped>\n",
       "    .dataframe tbody tr th:only-of-type {\n",
       "        vertical-align: middle;\n",
       "    }\n",
       "\n",
       "    .dataframe tbody tr th {\n",
       "        vertical-align: top;\n",
       "    }\n",
       "\n",
       "    .dataframe thead th {\n",
       "        text-align: right;\n",
       "    }\n",
       "</style>\n",
       "<table border=\"1\" class=\"dataframe\">\n",
       "  <thead>\n",
       "    <tr style=\"text-align: right;\">\n",
       "      <th></th>\n",
       "      <th>20</th>\n",
       "      <th>acroread</th>\n",
       "      <th>arch</th>\n",
       "      <th>basename</th>\n",
       "      <th>bc</th>\n",
       "      <th>col</th>\n",
       "      <th>download</th>\n",
       "      <th>dpost</th>\n",
       "      <th>dvips</th>\n",
       "      <th>ed</th>\n",
       "      <th>...</th>\n",
       "      <th>troff</th>\n",
       "      <th>unlock</th>\n",
       "      <th>unpack</th>\n",
       "      <th>wc</th>\n",
       "      <th>who</th>\n",
       "      <th>xclock</th>\n",
       "      <th>xgvis</th>\n",
       "      <th>xinitrc</th>\n",
       "      <th>xset</th>\n",
       "      <th>user_label</th>\n",
       "    </tr>\n",
       "  </thead>\n",
       "  <tbody>\n",
       "    <tr>\n",
       "      <th>0</th>\n",
       "      <td>0.0</td>\n",
       "      <td>0.0</td>\n",
       "      <td>0.0</td>\n",
       "      <td>0.0</td>\n",
       "      <td>0.0</td>\n",
       "      <td>0.0</td>\n",
       "      <td>0.0</td>\n",
       "      <td>0.0</td>\n",
       "      <td>0.0</td>\n",
       "      <td>0.0</td>\n",
       "      <td>...</td>\n",
       "      <td>0.0</td>\n",
       "      <td>0.0</td>\n",
       "      <td>0.0</td>\n",
       "      <td>0.000000</td>\n",
       "      <td>0.000000</td>\n",
       "      <td>0.0</td>\n",
       "      <td>0.744712</td>\n",
       "      <td>0.0</td>\n",
       "      <td>0.0</td>\n",
       "      <td>0</td>\n",
       "    </tr>\n",
       "    <tr>\n",
       "      <th>1</th>\n",
       "      <td>0.0</td>\n",
       "      <td>0.0</td>\n",
       "      <td>0.0</td>\n",
       "      <td>0.0</td>\n",
       "      <td>0.0</td>\n",
       "      <td>0.0</td>\n",
       "      <td>0.0</td>\n",
       "      <td>0.0</td>\n",
       "      <td>0.0</td>\n",
       "      <td>0.0</td>\n",
       "      <td>...</td>\n",
       "      <td>0.0</td>\n",
       "      <td>0.0</td>\n",
       "      <td>0.0</td>\n",
       "      <td>0.000000</td>\n",
       "      <td>0.000000</td>\n",
       "      <td>0.0</td>\n",
       "      <td>0.744712</td>\n",
       "      <td>0.0</td>\n",
       "      <td>0.0</td>\n",
       "      <td>0</td>\n",
       "    </tr>\n",
       "    <tr>\n",
       "      <th>2</th>\n",
       "      <td>0.0</td>\n",
       "      <td>0.0</td>\n",
       "      <td>0.0</td>\n",
       "      <td>0.0</td>\n",
       "      <td>0.0</td>\n",
       "      <td>0.0</td>\n",
       "      <td>0.0</td>\n",
       "      <td>0.0</td>\n",
       "      <td>0.0</td>\n",
       "      <td>0.0</td>\n",
       "      <td>...</td>\n",
       "      <td>0.0</td>\n",
       "      <td>0.0</td>\n",
       "      <td>0.0</td>\n",
       "      <td>0.000000</td>\n",
       "      <td>0.000000</td>\n",
       "      <td>0.0</td>\n",
       "      <td>0.744712</td>\n",
       "      <td>0.0</td>\n",
       "      <td>0.0</td>\n",
       "      <td>0</td>\n",
       "    </tr>\n",
       "    <tr>\n",
       "      <th>3</th>\n",
       "      <td>0.0</td>\n",
       "      <td>0.0</td>\n",
       "      <td>0.0</td>\n",
       "      <td>0.0</td>\n",
       "      <td>0.0</td>\n",
       "      <td>0.0</td>\n",
       "      <td>0.0</td>\n",
       "      <td>0.0</td>\n",
       "      <td>0.0</td>\n",
       "      <td>0.0</td>\n",
       "      <td>...</td>\n",
       "      <td>0.0</td>\n",
       "      <td>0.0</td>\n",
       "      <td>0.0</td>\n",
       "      <td>0.000000</td>\n",
       "      <td>0.000000</td>\n",
       "      <td>0.0</td>\n",
       "      <td>0.790572</td>\n",
       "      <td>0.0</td>\n",
       "      <td>0.0</td>\n",
       "      <td>0</td>\n",
       "    </tr>\n",
       "    <tr>\n",
       "      <th>4</th>\n",
       "      <td>0.0</td>\n",
       "      <td>0.0</td>\n",
       "      <td>0.0</td>\n",
       "      <td>0.0</td>\n",
       "      <td>0.0</td>\n",
       "      <td>0.0</td>\n",
       "      <td>0.0</td>\n",
       "      <td>0.0</td>\n",
       "      <td>0.0</td>\n",
       "      <td>0.0</td>\n",
       "      <td>...</td>\n",
       "      <td>0.0</td>\n",
       "      <td>0.0</td>\n",
       "      <td>0.0</td>\n",
       "      <td>0.000000</td>\n",
       "      <td>0.000000</td>\n",
       "      <td>0.0</td>\n",
       "      <td>0.790572</td>\n",
       "      <td>0.0</td>\n",
       "      <td>0.0</td>\n",
       "      <td>0</td>\n",
       "    </tr>\n",
       "    <tr>\n",
       "      <th>...</th>\n",
       "      <td>...</td>\n",
       "      <td>...</td>\n",
       "      <td>...</td>\n",
       "      <td>...</td>\n",
       "      <td>...</td>\n",
       "      <td>...</td>\n",
       "      <td>...</td>\n",
       "      <td>...</td>\n",
       "      <td>...</td>\n",
       "      <td>...</td>\n",
       "      <td>...</td>\n",
       "      <td>...</td>\n",
       "      <td>...</td>\n",
       "      <td>...</td>\n",
       "      <td>...</td>\n",
       "      <td>...</td>\n",
       "      <td>...</td>\n",
       "      <td>...</td>\n",
       "      <td>...</td>\n",
       "      <td>...</td>\n",
       "      <td>...</td>\n",
       "    </tr>\n",
       "    <tr>\n",
       "      <th>995</th>\n",
       "      <td>0.0</td>\n",
       "      <td>0.0</td>\n",
       "      <td>0.0</td>\n",
       "      <td>0.0</td>\n",
       "      <td>0.0</td>\n",
       "      <td>0.0</td>\n",
       "      <td>0.0</td>\n",
       "      <td>0.0</td>\n",
       "      <td>0.0</td>\n",
       "      <td>0.0</td>\n",
       "      <td>...</td>\n",
       "      <td>0.0</td>\n",
       "      <td>0.0</td>\n",
       "      <td>0.0</td>\n",
       "      <td>0.532928</td>\n",
       "      <td>0.532928</td>\n",
       "      <td>0.0</td>\n",
       "      <td>0.000000</td>\n",
       "      <td>0.0</td>\n",
       "      <td>0.0</td>\n",
       "      <td>9</td>\n",
       "    </tr>\n",
       "    <tr>\n",
       "      <th>996</th>\n",
       "      <td>0.0</td>\n",
       "      <td>0.0</td>\n",
       "      <td>0.0</td>\n",
       "      <td>0.0</td>\n",
       "      <td>0.0</td>\n",
       "      <td>0.0</td>\n",
       "      <td>0.0</td>\n",
       "      <td>0.0</td>\n",
       "      <td>0.0</td>\n",
       "      <td>0.0</td>\n",
       "      <td>...</td>\n",
       "      <td>0.0</td>\n",
       "      <td>0.0</td>\n",
       "      <td>0.0</td>\n",
       "      <td>0.532928</td>\n",
       "      <td>0.532928</td>\n",
       "      <td>0.0</td>\n",
       "      <td>0.000000</td>\n",
       "      <td>0.0</td>\n",
       "      <td>0.0</td>\n",
       "      <td>9</td>\n",
       "    </tr>\n",
       "    <tr>\n",
       "      <th>997</th>\n",
       "      <td>0.0</td>\n",
       "      <td>0.0</td>\n",
       "      <td>0.0</td>\n",
       "      <td>0.0</td>\n",
       "      <td>0.0</td>\n",
       "      <td>0.0</td>\n",
       "      <td>0.0</td>\n",
       "      <td>0.0</td>\n",
       "      <td>0.0</td>\n",
       "      <td>0.0</td>\n",
       "      <td>...</td>\n",
       "      <td>0.0</td>\n",
       "      <td>0.0</td>\n",
       "      <td>0.0</td>\n",
       "      <td>0.532928</td>\n",
       "      <td>0.532928</td>\n",
       "      <td>0.0</td>\n",
       "      <td>0.000000</td>\n",
       "      <td>0.0</td>\n",
       "      <td>0.0</td>\n",
       "      <td>9</td>\n",
       "    </tr>\n",
       "    <tr>\n",
       "      <th>998</th>\n",
       "      <td>0.0</td>\n",
       "      <td>0.0</td>\n",
       "      <td>0.0</td>\n",
       "      <td>0.0</td>\n",
       "      <td>0.0</td>\n",
       "      <td>0.0</td>\n",
       "      <td>0.0</td>\n",
       "      <td>0.0</td>\n",
       "      <td>0.0</td>\n",
       "      <td>0.0</td>\n",
       "      <td>...</td>\n",
       "      <td>0.0</td>\n",
       "      <td>0.0</td>\n",
       "      <td>0.0</td>\n",
       "      <td>0.532928</td>\n",
       "      <td>0.532928</td>\n",
       "      <td>0.0</td>\n",
       "      <td>0.000000</td>\n",
       "      <td>0.0</td>\n",
       "      <td>0.0</td>\n",
       "      <td>9</td>\n",
       "    </tr>\n",
       "    <tr>\n",
       "      <th>999</th>\n",
       "      <td>0.0</td>\n",
       "      <td>0.0</td>\n",
       "      <td>0.0</td>\n",
       "      <td>0.0</td>\n",
       "      <td>0.0</td>\n",
       "      <td>0.0</td>\n",
       "      <td>0.0</td>\n",
       "      <td>0.0</td>\n",
       "      <td>0.0</td>\n",
       "      <td>0.0</td>\n",
       "      <td>...</td>\n",
       "      <td>0.0</td>\n",
       "      <td>0.0</td>\n",
       "      <td>0.0</td>\n",
       "      <td>0.532928</td>\n",
       "      <td>0.532928</td>\n",
       "      <td>0.0</td>\n",
       "      <td>0.000000</td>\n",
       "      <td>0.0</td>\n",
       "      <td>0.0</td>\n",
       "      <td>9</td>\n",
       "    </tr>\n",
       "  </tbody>\n",
       "</table>\n",
       "<p>1000 rows × 57 columns</p>\n",
       "</div>"
      ],
      "text/plain": [
       "      20  acroread  arch  basename   bc  col  download  dpost  dvips   ed  \\\n",
       "0    0.0       0.0   0.0       0.0  0.0  0.0       0.0    0.0    0.0  0.0   \n",
       "1    0.0       0.0   0.0       0.0  0.0  0.0       0.0    0.0    0.0  0.0   \n",
       "2    0.0       0.0   0.0       0.0  0.0  0.0       0.0    0.0    0.0  0.0   \n",
       "3    0.0       0.0   0.0       0.0  0.0  0.0       0.0    0.0    0.0  0.0   \n",
       "4    0.0       0.0   0.0       0.0  0.0  0.0       0.0    0.0    0.0  0.0   \n",
       "..   ...       ...   ...       ...  ...  ...       ...    ...    ...  ...   \n",
       "995  0.0       0.0   0.0       0.0  0.0  0.0       0.0    0.0    0.0  0.0   \n",
       "996  0.0       0.0   0.0       0.0  0.0  0.0       0.0    0.0    0.0  0.0   \n",
       "997  0.0       0.0   0.0       0.0  0.0  0.0       0.0    0.0    0.0  0.0   \n",
       "998  0.0       0.0   0.0       0.0  0.0  0.0       0.0    0.0    0.0  0.0   \n",
       "999  0.0       0.0   0.0       0.0  0.0  0.0       0.0    0.0    0.0  0.0   \n",
       "\n",
       "     ...  troff  unlock  unpack        wc       who  xclock     xgvis  \\\n",
       "0    ...    0.0     0.0     0.0  0.000000  0.000000     0.0  0.744712   \n",
       "1    ...    0.0     0.0     0.0  0.000000  0.000000     0.0  0.744712   \n",
       "2    ...    0.0     0.0     0.0  0.000000  0.000000     0.0  0.744712   \n",
       "3    ...    0.0     0.0     0.0  0.000000  0.000000     0.0  0.790572   \n",
       "4    ...    0.0     0.0     0.0  0.000000  0.000000     0.0  0.790572   \n",
       "..   ...    ...     ...     ...       ...       ...     ...       ...   \n",
       "995  ...    0.0     0.0     0.0  0.532928  0.532928     0.0  0.000000   \n",
       "996  ...    0.0     0.0     0.0  0.532928  0.532928     0.0  0.000000   \n",
       "997  ...    0.0     0.0     0.0  0.532928  0.532928     0.0  0.000000   \n",
       "998  ...    0.0     0.0     0.0  0.532928  0.532928     0.0  0.000000   \n",
       "999  ...    0.0     0.0     0.0  0.532928  0.532928     0.0  0.000000   \n",
       "\n",
       "     xinitrc  xset  user_label  \n",
       "0        0.0   0.0           0  \n",
       "1        0.0   0.0           0  \n",
       "2        0.0   0.0           0  \n",
       "3        0.0   0.0           0  \n",
       "4        0.0   0.0           0  \n",
       "..       ...   ...         ...  \n",
       "995      0.0   0.0           9  \n",
       "996      0.0   0.0           9  \n",
       "997      0.0   0.0           9  \n",
       "998      0.0   0.0           9  \n",
       "999      0.0   0.0           9  \n",
       "\n",
       "[1000 rows x 57 columns]"
      ]
     },
     "execution_count": 802,
     "metadata": {},
     "output_type": "execute_result"
    }
   ],
   "source": [
    "X_test = pd.DataFrame.sparse.from_spmatrix(tfidf_vec.transform([' '.join(x) for x in test.tolist()]), columns=tfidf_vec.get_feature_names_out()).sparse.to_dense()\n",
    "y_test_user = pd.Series([idx//100 for idx in X_test.index], name='user_label')\n",
    "X_test.join(y_test_user)"
>>>>>>> ecc920778820ded154e814aee1d7dcf061929c9a
   ]
  },
  {
   "cell_type": "code",
<<<<<<< HEAD
   "execution_count": 254,
   "id": "dc46c72b-1c44-40e3-a38f-c47c7c60bfdc",
   "metadata": {},
   "outputs": [],
   "source": [
    "def get_all_features(top_n=100):\n",
    "    all_features = []\n",
    "    for uid in range(NUM_USERS):\n",
    "        gram1_hist = seg_to_hist(seg_df.iloc[uid, :])\n",
    "        top_n_user = tfidf_per_user(uid, top_n=top_n)\n",
    "        ngram_hist = seg_to_hist(seg_df.iloc[uid, :], vocab=top_n_user)\n",
    "        # print(gram1_hist.shape)\n",
    "        most_common = np.expand_dims(np.array([w2x[stats.mode(x).mode[0]] for x in seg_df.iloc[uid, :]]), axis=-1)\n",
    "        most_common_count = np.expand_dims(np.array([stats.mode(x).count[0] for x in seg_df.iloc[uid, :]]), axis=-1)\n",
    "        num_unique = np.expand_dims(np.array([len(set(x)) for x in seg_df.iloc[uid, :]]), axis=-1)\n",
    "        # ngram_hist = ngram_to_histogram(seg_df.iloc[uid, :])\n",
    "        all_features.append(np.concatenate([gram1_hist, ngram_hist, most_common, num_unique], axis=1))\n",
    "    return all_features"
=======
   "execution_count": 803,
   "id": "36838c3a-78fb-4a70-8ae8-ef156d73e1ca",
   "metadata": {},
   "outputs": [],
   "source": [
    "X_train = tfidf_features"
>>>>>>> ecc920778820ded154e814aee1d7dcf061929c9a
   ]
  },
  {
   "cell_type": "code",
<<<<<<< HEAD
   "execution_count": 263,
   "id": "1a534656-e821-4952-af28-242aa53e2261",
   "metadata": {},
   "outputs": [],
   "source": [
    "features_per_user_seg = get_all_features(10)\n",
    "features_per_user_seg[1][0].shape"
=======
   "execution_count": 804,
   "id": "64a07ec5-9dd2-4d5a-885d-ddbe9fd6bdb7",
   "metadata": {},
   "outputs": [
    {
     "name": "stderr",
     "output_type": "stream",
     "text": [
      "C:\\Users\\tom\\.conda\\envs\\dl\\lib\\site-packages\\sklearn\\neural_network\\_multilayer_perceptron.py:692: ConvergenceWarning: Stochastic Optimizer: Maximum iterations (200) reached and the optimization hasn't converged yet.\n",
      "  warnings.warn(\n"
     ]
    },
    {
     "data": {
      "text/plain": [
       "MLPClassifier()"
      ]
     },
     "execution_count": 804,
     "metadata": {},
     "output_type": "execute_result"
    }
   ],
   "source": [
    "# clf = KNeighborsClassifier(n_neighbors=3, weights='distance')\n",
    "clf = MLPClassifier()\n",
    "clf.fit(X_train, y_train_user)"
>>>>>>> ecc920778820ded154e814aee1d7dcf061929c9a
   ]
  },
  {
   "cell_type": "code",
<<<<<<< HEAD
   "execution_count": 265,
   "id": "a681f143",
   "metadata": {},
   "outputs": [],
   "source": [
    "def build_train_data(uid, features_per_user_seg, other_users):\n",
    "    x_train = features_per_user_seg[uid][:TRAIN_SEG]\n",
    "    for i in range(NUM_USERS):\n",
    "        if i != uid:\n",
    "            x_train = np.concatenate([x_train, features_per_user_seg[i][:other_users]])\n",
    "    y_train = np.concatenate([np.zeros(TRAIN_SEG), np.ones(other_users*(NUM_USERS-1))])\n",
    "    return x_train, y_train"
=======
   "execution_count": 805,
   "id": "ec0ec055-5a72-481e-b1ee-7814587446e3",
   "metadata": {},
   "outputs": [],
   "source": [
    "train_preds = clf.predict(X_train)\n",
    "train_probas = clf.predict_proba(X_train)"
>>>>>>> ecc920778820ded154e814aee1d7dcf061929c9a
   ]
  },
  {
   "cell_type": "code",
<<<<<<< HEAD
   "execution_count": 308,
   "id": "5844e602",
   "metadata": {},
   "outputs": [],
   "source": [
    "def build_train_model(uid, features_per_user_seg,other_users=3, top_n=15):\n",
    "    x_train, y_train = build_train_data(uid, features_per_user_seg,other_users)\n",
    "    clf = MLPClassifier(hidden_layer_sizes=(100,), max_iter=1000)\n",
    "    clf.fit(x_train, y_train)\n",
    "    y_test = y_test_df.iloc[uid].to_numpy()\n",
    "    probas = clf.predict_proba(features_per_user_seg[uid][TRAIN_SEG:])[:,1]\n",
    "    preds = [1 if p in sorted(probas)[-top_n:] else 0 for p in probas]\n",
    "    return get_metrics(y_test, preds)"
=======
   "execution_count": 806,
   "id": "db4fb795-e170-45a0-8a14-66757ac69616",
   "metadata": {},
   "outputs": [],
   "source": [
    "test_preds = clf.predict(X_test)\n",
    "test_probas = clf.predict_proba(X_test)"
>>>>>>> ecc920778820ded154e814aee1d7dcf061929c9a
   ]
  },
  {
   "cell_type": "code",
<<<<<<< HEAD
   "execution_count": 309,
   "id": "f9989103-df10-4cd0-901d-af5f91185cf8",
   "metadata": {},
   "outputs": [],
   "source": [
    "def build_test_model(uid, features_per_user_seg,other_users=3, top_n=15):\n",
    "    x_train, y_train = build_train_data(uid, features_per_user_seg,other_users)\n",
    "    clf = MLPClassifier(learning_rate='adaptive', hidden_layer_sizes=(100,), max_iter=1000)\n",
    "    clf.fit(x_train, y_train)\n",
    "    probas = clf.predict_proba(features_per_user_seg[uid][TRAIN_SEG:])[:,1]\n",
    "    preds = [1 if p in sorted(probas)[-top_n:] else 0 for p in probas]\n",
    "    return preds"
   ]
  },
  {
   "cell_type": "code",
   "execution_count": 313,
   "id": "1a658e7d-4663-46e0-a08b-82621b0f82e2",
   "metadata": {
    "tags": []
   },
   "outputs": [
    {
     "name": "stdout",
     "output_type": "stream",
     "text": [
      "Acc: 0.88\n",
      "Precision: 0.45\n",
      "Recall: 0.9\n",
      "F1 Score: 0.6\n",
      "Classification Score: 160\n",
      "Final Grade: 9.967213114754099\n",
      "Acc: 0.88\n",
      "Precision: 0.45\n",
      "Recall: 0.9\n",
      "F1 Score: 0.6\n",
      "Classification Score: 160\n",
      "Final Grade: 9.967213114754099\n",
      "Acc: 0.9\n",
      "Precision: 0.5\n",
      "Recall: 1.0\n",
      "F1 Score: 0.6666666666666666\n",
      "Classification Score: 170\n",
      "Final Grade: 10.59016393442623\n",
      "Acc: 0.88\n",
      "Precision: 0.45\n",
      "Recall: 0.9\n",
      "F1 Score: 0.6\n",
      "Classification Score: 160\n",
      "Final Grade: 9.967213114754099\n",
      "Acc: 0.86\n",
      "Precision: 0.4\n",
      "Recall: 0.8\n",
      "F1 Score: 0.5333333333333333\n",
      "Classification Score: 150\n",
      "Final Grade: 9.344262295081966\n",
      "Acc: 0.82\n",
      "Precision: 0.3\n",
      "Recall: 0.6\n",
      "F1 Score: 0.4\n",
      "Classification Score: 130\n",
      "Final Grade: 8.098360655737705\n",
      "Acc: 0.87\n",
      "Precision: 0.43478260869565216\n",
      "Recall: 1.0\n",
      "F1 Score: 0.6060606060606061\n",
      "Classification Score: 167\n",
      "Final Grade: 10.40327868852459\n",
      "Acc: 0.79\n",
      "Precision: 0.23809523809523808\n",
      "Recall: 0.5\n",
      "F1 Score: 0.3225806451612903\n",
      "Classification Score: 119\n",
      "Final Grade: 7.413114754098361\n",
      "Acc: 0.83\n",
      "Precision: 0.37037037037037035\n",
      "Recall: 1.0\n",
      "F1 Score: 0.5405405405405406\n",
      "Classification Score: 163\n",
      "Final Grade: 10.154098360655738\n",
      "Acc: 0.9\n",
      "Precision: 0.5\n",
      "Recall: 1.0\n",
      "F1 Score: 0.6666666666666666\n",
      "Classification Score: 170\n",
      "Final Grade: 10.59016393442623\n",
      "1549\n"
     ]
    }
   ],
   "source": [
    "total_score = 0\n",
    "for uid in range(LABELED_USERS):\n",
    "    score = build_train_model(uid,features_per_user_seg, other_users=2, top_n=20)\n",
    "    total_score += score\n",
    "print(total_score)"
=======
   "execution_count": 807,
   "id": "aa2a4516-fdf4-40fc-9e75-e99acc8f8559",
   "metadata": {},
   "outputs": [],
   "source": [
    "y_test = pd.Series(y_test.to_numpy().flatten())"
>>>>>>> ecc920778820ded154e814aee1d7dcf061929c9a
   ]
  },
  {
   "cell_type": "code",
<<<<<<< HEAD
   "execution_count": 314,
   "id": "d95bb1c5-cf30-4e60-9259-6b74716c91ce",
   "metadata": {
    "tags": []
   },
   "outputs": [],
   "source": [
    "preds = []\n",
    "for uid in range(LABELED_USERS, NUM_USERS):\n",
    "    preds += [build_test_model(uid,features_per_user_seg, 3)]"
=======
   "execution_count": 808,
   "id": "0cac591a-e564-4ac2-83b9-30911384a32f",
   "metadata": {},
   "outputs": [
    {
     "data": {
      "text/plain": [
       "((1000, 10), (1000,))"
      ]
     },
     "execution_count": 808,
     "metadata": {},
     "output_type": "execute_result"
    }
   ],
   "source": [
    "test_probas.shape, y_test_user.shape"
>>>>>>> ecc920778820ded154e814aee1d7dcf061929c9a
   ]
  },
  {
   "cell_type": "code",
<<<<<<< HEAD
   "execution_count": 315,
   "id": "bd119a77-0594-4c6c-b058-e1f4fdbc7a8b",
=======
   "execution_count": 809,
   "id": "ccb95116-40f3-472e-ae2d-30f731076883",
>>>>>>> ecc920778820ded154e814aee1d7dcf061929c9a
   "metadata": {},
   "outputs": [
    {
     "data": {
      "text/plain": [
<<<<<<< HEAD
       "array([15, 15, 15, 15, 15, 16, 15, 15, 17, 15, 15, 15, 15, 15, 15, 15, 15,\n",
       "       15, 15, 15, 15, 15, 15, 15, 15, 15, 15, 15, 15, 15])"
      ]
     },
     "execution_count": 315,
=======
       "0.829"
      ]
     },
     "execution_count": 809,
>>>>>>> ecc920778820ded154e814aee1d7dcf061929c9a
     "metadata": {},
     "output_type": "execute_result"
    }
   ],
   "source": [
<<<<<<< HEAD
    "np.array(preds).sum(axis=1)"
=======
    "top_k_accuracy_score(y_test_user, test_probas, k=1)"
>>>>>>> ecc920778820ded154e814aee1d7dcf061929c9a
   ]
  },
  {
   "cell_type": "code",
<<<<<<< HEAD
   "execution_count": 368,
   "id": "148aec5e-68b9-410e-a656-23aed876de90",
   "metadata": {},
   "outputs": [
    {
     "name": "stdin",
     "output_type": "stream",
     "text": [
      " 1\n"
     ]
    }
   ],
   "source": [
    "import os\n",
    "import shutil\n",
    "\n",
    "version = input()\n",
    "\n",
    "dir_path = f'submissions\\\\{version}'\n",
    "notebook_name = f'318443595_318949443_{version}.ipynb'\n",
    "if not os.path.exists(dir_path):\n",
    "    os.system(f'mkdir {dir_path}')\n",
    "\n",
    "shutil.copyfile('Untitled.ipynb', f'{dir_path}\\\\{notebook_name}')\n",
    "to_fill_df = pd.read_csv('challengeToFillOriginal.csv')\n",
    "to_fill_df.iloc[LABELED_USERS: ,TRAIN_SEG+1:] = np.array(preds, dtype=int)\n",
    "for col in to_fill_df.columns[1:]:\n",
    "    to_fill_df[col] = to_fill_df[col].astype(int)\n",
    "to_fill_df.to_csv(f'submissions/{version}/318443595_318949443_{version}.csv', index=False)"
=======
   "execution_count": 815,
   "id": "f47c5a03-5738-43d7-a39d-93983da36b0a",
   "metadata": {},
   "outputs": [
    {
     "name": "stdout",
     "output_type": "stream",
     "text": [
      "171\n"
     ]
    },
    {
     "data": {
      "text/plain": [
       "(1000,)"
      ]
     },
     "execution_count": 815,
     "metadata": {},
     "output_type": "execute_result"
    }
   ],
   "source": [
    "y_pred_seg = np.array([0 if t in p else 1 for t, p in zip(y_test_user, get_top_k_classes(test_probas, k=1))])\n",
    "print(y_pred_seg.sum())\n",
    "y_pred_seg.shape"
>>>>>>> ecc920778820ded154e814aee1d7dcf061929c9a
   ]
  },
  {
   "cell_type": "code",
<<<<<<< HEAD
   "execution_count": null,
   "id": "8eca0883-6fcd-43a3-9415-f25459779131",
   "metadata": {},
=======
   "execution_count": 816,
   "id": "1201ddd6-089a-4e54-8f9d-07960331293b",
   "metadata": {},
   "outputs": [
    {
     "name": "stdout",
     "output_type": "stream",
     "text": [
      "Acc: 0.761\n",
      "Precision: 0.0935672514619883\n",
      "Recall: 0.16\n",
      "F1 Score: 0.1180811808118081\n",
      "Classification Score: 889\n",
      "Final Grade: 55.38032786885246\n"
     ]
    },
    {
     "data": {
      "text/plain": [
       "55.38032786885246"
      ]
     },
     "execution_count": 816,
     "metadata": {},
     "output_type": "execute_result"
    }
   ],
   "source": [
    "get_metrics(y_test, y_pred_seg)"
   ]
  },
  {
   "cell_type": "code",
   "execution_count": null,
   "id": "ba70995b-8316-478b-a1e0-3f3b1d8edc19",
   "metadata": {},
>>>>>>> ecc920778820ded154e814aee1d7dcf061929c9a
   "outputs": [],
   "source": []
  }
 ],
 "metadata": {
  "kernelspec": {
   "display_name": "Python [conda env:.conda-dl] *",
   "language": "python",
   "name": "conda-env-.conda-dl-py"
  },
  "language_info": {
   "codemirror_mode": {
    "name": "ipython",
    "version": 3
   },
   "file_extension": ".py",
   "mimetype": "text/x-python",
   "name": "python",
   "nbconvert_exporter": "python",
   "pygments_lexer": "ipython3",
   "version": "3.9.12"
  }
 },
 "nbformat": 4,
 "nbformat_minor": 5
}
