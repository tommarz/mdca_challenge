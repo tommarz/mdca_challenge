{
 "cells": [
  {
   "cell_type": "markdown",
   "id": "2ae962e6-82ad-45d4-8a2e-a5280d423428",
   "metadata": {
    "tags": []
   },
   "source": [
    "# TF AE"
   ]
  },
  {
   "cell_type": "code",
   "execution_count": 1,
   "id": "c167742d-b3fd-4f9f-916d-77e3971434a7",
   "metadata": {},
   "outputs": [],
   "source": [
    "%run utils.ipynb"
   ]
  },
  {
   "cell_type": "code",
   "execution_count": 2,
   "id": "6ce0f9df-f559-427d-ba5d-34d9aa350a74",
   "metadata": {},
   "outputs": [],
   "source": [
    "import pandas as pd\n",
    "import numpy as np\n",
    "import os\n",
    "import sys\n",
    "# from utils import *\n",
    "import matplotlib.pyplot as plt\n",
    "%matplotlib inline\n",
    "from scipy import stats\n",
    "# import dill"
   ]
  },
  {
   "cell_type": "code",
   "execution_count": 3,
   "id": "80a5d4ab-188c-4316-b6fe-9c0bfefef836",
   "metadata": {},
   "outputs": [],
   "source": [
    "import sklearn\n",
    "from sklearn.svm import OneClassSVM\n",
    "from sklearn.metrics import roc_auc_score, precision_score, recall_score, f1_score, accuracy_score, confusion_matrix, top_k_accuracy_score\n",
    "from sklearn.preprocessing import OneHotEncoder, LabelEncoder, FunctionTransformer, MinMaxScaler\n",
    "from sklearn.compose import ColumnTransformer, make_column_transformer\n",
    "from sklearn.model_selection import train_test_split, KFold\n",
    "from sklearn.feature_extraction.text import TfidfVectorizer, TfidfTransformer, CountVectorizer\n",
    "from sklearn.ensemble import RandomForestClassifier\n",
    "from sklearn.linear_model import LogisticRegression\n",
    "from sklearn.neural_network import MLPClassifier\n",
    "from sklearn.neighbors import KNeighborsClassifier\n",
    "from sklearn.decomposition import PCA\n",
    "from sklearn.feature_extraction import DictVectorizer\n",
    "from sklearn.pipeline import Pipeline, make_pipeline"
   ]
  },
  {
   "cell_type": "code",
   "execution_count": 95,
   "id": "e9eb3d80-2656-40b5-9d33-6bcf63eb1174",
   "metadata": {},
   "outputs": [],
   "source": [
    "import tensorflow as tf\n",
    "from tensorflow.keras.layers import Dense, LSTM, Dropout, Activation, Input, Embedding, TextVectorization, Reshape, Add, Concatenate, Flatten, Conv1D, Conv1DTranspose, BatchNormalization\n",
    "from tensorflow.keras.losses import binary_crossentropy\n",
    "from tensorflow.keras.models import Model, Sequential\n",
    "from tensorflow.keras.optimizers import Adam, SGD\n",
    "from tensorflow.keras.callbacks import ReduceLROnPlateau, ModelCheckpoint, EarlyStopping\n",
    "from tensorflow.keras.metrics import RootMeanSquaredError"
   ]
  },
  {
   "cell_type": "code",
   "execution_count": 58,
   "id": "bd65af24-b574-4de6-a50c-746b2009048c",
   "metadata": {},
   "outputs": [],
   "source": [
    "import keras.backend as K\n",
    "\n",
    "def root_mean_squared_error(y_true, y_pred):\n",
    "        return K.sqrt(K.mean(K.square(y_pred - y_true))) "
   ]
  },
  {
   "cell_type": "code",
   "execution_count": 5,
   "id": "df0e818e-ab0f-4888-9358-fbe327847bfe",
   "metadata": {
    "scrolled": true
   },
   "outputs": [
    {
     "name": "stdout",
     "output_type": "stream",
     "text": [
      "(40, 150)\n",
      "(10, 50)\n",
      "(10, 100)\n"
     ]
    }
   ],
   "source": [
    "_, seg_df = load_user_data()\n",
    "print(seg_df.shape)\n",
    "y = pd.read_csv('challengeToFill.csv').drop(columns=['Unnamed: 0']).T.reset_index(drop=True).T\n",
    "y_train = y.iloc[:LABELED_USERS, :TRAIN_SEG]\n",
    "y_test_df = y.iloc[:LABELED_USERS, TRAIN_SEG:]\n",
    "train_df = seg_df.iloc[:LABELED_USERS, :TRAIN_SEG]\n",
    "test_df = seg_df.iloc[:LABELED_USERS, TRAIN_SEG:]\n",
    "submission_df = seg_df.iloc[LABELED_USERS:, TRAIN_SEG:]\n",
    "sentences = train_df.to_numpy().flatten().tolist()\n",
    "# embedding_model = create_embeddings(sentences, vector_size=EMBEDDING_DIM, window=5)\n",
    "# print(embedding_model.wv)\n",
    "print(train_df.shape)\n",
    "print(test_df.shape)"
   ]
  },
  {
   "cell_type": "code",
   "execution_count": 6,
   "id": "6e9db376-2ecf-40cb-82c3-e80ae819023e",
   "metadata": {},
   "outputs": [],
   "source": [
    "all_commands = np.unique(seg_df.to_numpy().flatten().tolist()).tolist()"
   ]
  },
  {
   "cell_type": "code",
   "execution_count": 7,
   "id": "580ce8cb-5ee5-4ef8-a6fe-be1c23a84aaa",
   "metadata": {},
   "outputs": [
    {
     "data": {
      "text/plain": [
       "((500,), (1000,))"
      ]
     },
     "execution_count": 7,
     "metadata": {},
     "output_type": "execute_result"
    }
   ],
   "source": [
    "train = train_df.to_numpy().flatten()\n",
    "test = test_df.to_numpy().flatten()\n",
    "train.shape, test.shape"
   ]
  },
  {
   "cell_type": "raw",
   "id": "2925fe03-adc0-4ab5-8e66-de6afd876f6b",
   "metadata": {},
   "source": [
    "w2x = {k: idx for idx, k in enumerate(all_commands)}\n",
    "x2w = {idx: k for idx, k in enumerate(all_commands)}"
   ]
  },
  {
   "cell_type": "raw",
   "id": "7eb20552-1615-4dec-801e-be6f8db30fae",
   "metadata": {},
   "source": [
    "def seg_to_hist(segs, vocab=all_commands):\n",
    "    count_vec = CountVectorizer(lowercase=False, vocabulary=vocab)\n",
    "    features = count_vec.transform([' '.join(seg) for seg in segs])\n",
    "    return features.toarray()"
   ]
  },
  {
   "cell_type": "raw",
   "id": "262fb7f9-dca7-497e-831e-eea6b3fbe53c",
   "metadata": {},
   "source": [
    "def tfidf_per_user(uid, top_n=100):\n",
    "    documents = []\n",
    "    for i in range(NUM_USERS):\n",
    "        documents.append(' '.join([' '.join(x) for x in seg_df.iloc[i,:TRAIN_SEG]]))\n",
    "    tfidf = TfidfVectorizer(ngram_range=(3,3))\n",
    "    data = tfidf.fit_transform(documents)\n",
    "    tfidf_features = pd.DataFrame.sparse.from_spmatrix(data, columns=tfidf.get_feature_names_out()).sparse.to_dense().T\n",
    "    tfidf_features.columns = [f'user{i}' for i in range(NUM_USERS)]\n",
    "    top_n_user = tfidf_features.nlargest(top_n, f'user{uid}').index.tolist()\n",
    "    return top_n_user"
   ]
  },
  {
   "cell_type": "raw",
   "id": "9f2546db-89b2-4625-8027-3cf1812c1730",
   "metadata": {},
   "source": [
    "def get_all_features(top_n=100):\n",
    "    all_features = []\n",
    "    for uid in range(NUM_USERS):\n",
    "        gram1_hist = seg_to_hist(seg_df.iloc[uid, :])\n",
    "        top_n_user = tfidf_per_user(uid, top_n=top_n)\n",
    "        ngram_hist = seg_to_hist(seg_df.iloc[uid, :], vocab=top_n_user)\n",
    "        # print(gram1_hist.shape)\n",
    "        most_common = np.expand_dims(np.array([w2x[stats.mode(x).mode[0]] for x in seg_df.iloc[uid, :]]), axis=-1)\n",
    "        most_common_count = np.expand_dims(np.array([stats.mode(x).count[0] for x in seg_df.iloc[uid, :]]), axis=-1)\n",
    "        num_unique = np.expand_dims(np.array([len(set(x)) for x in seg_df.iloc[uid, :]]), axis=-1)\n",
    "        # ngram_hist = ngram_to_histogram(seg_df.iloc[uid, :])\n",
    "        all_features.append(np.concatenate([gram1_hist, ngram_hist, most_common, num_unique], axis=1))\n",
    "    return all_features"
   ]
  },
  {
   "cell_type": "raw",
   "id": "1c15e676-eb44-427e-ae4e-242f3ac0f5d1",
   "metadata": {},
   "source": [
    "features_per_user_seg = get_all_features(10)\n",
    "features_per_user_seg[1][0].shape"
   ]
  },
  {
   "cell_type": "raw",
   "id": "82f938ef-5902-4101-a55f-2161fa3ab3ad",
   "metadata": {},
   "source": [
    "def build_train_data(uid, features_per_user_seg, other_users):\n",
    "    x_train = features_per_user_seg[uid][:TRAIN_SEG]\n",
    "    for i in range(NUM_USERS):\n",
    "        if i != uid:\n",
    "            x_train = np.concatenate([x_train, features_per_user_seg[i][:other_users]])\n",
    "    y_train = np.concatenate([np.zeros(TRAIN_SEG), np.ones(other_users*(NUM_USERS-1))])\n",
    "    return x_train, y_train"
   ]
  },
  {
   "cell_type": "raw",
   "id": "e9c177f7-c7ee-47a2-ae6f-6ddbe938b9e2",
   "metadata": {},
   "source": [
    "def build_train_model(uid, features_per_user_seg,other_users=3, top_n=15):\n",
    "    x_train, y_train = build_train_data(uid, features_per_user_seg,other_users)\n",
    "    clf = MLPClassifier(hidden_layer_sizes=(100,), max_iter=1000)\n",
    "    clf.fit(x_train, y_train)\n",
    "    y_test = y_test_df.iloc[uid].to_numpy()\n",
    "    probas = clf.predict_proba(features_per_user_seg[uid][TRAIN_SEG:])[:,1]\n",
    "    preds = [1 if p in sorted(probas)[-top_n:] else 0 for p in probas]\n",
    "    return get_metrics(y_test, preds)"
   ]
  },
  {
   "cell_type": "raw",
   "id": "cf06cd38-e8bd-42f6-a4b4-24be808bd7bd",
   "metadata": {},
   "source": [
    "def build_test_model(uid, features_per_user_seg,other_users=3, top_n=15):\n",
    "    x_train, y_train = build_train_data(uid, features_per_user_seg,other_users)\n",
    "    clf = MLPClassifier(learning_rate='adaptive', hidden_layer_sizes=(100,), max_iter=1000)\n",
    "    clf.fit(x_train, y_train)\n",
    "    probas = clf.predict_proba(features_per_user_seg[uid][TRAIN_SEG:])[:,1]\n",
    "    preds = [1 if p in sorted(probas)[-top_n:] else 0 for p in probas]\n",
    "    return preds"
   ]
  },
  {
   "cell_type": "raw",
   "id": "9fb93af7-34b4-460f-ba3a-4a7b59e32e4c",
   "metadata": {
    "tags": []
   },
   "source": [
    "total_score = 0\n",
    "for uid in range(LABELED_USERS):\n",
    "    score = build_train_model(uid,features_per_user_seg, other_users=2, top_n=20)\n",
    "    total_score += score\n",
    "print(total_score)"
   ]
  },
  {
   "cell_type": "raw",
   "id": "1de76c07-3105-4906-a6ca-a7932eb5adf7",
   "metadata": {
    "tags": []
   },
   "source": [
    "preds = []\n",
    "for uid in range(LABELED_USERS, NUM_USERS):\n",
    "    preds += [build_test_model(uid,features_per_user_seg, 3)]"
   ]
  },
  {
   "cell_type": "raw",
   "id": "8164c6a4-2497-4610-911e-5ae7f51e75e2",
   "metadata": {},
   "source": [
    "np.array(preds).sum(axis=1)"
   ]
  },
  {
   "cell_type": "code",
   "execution_count": 9,
   "id": "ed854efc-be2c-436b-b998-2905c61fef39",
   "metadata": {},
   "outputs": [],
   "source": [
    "EMBEDDING_DIM = 128"
   ]
  },
  {
   "cell_type": "code",
   "execution_count": 63,
   "id": "cd40e59e-886c-44c5-ae55-f65a9bbf7089",
   "metadata": {},
   "outputs": [],
   "source": [
    "s = pd.Series(train_df.to_numpy().flatten()).apply(lambda x: ' '.join(x)).values.reshape(-1, 1).tolist()\n",
    "text_dataset = tf.data.Dataset.from_tensor_slices(s)\n",
    "vectorize_layer = TextVectorization(output_mode='int', output_sequence_length=SEG_SIZE)\n",
    "vectorize_layer.adapt(text_dataset.batch(64))"
   ]
  },
  {
   "cell_type": "code",
   "execution_count": 106,
   "id": "dd8ab613-cf5d-4a00-be3f-330348649808",
   "metadata": {},
   "outputs": [],
   "source": [
    "def build_encoder():\n",
    "    return Sequential([ BatchNormalization(),\n",
    "                        Dense(EMBEDDING_DIM*4, activation='relu'),\n",
    "                        Conv1D(64, 5, activation='relu'),\n",
    "                        Dense(EMBEDDING_DIM*2, activation='relu'),\n",
    "                        Conv1D(32, 3, activation='relu'),\n",
    "                        Dense(EMBEDDING_DIM)\n",
    "    ], name='encoder')"
   ]
  },
  {
   "cell_type": "code",
   "execution_count": 107,
   "id": "54c1fc4d-3ddd-4f7f-b0e7-03121cda7e10",
   "metadata": {
    "collapsed": true,
    "jupyter": {
     "outputs_hidden": true
    },
    "tags": []
   },
   "outputs": [
    {
     "ename": "ValueError",
     "evalue": "Input 0 of layer conv1d is incompatible with the layer: : expected min_ndim=3, found ndim=2. Full shape received: (None, 512)",
     "output_type": "error",
     "traceback": [
      "\u001b[1;31m---------------------------------------------------------------------------\u001b[0m",
      "\u001b[1;31mValueError\u001b[0m                                Traceback (most recent call last)",
      "Input \u001b[1;32mIn [107]\u001b[0m, in \u001b[0;36m<cell line: 2>\u001b[1;34m()\u001b[0m\n\u001b[0;32m      1\u001b[0m encoder \u001b[38;5;241m=\u001b[39m build_encoder()\n\u001b[1;32m----> 2\u001b[0m \u001b[43mencoder\u001b[49m\u001b[38;5;241;43m.\u001b[39;49m\u001b[43mbuild\u001b[49m\u001b[43m(\u001b[49m\u001b[43minput_shape\u001b[49m\u001b[38;5;241;43m=\u001b[39;49m\u001b[43m(\u001b[49m\u001b[38;5;28;43;01mNone\u001b[39;49;00m\u001b[43m,\u001b[49m\u001b[43m \u001b[49m\u001b[43mSEG_SIZE\u001b[49m\u001b[43m)\u001b[49m\u001b[43m)\u001b[49m\n\u001b[0;32m      3\u001b[0m encoder\u001b[38;5;241m.\u001b[39msummary()\n",
      "File \u001b[1;32m~\\.conda\\envs\\dl\\lib\\site-packages\\keras\\engine\\sequential.py:345\u001b[0m, in \u001b[0;36mSequential.build\u001b[1;34m(self, input_shape)\u001b[0m\n\u001b[0;32m    343\u001b[0m     input_shape \u001b[38;5;241m=\u001b[39m \u001b[38;5;28mtuple\u001b[39m(input_shape)\n\u001b[0;32m    344\u001b[0m     \u001b[38;5;28mself\u001b[39m\u001b[38;5;241m.\u001b[39m_build_input_shape \u001b[38;5;241m=\u001b[39m input_shape\n\u001b[1;32m--> 345\u001b[0m     \u001b[38;5;28;43msuper\u001b[39;49m\u001b[43m(\u001b[49m\u001b[43mSequential\u001b[49m\u001b[43m,\u001b[49m\u001b[43m \u001b[49m\u001b[38;5;28;43mself\u001b[39;49m\u001b[43m)\u001b[49m\u001b[38;5;241;43m.\u001b[39;49m\u001b[43mbuild\u001b[49m\u001b[43m(\u001b[49m\u001b[43minput_shape\u001b[49m\u001b[43m)\u001b[49m\n\u001b[0;32m    346\u001b[0m \u001b[38;5;28mself\u001b[39m\u001b[38;5;241m.\u001b[39mbuilt \u001b[38;5;241m=\u001b[39m \u001b[38;5;28;01mTrue\u001b[39;00m\n",
      "File \u001b[1;32m~\\.conda\\envs\\dl\\lib\\site-packages\\keras\\engine\\training.py:413\u001b[0m, in \u001b[0;36mModel.build\u001b[1;34m(self, input_shape)\u001b[0m\n\u001b[0;32m    410\u001b[0m   \u001b[38;5;28;01mraise\u001b[39;00m \u001b[38;5;167;01mValueError\u001b[39;00m(\u001b[38;5;124m'\u001b[39m\u001b[38;5;124mYou can only call `build` on a model if its `call` \u001b[39m\u001b[38;5;124m'\u001b[39m\n\u001b[0;32m    411\u001b[0m                    \u001b[38;5;124m'\u001b[39m\u001b[38;5;124mmethod accepts an `inputs` argument.\u001b[39m\u001b[38;5;124m'\u001b[39m)\n\u001b[0;32m    412\u001b[0m \u001b[38;5;28;01mtry\u001b[39;00m:\n\u001b[1;32m--> 413\u001b[0m   \u001b[38;5;28mself\u001b[39m\u001b[38;5;241m.\u001b[39mcall(x, \u001b[38;5;241m*\u001b[39m\u001b[38;5;241m*\u001b[39mkwargs)\n\u001b[0;32m    414\u001b[0m \u001b[38;5;28;01mexcept\u001b[39;00m (tf\u001b[38;5;241m.\u001b[39merrors\u001b[38;5;241m.\u001b[39mInvalidArgumentError, \u001b[38;5;167;01mTypeError\u001b[39;00m):\n\u001b[0;32m    415\u001b[0m   \u001b[38;5;28;01mraise\u001b[39;00m \u001b[38;5;167;01mValueError\u001b[39;00m(\u001b[38;5;124m'\u001b[39m\u001b[38;5;124mYou cannot build your model by calling `build` \u001b[39m\u001b[38;5;124m'\u001b[39m\n\u001b[0;32m    416\u001b[0m                    \u001b[38;5;124m'\u001b[39m\u001b[38;5;124mif your layers do not support float type inputs. \u001b[39m\u001b[38;5;124m'\u001b[39m\n\u001b[0;32m    417\u001b[0m                    \u001b[38;5;124m'\u001b[39m\u001b[38;5;124mInstead, in order to instantiate and build your \u001b[39m\u001b[38;5;124m'\u001b[39m\n\u001b[0;32m    418\u001b[0m                    \u001b[38;5;124m'\u001b[39m\u001b[38;5;124mmodel, `call` your model on real tensor data (of \u001b[39m\u001b[38;5;124m'\u001b[39m\n\u001b[0;32m    419\u001b[0m                    \u001b[38;5;124m'\u001b[39m\u001b[38;5;124mthe correct dtype).\u001b[39m\u001b[38;5;124m'\u001b[39m)\n",
      "File \u001b[1;32m~\\.conda\\envs\\dl\\lib\\site-packages\\keras\\engine\\sequential.py:383\u001b[0m, in \u001b[0;36mSequential.call\u001b[1;34m(self, inputs, training, mask)\u001b[0m\n\u001b[0;32m    380\u001b[0m \u001b[38;5;28;01mif\u001b[39;00m \u001b[38;5;124m'\u001b[39m\u001b[38;5;124mtraining\u001b[39m\u001b[38;5;124m'\u001b[39m \u001b[38;5;129;01min\u001b[39;00m argspec:\n\u001b[0;32m    381\u001b[0m   kwargs[\u001b[38;5;124m'\u001b[39m\u001b[38;5;124mtraining\u001b[39m\u001b[38;5;124m'\u001b[39m] \u001b[38;5;241m=\u001b[39m training\n\u001b[1;32m--> 383\u001b[0m outputs \u001b[38;5;241m=\u001b[39m layer(inputs, \u001b[38;5;241m*\u001b[39m\u001b[38;5;241m*\u001b[39mkwargs)\n\u001b[0;32m    385\u001b[0m \u001b[38;5;28;01mif\u001b[39;00m \u001b[38;5;28mlen\u001b[39m(tf\u001b[38;5;241m.\u001b[39mnest\u001b[38;5;241m.\u001b[39mflatten(outputs)) \u001b[38;5;241m!=\u001b[39m \u001b[38;5;241m1\u001b[39m:\n\u001b[0;32m    386\u001b[0m   \u001b[38;5;28;01mraise\u001b[39;00m \u001b[38;5;167;01mValueError\u001b[39;00m(SINGLE_LAYER_OUTPUT_ERROR_MSG)\n",
      "File \u001b[1;32m~\\.conda\\envs\\dl\\lib\\site-packages\\keras\\engine\\base_layer.py:1020\u001b[0m, in \u001b[0;36mLayer.__call__\u001b[1;34m(self, *args, **kwargs)\u001b[0m\n\u001b[0;32m   1013\u001b[0m eager \u001b[38;5;241m=\u001b[39m tf\u001b[38;5;241m.\u001b[39mexecuting_eagerly()\n\u001b[0;32m   1014\u001b[0m \u001b[38;5;28;01mwith\u001b[39;00m call_context\u001b[38;5;241m.\u001b[39menter(\n\u001b[0;32m   1015\u001b[0m     layer\u001b[38;5;241m=\u001b[39m\u001b[38;5;28mself\u001b[39m,\n\u001b[0;32m   1016\u001b[0m     inputs\u001b[38;5;241m=\u001b[39minputs,\n\u001b[0;32m   1017\u001b[0m     build_graph\u001b[38;5;241m=\u001b[39m\u001b[38;5;129;01mnot\u001b[39;00m eager,\n\u001b[0;32m   1018\u001b[0m     training\u001b[38;5;241m=\u001b[39mtraining_mode):\n\u001b[1;32m-> 1020\u001b[0m   \u001b[43minput_spec\u001b[49m\u001b[38;5;241;43m.\u001b[39;49m\u001b[43massert_input_compatibility\u001b[49m\u001b[43m(\u001b[49m\u001b[38;5;28;43mself\u001b[39;49m\u001b[38;5;241;43m.\u001b[39;49m\u001b[43minput_spec\u001b[49m\u001b[43m,\u001b[49m\u001b[43m \u001b[49m\u001b[43minputs\u001b[49m\u001b[43m,\u001b[49m\u001b[43m \u001b[49m\u001b[38;5;28;43mself\u001b[39;49m\u001b[38;5;241;43m.\u001b[39;49m\u001b[43mname\u001b[49m\u001b[43m)\u001b[49m\n\u001b[0;32m   1021\u001b[0m   \u001b[38;5;28;01mif\u001b[39;00m eager:\n\u001b[0;32m   1022\u001b[0m     call_fn \u001b[38;5;241m=\u001b[39m \u001b[38;5;28mself\u001b[39m\u001b[38;5;241m.\u001b[39mcall\n",
      "File \u001b[1;32m~\\.conda\\envs\\dl\\lib\\site-packages\\keras\\engine\\input_spec.py:229\u001b[0m, in \u001b[0;36massert_input_compatibility\u001b[1;34m(input_spec, inputs, layer_name)\u001b[0m\n\u001b[0;32m    227\u001b[0m   ndim \u001b[38;5;241m=\u001b[39m x\u001b[38;5;241m.\u001b[39mshape\u001b[38;5;241m.\u001b[39mrank\n\u001b[0;32m    228\u001b[0m   \u001b[38;5;28;01mif\u001b[39;00m ndim \u001b[38;5;129;01mis\u001b[39;00m \u001b[38;5;129;01mnot\u001b[39;00m \u001b[38;5;28;01mNone\u001b[39;00m \u001b[38;5;129;01mand\u001b[39;00m ndim \u001b[38;5;241m<\u001b[39m spec\u001b[38;5;241m.\u001b[39mmin_ndim:\n\u001b[1;32m--> 229\u001b[0m     \u001b[38;5;28;01mraise\u001b[39;00m \u001b[38;5;167;01mValueError\u001b[39;00m(\u001b[38;5;124m'\u001b[39m\u001b[38;5;124mInput \u001b[39m\u001b[38;5;124m'\u001b[39m \u001b[38;5;241m+\u001b[39m \u001b[38;5;28mstr\u001b[39m(input_index) \u001b[38;5;241m+\u001b[39m \u001b[38;5;124m'\u001b[39m\u001b[38;5;124m of layer \u001b[39m\u001b[38;5;124m'\u001b[39m \u001b[38;5;241m+\u001b[39m\n\u001b[0;32m    230\u001b[0m                      layer_name \u001b[38;5;241m+\u001b[39m \u001b[38;5;124m'\u001b[39m\u001b[38;5;124m is incompatible with the layer: \u001b[39m\u001b[38;5;124m'\u001b[39m\n\u001b[0;32m    231\u001b[0m                      \u001b[38;5;124m'\u001b[39m\u001b[38;5;124m: expected min_ndim=\u001b[39m\u001b[38;5;124m'\u001b[39m \u001b[38;5;241m+\u001b[39m \u001b[38;5;28mstr\u001b[39m(spec\u001b[38;5;241m.\u001b[39mmin_ndim) \u001b[38;5;241m+\u001b[39m\n\u001b[0;32m    232\u001b[0m                      \u001b[38;5;124m'\u001b[39m\u001b[38;5;124m, found ndim=\u001b[39m\u001b[38;5;124m'\u001b[39m \u001b[38;5;241m+\u001b[39m \u001b[38;5;28mstr\u001b[39m(ndim) \u001b[38;5;241m+\u001b[39m\n\u001b[0;32m    233\u001b[0m                      \u001b[38;5;124m'\u001b[39m\u001b[38;5;124m. Full shape received: \u001b[39m\u001b[38;5;124m'\u001b[39m \u001b[38;5;241m+\u001b[39m\n\u001b[0;32m    234\u001b[0m                      \u001b[38;5;28mstr\u001b[39m(\u001b[38;5;28mtuple\u001b[39m(shape)))\n\u001b[0;32m    235\u001b[0m \u001b[38;5;66;03m# Check dtype.\u001b[39;00m\n\u001b[0;32m    236\u001b[0m \u001b[38;5;28;01mif\u001b[39;00m spec\u001b[38;5;241m.\u001b[39mdtype \u001b[38;5;129;01mis\u001b[39;00m \u001b[38;5;129;01mnot\u001b[39;00m \u001b[38;5;28;01mNone\u001b[39;00m:\n",
      "\u001b[1;31mValueError\u001b[0m: Input 0 of layer conv1d is incompatible with the layer: : expected min_ndim=3, found ndim=2. Full shape received: (None, 512)"
     ]
    }
   ],
   "source": [
    "encoder = build_encoder()\n",
    "encoder.build(input_shape=(None, SEG_SIZE))\n",
    "encoder.summary()"
   ]
  },
  {
   "cell_type": "code",
   "execution_count": 98,
   "id": "845eda19-9321-4479-8a94-8617a16fa99b",
   "metadata": {},
   "outputs": [],
   "source": [
    "def build_decoder():\n",
    "    return Sequential([ Conv1DTranspose(32, 3, activation='relu'),\n",
    "                        Dense(EMBEDDING_DIM*2, activation='relu'),\n",
    "                        Conv1DTranspose(64, 5, activation='relu'),\n",
    "                        Dense(EMBEDDING_DIM*4, activation='relu'),\n",
    "                        BatchNormalization()\n",
    "                        Dense(SEG_SIZE)\n",
    "    ], name='decoder')"
   ]
  },
  {
   "cell_type": "code",
   "execution_count": 99,
   "id": "2aa697ed-ee73-472b-9286-62b8ee1085f1",
   "metadata": {},
   "outputs": [
    {
     "name": "stdout",
     "output_type": "stream",
     "text": [
      "Model: \"decoder\"\n",
      "_________________________________________________________________\n",
      "Layer (type)                 Output Shape              Param #   \n",
      "=================================================================\n",
      "dense_39 (Dense)             (None, 256)               33024     \n",
      "_________________________________________________________________\n",
      "dense_40 (Dense)             (None, 512)               131584    \n",
      "_________________________________________________________________\n",
      "dense_41 (Dense)             (None, 100)               51300     \n",
      "=================================================================\n",
      "Total params: 215,908\n",
      "Trainable params: 215,908\n",
      "Non-trainable params: 0\n",
      "_________________________________________________________________\n"
     ]
    }
   ],
   "source": [
    "decoder = build_decoder()\n",
    "decoder.build(input_shape=(None, EMBEDDING_DIM))\n",
    "decoder.summary()"
   ]
  },
  {
   "cell_type": "code",
   "execution_count": 100,
   "id": "71431ff3-2ff8-4351-a624-89bcf3e3463e",
   "metadata": {},
   "outputs": [
    {
     "name": "stdout",
     "output_type": "stream",
     "text": [
      "Model: \"autoencoder\"\n",
      "_________________________________________________________________\n",
      "Layer (type)                 Output Shape              Param #   \n",
      "=================================================================\n",
      "encoder (Sequential)         (None, 128)               216336    \n",
      "_________________________________________________________________\n",
      "decoder (Sequential)         (None, 100)               215908    \n",
      "=================================================================\n",
      "Total params: 432,244\n",
      "Trainable params: 432,044\n",
      "Non-trainable params: 200\n",
      "_________________________________________________________________\n"
     ]
    }
   ],
   "source": [
    "autoencoder = Sequential(name='autoencoder')\n",
    "autoencoder.add(encoder)\n",
    "autoencoder.add(decoder)\n",
    "autoencoder.build(input_shape=encoder.input_shape)\n",
    "autoencoder.compile(loss=root_mean_squared_error, optimizer='adam', metrics=RootMeanSquaredError(name='rmse'))\n",
    "autoencoder.summary()"
   ]
  },
  {
   "cell_type": "raw",
   "id": "7d2eaea6-706d-44ff-9d7d-05f39cb7753e",
   "metadata": {},
   "source": [
    "def build_autoencoder():\n",
    "    model = Sequential()\n",
    "    model.add(Input(shape=(SEG_SIZE)))\n",
    "    model.add(Embedding(vectorize_layer.vocabulary_size(), EMBEDDING_DIM))\n",
    "    model.add(LSTM(HIDDEN_DIM, return_sequences=True))\n",
    "    model.add(Dense(64, activation='relu'))\n",
    "    model.add(Dropout(0.25))\n",
    "    model.add(Dense(32))\n",
    "    model.add(Dense(1))\n",
    "    model.add(Flatten())\n",
    "    return model"
   ]
  },
  {
   "cell_type": "raw",
   "id": "6c171421-9050-4bbd-b539-1e9a7ac752c6",
   "metadata": {},
   "source": [
    "autoencoder = build_autoencoder()\n",
    "autoencoder.compile(loss='mae', optimizer='adam', metrics='mae')\n",
    "autoencoder.summary()"
   ]
  },
  {
   "cell_type": "raw",
   "id": "e0df33c6-4749-4e9a-b7fd-f0e2c3529bcb",
   "metadata": {},
   "source": [
    "train = vectorize_layer(s)"
   ]
  },
  {
   "cell_type": "code",
   "execution_count": 121,
   "id": "6c024b75-d7d4-469b-b5c5-684a8d8ce842",
   "metadata": {},
   "outputs": [],
   "source": [
    "cp = ModelCheckpoint('model.h5', save_best_only=True, verbose=1, save_weights_only=True)\n",
    "es = EarlyStopping(monitor=\"val_loss\", patience=100, mode=\"min\", verbose=1)\n",
    "rlop = ReduceLROnPlateau(patience=30, verbose=2)\n",
    "callbacks = [cp, es, rlop]"
   ]
  },
  {
   "cell_type": "code",
   "execution_count": 102,
   "id": "5c512524-2219-4ea0-91d0-34ec32460852",
   "metadata": {},
   "outputs": [
    {
     "data": {
      "text/plain": [
       "TensorShape([500, 100])"
      ]
     },
     "execution_count": 102,
     "metadata": {},
     "output_type": "execute_result"
    }
   ],
   "source": [
    "train.shape"
   ]
  },
  {
   "cell_type": "code",
   "execution_count": 103,
   "id": "21f90ffe-fa87-49cc-80ef-ee9687918874",
   "metadata": {},
   "outputs": [
    {
     "data": {
      "text/plain": [
       "array([[  7.,  19.,  19., ..., 116.,   2.,   2.],\n",
       "       [116.,   5.,   5., ...,  15.,  13.,  21.],\n",
       "       [ 21.,  72.,  15., ..., 187.,  21.,  21.],\n",
       "       ...,\n",
       "       [ 52.,  52.,  56., ...,  72.,  15.,  15.],\n",
       "       [ 13.,   5.,  76., ...,  79.,  12., 119.],\n",
       "       [130.,   2.,  18., ...,  18.,  79.,  12.]])"
      ]
     },
     "execution_count": 103,
     "metadata": {},
     "output_type": "execute_result"
    }
   ],
   "source": [
    "user_1 = train[:TRAIN_SEG, :].numpy().astype(float)\n",
    "user_1"
   ]
  },
  {
   "cell_type": "code",
   "execution_count": 104,
   "id": "956db824-00ab-47ce-9e59-9e00645dc595",
   "metadata": {
    "tags": []
   },
   "outputs": [
    {
     "name": "stdout",
     "output_type": "stream",
     "text": [
      "Epoch 1/500\n",
      "40/40 [==============================] - 1s 9ms/step - loss: 55.0726 - rmse: 57.9179 - val_loss: 63.5718 - val_rmse: 65.1263\n",
      "\n",
      "Epoch 00001: val_loss improved from inf to 63.57179, saving model to model.h5\n",
      "Epoch 2/500\n",
      "40/40 [==============================] - 0s 5ms/step - loss: 55.0549 - rmse: 57.9014 - val_loss: 63.8619 - val_rmse: 65.4396\n",
      "\n",
      "Epoch 00002: val_loss did not improve from 63.57179\n",
      "Epoch 3/500\n",
      "40/40 [==============================] - 0s 4ms/step - loss: 55.0371 - rmse: 57.8844 - val_loss: 64.3884 - val_rmse: 66.0012\n",
      "\n",
      "Epoch 00003: val_loss did not improve from 63.57179\n",
      "Epoch 4/500\n",
      "40/40 [==============================] - 0s 4ms/step - loss: 55.0193 - rmse: 57.8671 - val_loss: 65.2088 - val_rmse: 66.8751\n",
      "\n",
      "Epoch 00004: val_loss did not improve from 63.57179\n",
      "\n",
      "Epoch 00004: ReduceLROnPlateau reducing learning rate to 0.00010000000474974513.\n",
      "Epoch 5/500\n",
      "40/40 [==============================] - 0s 4ms/step - loss: 55.0093 - rmse: 57.8581 - val_loss: 66.4524 - val_rmse: 68.1911\n",
      "\n",
      "Epoch 00005: val_loss did not improve from 63.57179\n",
      "Epoch 6/500\n",
      "40/40 [==============================] - 0s 4ms/step - loss: 55.0075 - rmse: 57.8564 - val_loss: 68.2341 - val_rmse: 70.0802\n",
      "\n",
      "Epoch 00006: val_loss did not improve from 63.57179\n",
      "Epoch 00006: early stopping\n"
     ]
    }
   ],
   "source": [
    "history = autoencoder.fit(user_1, user_1, batch_size=1, epochs=500, validation_split=0.2, callbacks=callbacks)"
   ]
  },
  {
   "cell_type": "code",
   "execution_count": 122,
   "id": "4c5a43ce-e7fa-472d-9d3d-8adda856e471",
   "metadata": {},
   "outputs": [],
   "source": [
    "# create a model by subclassing Model class in tensorflow\n",
    "class AutoEncoder(Model):\n",
    "    \n",
    "    \"\"\"\n",
    "    Parameters\n",
    "    ----------\n",
    "    output_units: int\n",
    "    Number of output units\n",
    "\n",
    "    code_size: int\n",
    "    Number of units in bottle neck\n",
    "    \"\"\"\n",
    "\n",
    "    def __init__(self, output_units, hidden_dim=32, code_size=8):\n",
    "        super().__init__()\n",
    "        self.encoder = Sequential([\n",
    "            # Embedding(vectorize_layer.vocabulary_size(), EMBEDDING_DIM),\n",
    "            # LSTM(hidden_dim, return_sequences=True, dropout=0.5),\n",
    "            Dense(hidden_dim, activation='relu'),\n",
    "            Dropout(0.3),\n",
    "            Dense(hidden_dim//2, activation='relu'),\n",
    "            Dropout(0.2),\n",
    "            Dense(hidden_dim//4, activation='relu'),\n",
    "            Dropout(0.1),\n",
    "            # Dropout(0.1),\n",
    "            # Dense(16, activation='relu'),\n",
    "            # Dropout(0.1),\n",
    "            # Dense(code_size, activation='relu')\n",
    "            ], name='encoder')\n",
    "        \n",
    "        self.decoder = Sequential([\n",
    "            Dense(hidden_dim//4, activation='relu'),\n",
    "            Dropout(0.1),\n",
    "            Dense(hidden_dim//2, activation='relu'),\n",
    "            Dropout(0.2),\n",
    "            Dense(hidden_dim, activation='relu'),\n",
    "            Dropout(0.3),\n",
    "            Dense(output_units, activation='relu'),\n",
    "            Flatten()\n",
    "            ], name='decoder')\n",
    "\n",
    "    def call(self, inputs):\n",
    "        encoded = self.encoder(inputs)\n",
    "        decoded = self.decoder(encoded)\n",
    "        return decoded"
   ]
  },
  {
   "cell_type": "code",
   "execution_count": 132,
   "id": "86504eae-ecd0-4808-bef2-6526456ec75a",
   "metadata": {},
   "outputs": [
    {
     "name": "stdout",
     "output_type": "stream",
     "text": [
      "Model: \"auto_encoder_8\"\n",
      "_________________________________________________________________\n",
      "Layer (type)                 Output Shape              Param #   \n",
      "=================================================================\n",
      "encoder (Sequential)         (None, 8)                 1752      \n",
      "_________________________________________________________________\n",
      "decoder (Sequential)         (None, 100)               4060      \n",
      "=================================================================\n",
      "Total params: 5,812\n",
      "Trainable params: 5,812\n",
      "Non-trainable params: 0\n",
      "_________________________________________________________________\n"
     ]
    }
   ],
   "source": [
    "model = AutoEncoder(output_units=SEG_SIZE, hidden_dim=32)\n",
    "# configurations of model\n",
    "model.compile(loss=root_mean_squared_error, metrics=RootMeanSquaredError(name='rmse'), optimizer='adam')\n",
    "model.build(input_shape=(None, SEG_SIZE))\n",
    "model.summary()"
   ]
  },
  {
   "cell_type": "code",
   "execution_count": 133,
   "id": "ee6b90ef-3048-4a5a-b759-15188991b20d",
   "metadata": {},
   "outputs": [
    {
     "ename": "AttributeError",
     "evalue": "'numpy.ndarray' object has no attribute 'numpy'",
     "output_type": "error",
     "traceback": [
      "\u001b[1;31m---------------------------------------------------------------------------\u001b[0m",
      "\u001b[1;31mAttributeError\u001b[0m                            Traceback (most recent call last)",
      "Input \u001b[1;32mIn [133]\u001b[0m, in \u001b[0;36m<cell line: 1>\u001b[1;34m()\u001b[0m\n\u001b[1;32m----> 1\u001b[0m train \u001b[38;5;241m=\u001b[39m \u001b[43mtrain\u001b[49m\u001b[38;5;241;43m.\u001b[39;49m\u001b[43mnumpy\u001b[49m()\u001b[38;5;241m.\u001b[39mastype(\u001b[38;5;28mfloat\u001b[39m)\n",
      "\u001b[1;31mAttributeError\u001b[0m: 'numpy.ndarray' object has no attribute 'numpy'"
     ]
    }
   ],
   "source": [
    "train = train.numpy().astype(float)"
   ]
  },
  {
   "cell_type": "code",
   "execution_count": 134,
   "id": "c3545221-2db7-4ad6-b594-8fafa3ee9fc9",
   "metadata": {
    "tags": []
   },
   "outputs": [
    {
     "name": "stdout",
     "output_type": "stream",
     "text": [
      "Epoch 1/500\n",
      "94/94 [==============================] - 1s 5ms/step - loss: 47.7730 - rmse: 49.0299 - val_loss: 51.1093 - val_rmse: 52.3817\n",
      "\n",
      "Epoch 00001: val_loss did not improve from 43.42315\n",
      "Epoch 2/500\n",
      "94/94 [==============================] - 0s 3ms/step - loss: 46.3056 - rmse: 47.6796 - val_loss: 50.5032 - val_rmse: 51.7649\n",
      "\n",
      "Epoch 00002: val_loss did not improve from 43.42315\n",
      "Epoch 3/500\n",
      "94/94 [==============================] - 0s 3ms/step - loss: 45.2185 - rmse: 46.4846 - val_loss: 48.4695 - val_rmse: 49.6568\n",
      "\n",
      "Epoch 00003: val_loss did not improve from 43.42315\n",
      "Epoch 4/500\n",
      "94/94 [==============================] - 0s 3ms/step - loss: 43.9787 - rmse: 44.9779 - val_loss: 48.3367 - val_rmse: 49.5248\n",
      "\n",
      "Epoch 00004: val_loss did not improve from 43.42315\n",
      "Epoch 5/500\n",
      "94/94 [==============================] - 0s 3ms/step - loss: 43.2523 - rmse: 44.3790 - val_loss: 47.7297 - val_rmse: 48.9148\n",
      "\n",
      "Epoch 00005: val_loss did not improve from 43.42315\n",
      "Epoch 6/500\n",
      "94/94 [==============================] - 0s 4ms/step - loss: 42.3331 - rmse: 43.5465 - val_loss: 46.6138 - val_rmse: 47.7317\n",
      "\n",
      "Epoch 00006: val_loss did not improve from 43.42315\n",
      "Epoch 7/500\n",
      "94/94 [==============================] - 0s 3ms/step - loss: 41.8866 - rmse: 43.0213 - val_loss: 46.9419 - val_rmse: 48.0839\n",
      "\n",
      "Epoch 00007: val_loss did not improve from 43.42315\n",
      "Epoch 8/500\n",
      "94/94 [==============================] - 0s 3ms/step - loss: 41.5021 - rmse: 42.6535 - val_loss: 47.8522 - val_rmse: 49.0512\n",
      "\n",
      "Epoch 00008: val_loss did not improve from 43.42315\n",
      "Epoch 9/500\n",
      "94/94 [==============================] - 0s 3ms/step - loss: 40.7671 - rmse: 41.8538 - val_loss: 47.1925 - val_rmse: 48.3611\n",
      "\n",
      "Epoch 00009: val_loss did not improve from 43.42315\n",
      "Epoch 10/500\n",
      "94/94 [==============================] - 0s 3ms/step - loss: 40.8511 - rmse: 42.2133 - val_loss: 48.0214 - val_rmse: 49.2368\n",
      "\n",
      "Epoch 00010: val_loss did not improve from 43.42315\n",
      "Epoch 11/500\n",
      "94/94 [==============================] - 0s 3ms/step - loss: 41.0727 - rmse: 42.0646 - val_loss: 47.4449 - val_rmse: 48.6325\n",
      "\n",
      "Epoch 00011: val_loss did not improve from 43.42315\n",
      "Epoch 12/500\n",
      "94/94 [==============================] - 0s 3ms/step - loss: 40.1874 - rmse: 41.4492 - val_loss: 47.7987 - val_rmse: 49.0039\n",
      "\n",
      "Epoch 00012: val_loss did not improve from 43.42315\n",
      "Epoch 13/500\n",
      "94/94 [==============================] - 0s 3ms/step - loss: 40.2528 - rmse: 41.4556 - val_loss: 47.3941 - val_rmse: 48.5684\n",
      "\n",
      "Epoch 00013: val_loss did not improve from 43.42315\n",
      "Epoch 14/500\n",
      "94/94 [==============================] - 0s 3ms/step - loss: 40.1586 - rmse: 41.2114 - val_loss: 47.0877 - val_rmse: 48.2711\n",
      "\n",
      "Epoch 00014: val_loss did not improve from 43.42315\n",
      "Epoch 15/500\n",
      "94/94 [==============================] - 0s 4ms/step - loss: 40.2281 - rmse: 41.4418 - val_loss: 47.7573 - val_rmse: 48.9607\n",
      "\n",
      "Epoch 00015: val_loss did not improve from 43.42315\n",
      "Epoch 16/500\n",
      "94/94 [==============================] - 0s 4ms/step - loss: 40.3215 - rmse: 41.7818 - val_loss: 47.0410 - val_rmse: 48.2216\n",
      "\n",
      "Epoch 00016: val_loss did not improve from 43.42315\n",
      "Epoch 17/500\n",
      "94/94 [==============================] - 0s 5ms/step - loss: 39.6112 - rmse: 40.7640 - val_loss: 46.8069 - val_rmse: 47.9684\n",
      "\n",
      "Epoch 00017: val_loss did not improve from 43.42315\n",
      "Epoch 18/500\n",
      "94/94 [==============================] - 0s 4ms/step - loss: 39.9765 - rmse: 41.1125 - val_loss: 47.4441 - val_rmse: 48.6449\n",
      "\n",
      "Epoch 00018: val_loss did not improve from 43.42315\n",
      "Epoch 19/500\n",
      "94/94 [==============================] - 0s 4ms/step - loss: 39.3859 - rmse: 40.5891 - val_loss: 47.5326 - val_rmse: 48.7426\n",
      "\n",
      "Epoch 00019: val_loss did not improve from 43.42315\n",
      "Epoch 20/500\n",
      "94/94 [==============================] - 0s 5ms/step - loss: 39.7236 - rmse: 40.5779 - val_loss: 46.9432 - val_rmse: 48.1131\n",
      "\n",
      "Epoch 00020: val_loss did not improve from 43.42315\n",
      "Epoch 21/500\n",
      "94/94 [==============================] - 0s 4ms/step - loss: 39.5342 - rmse: 40.6218 - val_loss: 47.6793 - val_rmse: 48.8904\n",
      "\n",
      "Epoch 00021: val_loss did not improve from 43.42315\n",
      "Epoch 22/500\n",
      "94/94 [==============================] - 1s 6ms/step - loss: 39.8795 - rmse: 40.9988 - val_loss: 48.0051 - val_rmse: 49.2436\n",
      "\n",
      "Epoch 00022: val_loss did not improve from 43.42315\n",
      "Epoch 23/500\n",
      "94/94 [==============================] - 0s 4ms/step - loss: 39.3986 - rmse: 40.3549 - val_loss: 46.6748 - val_rmse: 47.8607\n",
      "\n",
      "Epoch 00023: val_loss did not improve from 43.42315\n",
      "Epoch 24/500\n",
      "94/94 [==============================] - 0s 4ms/step - loss: 39.4431 - rmse: 40.4180 - val_loss: 47.1637 - val_rmse: 48.3676\n",
      "\n",
      "Epoch 00024: val_loss did not improve from 43.42315\n",
      "Epoch 25/500\n",
      "94/94 [==============================] - 0s 4ms/step - loss: 39.6403 - rmse: 40.6591 - val_loss: 47.4536 - val_rmse: 48.6732\n",
      "\n",
      "Epoch 00025: val_loss did not improve from 43.42315\n",
      "Epoch 26/500\n",
      "94/94 [==============================] - 0s 5ms/step - loss: 39.8172 - rmse: 40.8064 - val_loss: 47.6951 - val_rmse: 48.9287\n",
      "\n",
      "Epoch 00026: val_loss did not improve from 43.42315\n",
      "Epoch 27/500\n",
      "94/94 [==============================] - 0s 5ms/step - loss: 39.4808 - rmse: 40.7653 - val_loss: 47.4028 - val_rmse: 48.6263\n",
      "\n",
      "Epoch 00027: val_loss did not improve from 43.42315\n",
      "Epoch 28/500\n",
      "94/94 [==============================] - 0s 4ms/step - loss: 39.2838 - rmse: 40.3123 - val_loss: 48.0323 - val_rmse: 49.2791\n",
      "\n",
      "Epoch 00028: val_loss did not improve from 43.42315\n",
      "Epoch 29/500\n",
      "94/94 [==============================] - 0s 4ms/step - loss: 39.5409 - rmse: 40.5912 - val_loss: 47.4471 - val_rmse: 48.6744\n",
      "\n",
      "Epoch 00029: val_loss did not improve from 43.42315\n",
      "Epoch 30/500\n",
      "94/94 [==============================] - 0s 4ms/step - loss: 39.3684 - rmse: 40.4899 - val_loss: 47.0879 - val_rmse: 48.3048\n",
      "\n",
      "Epoch 00030: val_loss did not improve from 43.42315\n",
      "Epoch 31/500\n",
      "94/94 [==============================] - 0s 5ms/step - loss: 39.8686 - rmse: 40.7426 - val_loss: 47.6332 - val_rmse: 48.8764\n",
      "\n",
      "Epoch 00031: val_loss did not improve from 43.42315\n",
      "Epoch 32/500\n",
      "94/94 [==============================] - 0s 4ms/step - loss: 38.8712 - rmse: 40.3891 - val_loss: 47.2409 - val_rmse: 48.4560\n",
      "\n",
      "Epoch 00032: val_loss did not improve from 43.42315\n",
      "Epoch 33/500\n",
      "94/94 [==============================] - 0s 4ms/step - loss: 39.2630 - rmse: 40.3756 - val_loss: 47.2125 - val_rmse: 48.4296\n",
      "\n",
      "Epoch 00033: val_loss did not improve from 43.42315\n",
      "Epoch 34/500\n",
      "94/94 [==============================] - 1s 6ms/step - loss: 38.7357 - rmse: 40.0513 - val_loss: 46.7914 - val_rmse: 47.9899\n",
      "\n",
      "Epoch 00034: val_loss did not improve from 43.42315\n",
      "Epoch 35/500\n",
      "94/94 [==============================] - 0s 5ms/step - loss: 39.2337 - rmse: 40.2156 - val_loss: 46.8624 - val_rmse: 48.0646\n",
      "\n",
      "Epoch 00035: val_loss did not improve from 43.42315\n",
      "Epoch 36/500\n",
      "94/94 [==============================] - 1s 6ms/step - loss: 39.2041 - rmse: 40.0483 - val_loss: 46.2141 - val_rmse: 47.3944\n",
      "\n",
      "Epoch 00036: val_loss did not improve from 43.42315\n",
      "Epoch 37/500\n",
      "94/94 [==============================] - 0s 5ms/step - loss: 39.0451 - rmse: 40.0744 - val_loss: 46.9379 - val_rmse: 48.1510\n",
      "\n",
      "Epoch 00037: val_loss did not improve from 43.42315\n",
      "Epoch 38/500\n",
      "94/94 [==============================] - 0s 4ms/step - loss: 39.1474 - rmse: 40.1427 - val_loss: 47.1007 - val_rmse: 48.3150\n",
      "\n",
      "Epoch 00038: val_loss did not improve from 43.42315\n",
      "Epoch 39/500\n",
      "94/94 [==============================] - 0s 4ms/step - loss: 39.1538 - rmse: 40.2478 - val_loss: 47.6468 - val_rmse: 48.8910\n",
      "\n",
      "Epoch 00039: val_loss did not improve from 43.42315\n",
      "Epoch 40/500\n",
      "94/94 [==============================] - 0s 5ms/step - loss: 39.1555 - rmse: 40.0520 - val_loss: 46.9551 - val_rmse: 48.1678\n",
      "\n",
      "Epoch 00040: val_loss did not improve from 43.42315\n",
      "Epoch 41/500\n",
      "94/94 [==============================] - 1s 6ms/step - loss: 39.0962 - rmse: 40.2156 - val_loss: 46.3309 - val_rmse: 47.5202\n",
      "\n",
      "Epoch 00041: val_loss did not improve from 43.42315\n",
      "Epoch 42/500\n",
      "94/94 [==============================] - 0s 5ms/step - loss: 39.2585 - rmse: 40.3528 - val_loss: 47.6819 - val_rmse: 48.9306\n",
      "\n",
      "Epoch 00042: val_loss did not improve from 43.42315\n",
      "Epoch 43/500\n",
      "94/94 [==============================] - 0s 4ms/step - loss: 39.0057 - rmse: 40.0071 - val_loss: 47.4080 - val_rmse: 48.6523\n",
      "\n",
      "Epoch 00043: val_loss did not improve from 43.42315\n",
      "Epoch 44/500\n",
      "94/94 [==============================] - 0s 4ms/step - loss: 39.2333 - rmse: 40.3408 - val_loss: 47.3163 - val_rmse: 48.5519\n",
      "\n",
      "Epoch 00044: val_loss did not improve from 43.42315\n",
      "Epoch 45/500\n",
      "94/94 [==============================] - 0s 4ms/step - loss: 38.9463 - rmse: 40.2217 - val_loss: 48.1182 - val_rmse: 49.3949\n",
      "\n",
      "Epoch 00045: val_loss did not improve from 43.42315\n",
      "Epoch 46/500\n",
      "94/94 [==============================] - 0s 4ms/step - loss: 39.1260 - rmse: 40.1385 - val_loss: 47.7071 - val_rmse: 48.9572\n",
      "\n",
      "Epoch 00046: val_loss did not improve from 43.42315\n",
      "Epoch 47/500\n",
      "94/94 [==============================] - 0s 4ms/step - loss: 38.7469 - rmse: 39.8803 - val_loss: 46.8054 - val_rmse: 48.0257\n",
      "\n",
      "Epoch 00047: val_loss did not improve from 43.42315\n",
      "Epoch 48/500\n",
      "94/94 [==============================] - 0s 3ms/step - loss: 38.6432 - rmse: 39.8326 - val_loss: 47.2258 - val_rmse: 48.4679\n",
      "\n",
      "Epoch 00048: val_loss did not improve from 43.42315\n",
      "Epoch 49/500\n",
      "94/94 [==============================] - 0s 3ms/step - loss: 38.4656 - rmse: 39.6271 - val_loss: 46.6809 - val_rmse: 47.8978\n",
      "\n",
      "Epoch 00049: val_loss did not improve from 43.42315\n",
      "Epoch 50/500\n",
      "94/94 [==============================] - 0s 5ms/step - loss: 39.0196 - rmse: 39.9727 - val_loss: 47.0321 - val_rmse: 48.2674\n",
      "\n",
      "Epoch 00050: val_loss did not improve from 43.42315\n",
      "Epoch 51/500\n",
      "94/94 [==============================] - 0s 3ms/step - loss: 38.5554 - rmse: 39.7044 - val_loss: 47.3782 - val_rmse: 48.6328\n",
      "\n",
      "Epoch 00051: val_loss did not improve from 43.42315\n",
      "Epoch 52/500\n",
      "94/94 [==============================] - 0s 3ms/step - loss: 38.7516 - rmse: 39.8717 - val_loss: 47.2399 - val_rmse: 48.4974\n",
      "\n",
      "Epoch 00052: val_loss did not improve from 43.42315\n",
      "Epoch 53/500\n",
      "94/94 [==============================] - 0s 4ms/step - loss: 38.7532 - rmse: 39.7543 - val_loss: 46.8265 - val_rmse: 48.0751\n",
      "\n",
      "Epoch 00053: val_loss did not improve from 43.42315\n",
      "Epoch 54/500\n",
      "94/94 [==============================] - 0s 3ms/step - loss: 38.7653 - rmse: 39.7198 - val_loss: 47.1223 - val_rmse: 48.3807\n",
      "\n",
      "Epoch 00054: val_loss did not improve from 43.42315\n",
      "Epoch 55/500\n",
      "94/94 [==============================] - 0s 3ms/step - loss: 38.5450 - rmse: 39.6042 - val_loss: 46.4579 - val_rmse: 47.6839\n",
      "\n",
      "Epoch 00055: val_loss did not improve from 43.42315\n",
      "Epoch 56/500\n",
      "94/94 [==============================] - 0s 3ms/step - loss: 38.7818 - rmse: 39.9599 - val_loss: 46.7625 - val_rmse: 47.9913\n",
      "\n",
      "Epoch 00056: val_loss did not improve from 43.42315\n",
      "Epoch 57/500\n",
      "94/94 [==============================] - 0s 4ms/step - loss: 38.6744 - rmse: 39.7912 - val_loss: 46.2238 - val_rmse: 47.4368\n",
      "\n",
      "Epoch 00057: val_loss did not improve from 43.42315\n",
      "Epoch 58/500\n",
      "94/94 [==============================] - 0s 4ms/step - loss: 38.6070 - rmse: 39.7361 - val_loss: 46.2683 - val_rmse: 47.4896\n",
      "\n",
      "Epoch 00058: val_loss did not improve from 43.42315\n",
      "Epoch 59/500\n",
      "94/94 [==============================] - 0s 3ms/step - loss: 38.6218 - rmse: 39.8051 - val_loss: 46.8259 - val_rmse: 48.0706\n",
      "\n",
      "Epoch 00059: val_loss did not improve from 43.42315\n",
      "Epoch 60/500\n",
      "94/94 [==============================] - 0s 3ms/step - loss: 38.6783 - rmse: 39.7705 - val_loss: 46.6774 - val_rmse: 47.9181\n",
      "\n",
      "Epoch 00060: val_loss did not improve from 43.42315\n",
      "Epoch 61/500\n",
      "94/94 [==============================] - 0s 3ms/step - loss: 38.9253 - rmse: 39.8702 - val_loss: 46.4331 - val_rmse: 47.6610\n",
      "\n",
      "Epoch 00061: val_loss did not improve from 43.42315\n",
      "Epoch 62/500\n",
      "94/94 [==============================] - 0s 3ms/step - loss: 38.6747 - rmse: 39.7236 - val_loss: 45.3428 - val_rmse: 46.5341\n",
      "\n",
      "Epoch 00062: val_loss did not improve from 43.42315\n",
      "Epoch 63/500\n",
      "94/94 [==============================] - 0s 4ms/step - loss: 38.7161 - rmse: 39.6536 - val_loss: 46.8732 - val_rmse: 48.1236\n",
      "\n",
      "Epoch 00063: val_loss did not improve from 43.42315\n",
      "Epoch 64/500\n",
      "94/94 [==============================] - 0s 4ms/step - loss: 38.7443 - rmse: 39.6906 - val_loss: 47.0714 - val_rmse: 48.3314\n",
      "\n",
      "Epoch 00064: val_loss did not improve from 43.42315\n",
      "Epoch 65/500\n",
      "94/94 [==============================] - 0s 4ms/step - loss: 38.7904 - rmse: 39.7926 - val_loss: 47.1173 - val_rmse: 48.3825\n",
      "\n",
      "Epoch 00065: val_loss did not improve from 43.42315\n",
      "Epoch 66/500\n",
      "94/94 [==============================] - 0s 4ms/step - loss: 38.5593 - rmse: 39.6439 - val_loss: 47.6960 - val_rmse: 48.9796\n",
      "\n",
      "Epoch 00066: val_loss did not improve from 43.42315\n",
      "Epoch 67/500\n",
      "94/94 [==============================] - 0s 4ms/step - loss: 38.3963 - rmse: 39.5653 - val_loss: 45.9751 - val_rmse: 47.1905\n",
      "\n",
      "Epoch 00067: val_loss did not improve from 43.42315\n",
      "Epoch 68/500\n",
      "94/94 [==============================] - 0s 3ms/step - loss: 38.5773 - rmse: 39.4733 - val_loss: 46.9420 - val_rmse: 48.1929\n",
      "\n",
      "Epoch 00068: val_loss did not improve from 43.42315\n",
      "Epoch 69/500\n",
      "94/94 [==============================] - 0s 4ms/step - loss: 38.8021 - rmse: 39.9486 - val_loss: 45.9587 - val_rmse: 47.1808\n",
      "\n",
      "Epoch 00069: val_loss did not improve from 43.42315\n",
      "Epoch 70/500\n",
      "94/94 [==============================] - 0s 4ms/step - loss: 38.5009 - rmse: 39.5245 - val_loss: 47.0992 - val_rmse: 48.3761\n",
      "\n",
      "Epoch 00070: val_loss did not improve from 43.42315\n",
      "Epoch 71/500\n",
      "94/94 [==============================] - 0s 3ms/step - loss: 38.9208 - rmse: 39.9754 - val_loss: 46.2915 - val_rmse: 47.5377\n",
      "\n",
      "Epoch 00071: val_loss did not improve from 43.42315\n",
      "Epoch 72/500\n",
      "94/94 [==============================] - 0s 3ms/step - loss: 38.5669 - rmse: 39.7469 - val_loss: 46.6183 - val_rmse: 47.8807\n",
      "\n",
      "Epoch 00072: val_loss did not improve from 43.42315\n",
      "Epoch 73/500\n",
      "94/94 [==============================] - 0s 3ms/step - loss: 38.5487 - rmse: 39.7617 - val_loss: 46.9884 - val_rmse: 48.2685\n",
      "\n",
      "Epoch 00073: val_loss did not improve from 43.42315\n",
      "Epoch 74/500\n",
      "94/94 [==============================] - 0s 3ms/step - loss: 38.5792 - rmse: 39.6402 - val_loss: 46.6110 - val_rmse: 47.8738\n",
      "\n",
      "Epoch 00074: val_loss did not improve from 43.42315\n",
      "Epoch 75/500\n",
      "94/94 [==============================] - 0s 3ms/step - loss: 38.3319 - rmse: 39.5425 - val_loss: 46.4247 - val_rmse: 47.6823\n",
      "\n",
      "Epoch 00075: val_loss did not improve from 43.42315\n",
      "Epoch 76/500\n",
      "94/94 [==============================] - 0s 3ms/step - loss: 38.4818 - rmse: 39.7698 - val_loss: 45.7295 - val_rmse: 46.9557\n",
      "\n",
      "Epoch 00076: val_loss did not improve from 43.42315\n",
      "Epoch 77/500\n",
      "94/94 [==============================] - 0s 4ms/step - loss: 38.4088 - rmse: 39.6012 - val_loss: 46.7956 - val_rmse: 48.0686\n",
      "\n",
      "Epoch 00077: val_loss did not improve from 43.42315\n",
      "Epoch 78/500\n",
      "94/94 [==============================] - 0s 4ms/step - loss: 38.6888 - rmse: 39.6625 - val_loss: 45.5385 - val_rmse: 46.7536\n",
      "\n",
      "Epoch 00078: val_loss did not improve from 43.42315\n",
      "Epoch 79/500\n",
      "94/94 [==============================] - 0s 3ms/step - loss: 38.2833 - rmse: 39.2829 - val_loss: 46.4641 - val_rmse: 47.7139\n",
      "\n",
      "Epoch 00079: val_loss did not improve from 43.42315\n",
      "Epoch 80/500\n",
      "94/94 [==============================] - 0s 3ms/step - loss: 38.5139 - rmse: 39.4970 - val_loss: 46.7115 - val_rmse: 47.9811\n",
      "\n",
      "Epoch 00080: val_loss did not improve from 43.42315\n",
      "Epoch 81/500\n",
      "94/94 [==============================] - 0s 3ms/step - loss: 38.4018 - rmse: 39.5576 - val_loss: 46.4983 - val_rmse: 47.7528\n",
      "\n",
      "Epoch 00081: val_loss did not improve from 43.42315\n",
      "Epoch 82/500\n",
      "94/94 [==============================] - 0s 3ms/step - loss: 38.3520 - rmse: 39.4319 - val_loss: 46.0511 - val_rmse: 47.2931\n",
      "\n",
      "Epoch 00082: val_loss did not improve from 43.42315\n",
      "Epoch 83/500\n",
      "94/94 [==============================] - 0s 3ms/step - loss: 38.4571 - rmse: 39.4755 - val_loss: 46.5459 - val_rmse: 47.8039\n",
      "\n",
      "Epoch 00083: val_loss did not improve from 43.42315\n",
      "Epoch 84/500\n",
      "94/94 [==============================] - 0s 3ms/step - loss: 38.7374 - rmse: 39.6226 - val_loss: 45.9029 - val_rmse: 47.1384\n",
      "\n",
      "Epoch 00084: val_loss did not improve from 43.42315\n",
      "Epoch 85/500\n",
      "94/94 [==============================] - 0s 3ms/step - loss: 38.3888 - rmse: 39.4818 - val_loss: 46.7888 - val_rmse: 48.0671\n",
      "\n",
      "Epoch 00085: val_loss did not improve from 43.42315\n",
      "Epoch 86/500\n",
      "94/94 [==============================] - 0s 3ms/step - loss: 38.4719 - rmse: 39.8942 - val_loss: 46.2192 - val_rmse: 47.4677\n",
      "\n",
      "Epoch 00086: val_loss did not improve from 43.42315\n",
      "Epoch 87/500\n",
      "94/94 [==============================] - 0s 3ms/step - loss: 38.2514 - rmse: 39.3477 - val_loss: 45.8812 - val_rmse: 47.1255\n",
      "\n",
      "Epoch 00087: val_loss did not improve from 43.42315\n",
      "Epoch 88/500\n",
      "94/94 [==============================] - 0s 4ms/step - loss: 38.6528 - rmse: 39.6936 - val_loss: 46.5077 - val_rmse: 47.7816\n",
      "\n",
      "Epoch 00088: val_loss did not improve from 43.42315\n",
      "Epoch 89/500\n",
      "94/94 [==============================] - 0s 3ms/step - loss: 38.3209 - rmse: 39.3815 - val_loss: 46.3588 - val_rmse: 47.6197\n",
      "\n",
      "Epoch 00089: val_loss did not improve from 43.42315\n",
      "Epoch 90/500\n",
      "94/94 [==============================] - 0s 3ms/step - loss: 38.3366 - rmse: 39.3366 - val_loss: 45.8211 - val_rmse: 47.0607\n",
      "\n",
      "Epoch 00090: val_loss did not improve from 43.42315\n",
      "Epoch 91/500\n",
      "94/94 [==============================] - 0s 3ms/step - loss: 38.5073 - rmse: 39.5229 - val_loss: 46.8531 - val_rmse: 48.1456\n",
      "\n",
      "Epoch 00091: val_loss did not improve from 43.42315\n",
      "Epoch 92/500\n",
      "94/94 [==============================] - 0s 3ms/step - loss: 38.5057 - rmse: 39.5202 - val_loss: 45.8578 - val_rmse: 47.1069\n",
      "\n",
      "Epoch 00092: val_loss did not improve from 43.42315\n",
      "\n",
      "Epoch 00092: ReduceLROnPlateau reducing learning rate to 0.00010000000474974513.\n",
      "Epoch 93/500\n",
      "94/94 [==============================] - 0s 3ms/step - loss: 38.2116 - rmse: 39.2542 - val_loss: 45.7730 - val_rmse: 47.0188\n",
      "\n",
      "Epoch 00093: val_loss did not improve from 43.42315\n",
      "Epoch 94/500\n",
      "94/94 [==============================] - 0s 3ms/step - loss: 38.6774 - rmse: 39.7391 - val_loss: 46.1411 - val_rmse: 47.4029\n",
      "\n",
      "Epoch 00094: val_loss did not improve from 43.42315\n",
      "Epoch 95/500\n",
      "94/94 [==============================] - 0s 3ms/step - loss: 38.3921 - rmse: 39.6135 - val_loss: 46.1709 - val_rmse: 47.4352\n",
      "\n",
      "Epoch 00095: val_loss did not improve from 43.42315\n",
      "Epoch 96/500\n",
      "94/94 [==============================] - 0s 3ms/step - loss: 38.4750 - rmse: 39.5604 - val_loss: 46.0793 - val_rmse: 47.3392\n",
      "\n",
      "Epoch 00096: val_loss did not improve from 43.42315\n",
      "Epoch 97/500\n",
      "94/94 [==============================] - 0s 3ms/step - loss: 38.3948 - rmse: 39.3781 - val_loss: 46.0224 - val_rmse: 47.2797\n",
      "\n",
      "Epoch 00097: val_loss did not improve from 43.42315\n",
      "Epoch 98/500\n",
      "94/94 [==============================] - 0s 3ms/step - loss: 38.0574 - rmse: 39.1333 - val_loss: 46.1553 - val_rmse: 47.4183\n",
      "\n",
      "Epoch 00098: val_loss did not improve from 43.42315\n",
      "Epoch 99/500\n",
      "94/94 [==============================] - 0s 3ms/step - loss: 38.4913 - rmse: 39.4303 - val_loss: 46.3840 - val_rmse: 47.6562\n",
      "\n",
      "Epoch 00099: val_loss did not improve from 43.42315\n",
      "Epoch 100/500\n",
      "94/94 [==============================] - 0s 3ms/step - loss: 38.7531 - rmse: 39.6958 - val_loss: 46.4171 - val_rmse: 47.6905\n",
      "\n",
      "Epoch 00100: val_loss did not improve from 43.42315\n",
      "Epoch 101/500\n",
      "94/94 [==============================] - 0s 3ms/step - loss: 38.4502 - rmse: 39.5468 - val_loss: 46.0219 - val_rmse: 47.2793\n",
      "\n",
      "Epoch 00101: val_loss did not improve from 43.42315\n",
      "Epoch 102/500\n",
      "94/94 [==============================] - 0s 3ms/step - loss: 38.5558 - rmse: 39.7184 - val_loss: 46.0338 - val_rmse: 47.2926\n",
      "\n",
      "Epoch 00102: val_loss did not improve from 43.42315\n",
      "Epoch 103/500\n",
      "94/94 [==============================] - 0s 3ms/step - loss: 38.0912 - rmse: 39.1958 - val_loss: 46.0069 - val_rmse: 47.2638\n",
      "\n",
      "Epoch 00103: val_loss did not improve from 43.42315\n",
      "Epoch 104/500\n",
      "94/94 [==============================] - 0s 3ms/step - loss: 38.1738 - rmse: 39.1829 - val_loss: 46.1060 - val_rmse: 47.3662\n",
      "\n",
      "Epoch 00104: val_loss did not improve from 43.42315\n",
      "Epoch 105/500\n",
      "94/94 [==============================] - 0s 3ms/step - loss: 38.6625 - rmse: 39.6719 - val_loss: 46.1286 - val_rmse: 47.3899\n",
      "\n",
      "Epoch 00105: val_loss did not improve from 43.42315\n",
      "Epoch 106/500\n",
      "94/94 [==============================] - 0s 3ms/step - loss: 38.4328 - rmse: 39.5835 - val_loss: 46.1669 - val_rmse: 47.4301\n",
      "\n",
      "Epoch 00106: val_loss did not improve from 43.42315\n",
      "Epoch 107/500\n",
      "94/94 [==============================] - 0s 3ms/step - loss: 38.2678 - rmse: 39.3640 - val_loss: 46.2868 - val_rmse: 47.5541\n",
      "\n",
      "Epoch 00107: val_loss did not improve from 43.42315\n",
      "Epoch 108/500\n",
      "94/94 [==============================] - 0s 3ms/step - loss: 38.4160 - rmse: 39.3026 - val_loss: 46.3202 - val_rmse: 47.5912\n",
      "\n",
      "Epoch 00108: val_loss did not improve from 43.42315\n",
      "Epoch 109/500\n",
      "94/94 [==============================] - 0s 3ms/step - loss: 38.4500 - rmse: 39.5459 - val_loss: 46.2487 - val_rmse: 47.5176\n",
      "\n",
      "Epoch 00109: val_loss did not improve from 43.42315\n",
      "Epoch 110/500\n",
      "94/94 [==============================] - 0s 3ms/step - loss: 38.5782 - rmse: 39.6290 - val_loss: 46.1672 - val_rmse: 47.4320\n",
      "\n",
      "Epoch 00110: val_loss did not improve from 43.42315\n",
      "Epoch 111/500\n",
      "94/94 [==============================] - 0s 3ms/step - loss: 38.4268 - rmse: 39.5683 - val_loss: 46.3604 - val_rmse: 47.6344\n",
      "\n",
      "Epoch 00111: val_loss did not improve from 43.42315\n",
      "Epoch 112/500\n",
      "94/94 [==============================] - 0s 3ms/step - loss: 38.4715 - rmse: 39.8111 - val_loss: 46.2305 - val_rmse: 47.5001\n",
      "\n",
      "Epoch 00112: val_loss did not improve from 43.42315\n",
      "Epoch 113/500\n",
      "94/94 [==============================] - 0s 3ms/step - loss: 38.4160 - rmse: 39.5102 - val_loss: 46.4748 - val_rmse: 47.7546\n",
      "\n",
      "Epoch 00113: val_loss did not improve from 43.42315\n",
      "Epoch 114/500\n",
      "94/94 [==============================] - 0s 3ms/step - loss: 38.6310 - rmse: 39.6700 - val_loss: 46.3785 - val_rmse: 47.6529\n",
      "\n",
      "Epoch 00114: val_loss did not improve from 43.42315\n",
      "Epoch 115/500\n",
      "94/94 [==============================] - 0s 3ms/step - loss: 38.6015 - rmse: 39.5175 - val_loss: 46.4053 - val_rmse: 47.6807\n",
      "\n",
      "Epoch 00115: val_loss did not improve from 43.42315\n",
      "Epoch 116/500\n",
      "94/94 [==============================] - 0s 3ms/step - loss: 38.3213 - rmse: 39.4665 - val_loss: 46.2486 - val_rmse: 47.5163\n",
      "\n",
      "Epoch 00116: val_loss did not improve from 43.42315\n",
      "Epoch 117/500\n",
      "94/94 [==============================] - 0s 3ms/step - loss: 38.2493 - rmse: 39.3806 - val_loss: 46.3457 - val_rmse: 47.6150\n",
      "\n",
      "Epoch 00117: val_loss did not improve from 43.42315\n",
      "Epoch 118/500\n",
      "94/94 [==============================] - 0s 3ms/step - loss: 38.4221 - rmse: 39.4800 - val_loss: 46.0845 - val_rmse: 47.3439\n",
      "\n",
      "Epoch 00118: val_loss did not improve from 43.42315\n",
      "Epoch 119/500\n",
      "94/94 [==============================] - 0s 3ms/step - loss: 38.2240 - rmse: 39.3061 - val_loss: 46.0106 - val_rmse: 47.2673\n",
      "\n",
      "Epoch 00119: val_loss did not improve from 43.42315\n",
      "Epoch 120/500\n",
      "94/94 [==============================] - 0s 3ms/step - loss: 37.9733 - rmse: 39.2961 - val_loss: 46.0123 - val_rmse: 47.2704\n",
      "\n",
      "Epoch 00120: val_loss did not improve from 43.42315\n",
      "Epoch 121/500\n",
      "94/94 [==============================] - 0s 3ms/step - loss: 38.2435 - rmse: 39.4703 - val_loss: 46.3601 - val_rmse: 47.6333\n",
      "\n",
      "Epoch 00121: val_loss did not improve from 43.42315\n",
      "Epoch 122/500\n",
      "94/94 [==============================] - 0s 3ms/step - loss: 38.2620 - rmse: 39.2747 - val_loss: 46.1709 - val_rmse: 47.4355\n",
      "\n",
      "Epoch 00122: val_loss did not improve from 43.42315\n",
      "\n",
      "Epoch 00122: ReduceLROnPlateau reducing learning rate to 1.0000000474974514e-05.\n",
      "Epoch 123/500\n",
      "94/94 [==============================] - 0s 3ms/step - loss: 38.5419 - rmse: 39.5371 - val_loss: 46.2046 - val_rmse: 47.4706\n",
      "\n",
      "Epoch 00123: val_loss did not improve from 43.42315\n",
      "Epoch 124/500\n",
      "94/94 [==============================] - 0s 3ms/step - loss: 38.4643 - rmse: 39.5979 - val_loss: 46.2115 - val_rmse: 47.4778\n",
      "\n",
      "Epoch 00124: val_loss did not improve from 43.42315\n",
      "Epoch 125/500\n",
      "94/94 [==============================] - 0s 3ms/step - loss: 38.5506 - rmse: 39.5912 - val_loss: 46.2308 - val_rmse: 47.4977\n",
      "\n",
      "Epoch 00125: val_loss did not improve from 43.42315\n",
      "Epoch 126/500\n",
      "94/94 [==============================] - 0s 3ms/step - loss: 38.2427 - rmse: 39.2587 - val_loss: 46.2047 - val_rmse: 47.4705\n",
      "\n",
      "Epoch 00126: val_loss did not improve from 43.42315\n",
      "Epoch 127/500\n",
      "94/94 [==============================] - 0s 3ms/step - loss: 38.1920 - rmse: 39.3011 - val_loss: 46.2283 - val_rmse: 47.4951\n",
      "\n",
      "Epoch 00127: val_loss did not improve from 43.42315\n",
      "Epoch 128/500\n",
      "94/94 [==============================] - 0s 3ms/step - loss: 38.1499 - rmse: 39.2354 - val_loss: 46.2132 - val_rmse: 47.4794\n",
      "\n",
      "Epoch 00128: val_loss did not improve from 43.42315\n",
      "Epoch 129/500\n",
      "94/94 [==============================] - 0s 3ms/step - loss: 38.4719 - rmse: 39.5631 - val_loss: 46.2203 - val_rmse: 47.4866\n",
      "\n",
      "Epoch 00129: val_loss did not improve from 43.42315\n",
      "Epoch 130/500\n",
      "94/94 [==============================] - 0s 3ms/step - loss: 38.2664 - rmse: 39.3591 - val_loss: 46.2230 - val_rmse: 47.4895\n",
      "\n",
      "Epoch 00130: val_loss did not improve from 43.42315\n",
      "Epoch 131/500\n",
      "94/94 [==============================] - 0s 3ms/step - loss: 38.6416 - rmse: 39.6177 - val_loss: 46.2235 - val_rmse: 47.4900\n",
      "\n",
      "Epoch 00131: val_loss did not improve from 43.42315\n",
      "Epoch 132/500\n",
      "94/94 [==============================] - 0s 3ms/step - loss: 38.2875 - rmse: 39.3215 - val_loss: 46.2445 - val_rmse: 47.5118\n",
      "\n",
      "Epoch 00132: val_loss did not improve from 43.42315\n",
      "Epoch 133/500\n",
      "94/94 [==============================] - 0s 3ms/step - loss: 38.1954 - rmse: 39.3567 - val_loss: 46.2408 - val_rmse: 47.5081\n",
      "\n",
      "Epoch 00133: val_loss did not improve from 43.42315\n",
      "Epoch 134/500\n",
      "94/94 [==============================] - 0s 3ms/step - loss: 38.0724 - rmse: 39.3352 - val_loss: 46.2593 - val_rmse: 47.5275\n",
      "\n",
      "Epoch 00134: val_loss did not improve from 43.42315\n",
      "Epoch 135/500\n",
      "94/94 [==============================] - 0s 4ms/step - loss: 38.2432 - rmse: 39.1857 - val_loss: 46.2669 - val_rmse: 47.5354\n",
      "\n",
      "Epoch 00135: val_loss did not improve from 43.42315\n",
      "Epoch 136/500\n",
      "94/94 [==============================] - 0s 3ms/step - loss: 38.5601 - rmse: 39.7385 - val_loss: 46.2452 - val_rmse: 47.5129\n",
      "\n",
      "Epoch 00136: val_loss did not improve from 43.42315\n",
      "Epoch 137/500\n",
      "94/94 [==============================] - 0s 3ms/step - loss: 38.3596 - rmse: 39.5218 - val_loss: 46.2412 - val_rmse: 47.5088\n",
      "\n",
      "Epoch 00137: val_loss did not improve from 43.42315\n",
      "Epoch 138/500\n",
      "94/94 [==============================] - 0s 3ms/step - loss: 38.1904 - rmse: 39.1410 - val_loss: 46.2457 - val_rmse: 47.5134\n",
      "\n",
      "Epoch 00138: val_loss did not improve from 43.42315\n",
      "Epoch 139/500\n",
      "94/94 [==============================] - 0s 3ms/step - loss: 38.2307 - rmse: 39.5093 - val_loss: 46.2556 - val_rmse: 47.5237\n",
      "\n",
      "Epoch 00139: val_loss did not improve from 43.42315\n",
      "Epoch 140/500\n",
      "94/94 [==============================] - 0s 3ms/step - loss: 38.3947 - rmse: 39.5588 - val_loss: 46.2637 - val_rmse: 47.5322\n",
      "\n",
      "Epoch 00140: val_loss did not improve from 43.42315\n",
      "Epoch 141/500\n",
      "94/94 [==============================] - 0s 3ms/step - loss: 38.3871 - rmse: 39.3601 - val_loss: 46.2502 - val_rmse: 47.5182\n",
      "\n",
      "Epoch 00141: val_loss did not improve from 43.42315\n",
      "Epoch 142/500\n",
      "94/94 [==============================] - 0s 3ms/step - loss: 38.4462 - rmse: 39.5868 - val_loss: 46.2162 - val_rmse: 47.4826\n",
      "\n",
      "Epoch 00142: val_loss did not improve from 43.42315\n",
      "Epoch 143/500\n",
      "94/94 [==============================] - 0s 3ms/step - loss: 38.1065 - rmse: 39.2116 - val_loss: 46.2085 - val_rmse: 47.4746\n",
      "\n",
      "Epoch 00143: val_loss did not improve from 43.42315\n",
      "Epoch 144/500\n",
      "94/94 [==============================] - 0s 3ms/step - loss: 38.1151 - rmse: 39.1961 - val_loss: 46.2271 - val_rmse: 47.4939\n",
      "\n",
      "Epoch 00144: val_loss did not improve from 43.42315\n",
      "Epoch 145/500\n",
      "94/94 [==============================] - 0s 3ms/step - loss: 38.6418 - rmse: 39.6662 - val_loss: 46.2200 - val_rmse: 47.4865\n",
      "\n",
      "Epoch 00145: val_loss did not improve from 43.42315\n",
      "Epoch 146/500\n",
      "94/94 [==============================] - 0s 3ms/step - loss: 38.3238 - rmse: 39.1827 - val_loss: 46.2207 - val_rmse: 47.4871\n",
      "\n",
      "Epoch 00146: val_loss did not improve from 43.42315\n",
      "Epoch 147/500\n",
      "94/94 [==============================] - 0s 3ms/step - loss: 38.3825 - rmse: 39.5411 - val_loss: 46.2186 - val_rmse: 47.4847\n",
      "\n",
      "Epoch 00147: val_loss did not improve from 43.42315\n",
      "Epoch 148/500\n",
      "94/94 [==============================] - 0s 4ms/step - loss: 38.3667 - rmse: 39.5864 - val_loss: 46.2112 - val_rmse: 47.4771\n",
      "\n",
      "Epoch 00148: val_loss did not improve from 43.42315\n",
      "Epoch 149/500\n",
      "94/94 [==============================] - 0s 3ms/step - loss: 38.7751 - rmse: 39.8494 - val_loss: 46.1920 - val_rmse: 47.4569\n",
      "\n",
      "Epoch 00149: val_loss did not improve from 43.42315\n",
      "Epoch 150/500\n",
      "94/94 [==============================] - 0s 3ms/step - loss: 38.2304 - rmse: 39.3333 - val_loss: 46.1814 - val_rmse: 47.4459\n",
      "\n",
      "Epoch 00150: val_loss did not improve from 43.42315\n",
      "Epoch 151/500\n",
      "94/94 [==============================] - 0s 3ms/step - loss: 38.1797 - rmse: 39.3652 - val_loss: 46.2037 - val_rmse: 47.4693\n",
      "\n",
      "Epoch 00151: val_loss did not improve from 43.42315\n",
      "Epoch 152/500\n",
      "94/94 [==============================] - 0s 3ms/step - loss: 38.6460 - rmse: 39.5870 - val_loss: 46.2286 - val_rmse: 47.4951\n",
      "\n",
      "Epoch 00152: val_loss did not improve from 43.42315\n",
      "\n",
      "Epoch 00152: ReduceLROnPlateau reducing learning rate to 1.0000000656873453e-06.\n",
      "Epoch 153/500\n",
      "94/94 [==============================] - 0s 4ms/step - loss: 38.5581 - rmse: 39.6315 - val_loss: 46.2288 - val_rmse: 47.4953\n",
      "\n",
      "Epoch 00153: val_loss did not improve from 43.42315\n",
      "Epoch 154/500\n",
      "94/94 [==============================] - 0s 3ms/step - loss: 38.3947 - rmse: 39.3926 - val_loss: 46.2278 - val_rmse: 47.4944\n",
      "\n",
      "Epoch 00154: val_loss did not improve from 43.42315\n",
      "Epoch 155/500\n",
      "94/94 [==============================] - 0s 4ms/step - loss: 38.1158 - rmse: 39.0938 - val_loss: 46.2268 - val_rmse: 47.4934\n",
      "\n",
      "Epoch 00155: val_loss did not improve from 43.42315\n",
      "Epoch 156/500\n",
      "94/94 [==============================] - 0s 3ms/step - loss: 38.4375 - rmse: 39.4132 - val_loss: 46.2265 - val_rmse: 47.4931\n",
      "\n",
      "Epoch 00156: val_loss did not improve from 43.42315\n",
      "Epoch 157/500\n",
      "94/94 [==============================] - 0s 3ms/step - loss: 38.5673 - rmse: 39.3133 - val_loss: 46.2257 - val_rmse: 47.4921\n",
      "\n",
      "Epoch 00157: val_loss did not improve from 43.42315\n",
      "Epoch 158/500\n",
      "94/94 [==============================] - 0s 3ms/step - loss: 38.3225 - rmse: 39.5254 - val_loss: 46.2272 - val_rmse: 47.4938\n",
      "\n",
      "Epoch 00158: val_loss did not improve from 43.42315\n",
      "Epoch 159/500\n",
      "94/94 [==============================] - 0s 3ms/step - loss: 38.1304 - rmse: 39.3416 - val_loss: 46.2276 - val_rmse: 47.4942\n",
      "\n",
      "Epoch 00159: val_loss did not improve from 43.42315\n",
      "Epoch 160/500\n",
      "94/94 [==============================] - 0s 3ms/step - loss: 38.4755 - rmse: 39.4136 - val_loss: 46.2265 - val_rmse: 47.4930\n",
      "\n",
      "Epoch 00160: val_loss did not improve from 43.42315\n",
      "Epoch 161/500\n",
      "94/94 [==============================] - 0s 3ms/step - loss: 38.4206 - rmse: 39.6589 - val_loss: 46.2272 - val_rmse: 47.4937\n",
      "\n",
      "Epoch 00161: val_loss did not improve from 43.42315\n",
      "Epoch 162/500\n",
      "94/94 [==============================] - 0s 4ms/step - loss: 38.3876 - rmse: 39.4775 - val_loss: 46.2281 - val_rmse: 47.4947\n",
      "\n",
      "Epoch 00162: val_loss did not improve from 43.42315\n",
      "Epoch 00162: early stopping\n"
     ]
    }
   ],
   "source": [
    "history = model.fit(\n",
    "    train,\n",
    "    train,\n",
    "    epochs=500,\n",
    "    batch_size=4,\n",
    "    validation_split=0.25,\n",
    "    callbacks= callbacks\n",
    "    # validation_data=(x_test_scaled, x_test_scaled)\n",
    ")"
   ]
  },
  {
   "cell_type": "code",
   "execution_count": 288,
   "id": "8684281f-e4f0-4172-9120-75a6256db6ad",
   "metadata": {},
   "outputs": [],
   "source": [
    "model.load_weights('model.h5')"
   ]
  },
  {
   "cell_type": "code",
   "execution_count": 289,
   "id": "8165f154-a30f-45e0-98f8-277c2381bf24",
   "metadata": {},
   "outputs": [
    {
     "data": {
      "image/png": "[encoded data removed]",
      "text/plain": [
       "<Figure size 432x288 with 1 Axes>"
      ]
     },
     "metadata": {
      "needs_background": "light"
     },
     "output_type": "display_data"
    }
   ],
   "source": [
    "plt.plot(history.history['loss'])\n",
    "plt.plot(history.history['val_loss'])\n",
    "plt.xlabel('Epochs')\n",
    "plt.ylabel('MAE Loss')\n",
    "plt.legend(['loss', 'val_loss'])\n",
    "plt.show()"
   ]
  },
  {
   "cell_type": "code",
   "execution_count": 274,
   "id": "42ef0b27-bf30-4992-9c21-9471b9e9fb36",
   "metadata": {},
   "outputs": [
    {
     "data": {
      "text/plain": [
       "<tf.Tensor: shape=(1000, 100), dtype=int64, numpy=\n",
       "array([[ 18,  18,  58, ...,  21,  21,   7],\n",
       "       [ 18,  58,  21, ...,  21,   7,  66],\n",
       "       [ 58,  21,  21, ...,   7,  66,   8],\n",
       "       ...,\n",
       "       [ 13,  18,   7, ...,  35,   7, 129],\n",
       "       [ 18,   7,  47, ...,   7, 129, 127],\n",
       "       [  7,  47,  16, ..., 129, 127, 126]], dtype=int64)>"
      ]
     },
     "execution_count": 274,
     "metadata": {},
     "output_type": "execute_result"
    }
   ],
   "source": [
    "s_test = pd.Series(test_df.to_numpy().flatten()).apply(lambda x: ' '.join(x)).values.reshape(-1, 1).tolist()\n",
    "test = vectorize_layer(s_test)\n",
    "test"
   ]
  },
  {
   "cell_type": "code",
   "execution_count": 290,
   "id": "027b1d52-c924-4135-aac8-fba7a17aedda",
   "metadata": {},
   "outputs": [],
   "source": [
    "def find_threshold(model, x_train):\n",
    "    reconstructions = model.predict(x_train)\n",
    "    # provides losses of individual instances\n",
    "    reconstruction_errors = tf.keras.losses.mae(reconstructions, x_train)\n",
    "    # threshold for anomaly scores\n",
    "    threshold = np.mean(reconstruction_errors.numpy()) + np.std(reconstruction_errors.numpy())\n",
    "    return threshold\n",
    "\n",
    "def get_predictions(model, x_test, threshold):\n",
    "    predictions = model.predict(x_test)\n",
    "    # provides losses of individual instances\n",
    "    errors = tf.keras.losses.mae(predictions, x_test)\n",
    "    # 0 = anomaly, 1 = normal\n",
    "    anomaly_mask = pd.Series(errors) > threshold\n",
    "    preds = anomaly_mask.map(lambda x: 0.0 if x == True else 1.0)\n",
    "    return preds"
   ]
  },
  {
   "cell_type": "code",
   "execution_count": 291,
   "id": "232031c6-532f-4a5f-bded-9d027b58e747",
   "metadata": {},
   "outputs": [
    {
     "name": "stdout",
     "output_type": "stream",
     "text": [
      "Threshold: 16.59912089482906\n"
     ]
    },
    {
     "data": {
      "text/plain": [
       "0.183"
      ]
     },
     "execution_count": 291,
     "metadata": {},
     "output_type": "execute_result"
    }
   ],
   "source": [
    "threshold = find_threshold(model, test)\n",
    "print(f\"Threshold: {threshold}\")\n",
    "predictions = get_predictions(model, test, threshold)\n",
    "accuracy_score(predictions, y_test)"
   ]
  },
  {
   "cell_type": "code",
   "execution_count": 292,
   "id": "e2d5b08f-fc6f-439f-8c8e-61abff1a3fa7",
   "metadata": {},
   "outputs": [
    {
     "name": "stdout",
     "output_type": "stream",
     "text": [
      "Acc: 0.183\n",
      "Precision: 0.09854423292273236\n",
      "Recall: 0.88\n",
      "F1 Score: 0.17724068479355487\n",
      "Final Grade: 55.25573770491803/70\n"
     ]
    },
    {
     "data": {
      "text/plain": [
       "55.25573770491803"
      ]
     },
     "execution_count": 292,
     "metadata": {},
     "output_type": "execute_result"
    }
   ],
   "source": [
    "get_metrics(y_test, predictions)"
   ]
  },
  {
   "cell_type": "markdown",
   "id": "ef199bc3-0747-4bd6-a3e0-af6d67eb0c21",
   "metadata": {},
   "source": [
    "## Sklearn AE"
   ]
  },
  {
   "cell_type": "code",
   "execution_count": 299,
   "id": "e133dfaa-9347-4f32-a004-f90361d4f570",
   "metadata": {},
   "outputs": [],
   "source": [
    "from gensim.models.doc2vec import TaggedDocument, Doc2Vec\n",
    "from gensim.parsing.preprocessing import preprocess_string\n",
    "from sklearn.base import BaseEstimator\n",
    "from sklearn import utils as skl_utils\n",
    "from tqdm import tqdm\n",
    "\n",
    "import multiprocessing\n",
    "import numpy as np\n",
    "\n",
    "class Doc2VecTransformer(BaseEstimator):\n",
    "\n",
    "    def __init__(self, vector_size=100, learning_rate=0.02, epochs=20):\n",
    "        self.learning_rate = learning_rate\n",
    "        self.epochs = epochs\n",
    "        self._model = None\n",
    "        self.vector_size = vector_size\n",
    "        self.workers = multiprocessing.cpu_count() - 1\n",
    "\n",
    "    def fit(self, df_x, df_y=None):\n",
    "        tagged_x = [TaggedDocument(str(row['Plot']).split(), [index]) for index, row in df_x.iterrows()]\n",
    "        model = Doc2Vec(documents=tagged_x, vector_size=self.vector_size, workers=self.workers)\n",
    "\n",
    "        for epoch in range(self.epochs):\n",
    "            model.train(skl_utils.shuffle([x for x in tqdm(tagged_x)]), total_examples=len(tagged_x), epochs=1)\n",
    "            model.alpha -= self.learning_rate\n",
    "            model.min_alpha = model.alpha\n",
    "\n",
    "        self._model = model\n",
    "        return self\n",
    "\n",
    "    def transform(self, df_x):\n",
    "        return np.asmatrix(np.array([self._model.infer_vector(str(row['Plot']).split())\n",
    "                                     for index, row in df_x.iterrows()]))"
   ]
  },
  {
   "cell_type": "raw",
   "id": "9bae1c85-2774-4b28-a3f8-4a021376241b",
   "metadata": {},
   "source": [
    "doc2vec_tr = Doc2VecTransformer(vector_size=300)\n",
    "doc2vec_tr.fit(train_df)\n",
    "doc2vec_vectors = doc2vec_tr.transform(train_df)"
   ]
  },
  {
   "cell_type": "code",
   "execution_count": 316,
   "id": "735b913e-fda2-4de4-8fab-8aa3a71e0b56",
   "metadata": {},
   "outputs": [],
   "source": [
    "doc2vec_vectors = embedding_model.wv[train_df]"
   ]
  },
  {
   "cell_type": "code",
   "execution_count": 323,
   "id": "3147d710-c01b-410d-bb65-af301dae6bb7",
   "metadata": {},
   "outputs": [],
   "source": [
    "from sklearn.neural_network import MLPRegressor\n",
    "\n",
    "auto_encoder = MLPRegressor(hidden_layer_sizes=(\n",
    "                                                 64,\n",
    "                                                 16, \n",
    "                                                 64,\n",
    "                                               ))\n",
    "auto_encoder.fit(doc2vec_vectors, doc2vec_vectors)\n",
    "predicted_vectors = auto_encoder.predict(doc2vec_vectors)"
   ]
  },
  {
   "cell_type": "code",
   "execution_count": 324,
   "id": "68a05c4b-1ef9-44d8-aa23-6faf5e1c8949",
   "metadata": {},
   "outputs": [
    {
     "data": {
      "text/plain": [
       "-5.034977812176536"
      ]
     },
     "execution_count": 324,
     "metadata": {},
     "output_type": "execute_result"
    }
   ],
   "source": [
    "auto_encoder.score(predicted_vectors, doc2vec_vectors)"
   ]
  },
  {
   "cell_type": "code",
   "execution_count": 322,
   "id": "0ad21178-241c-44b4-9e00-bfda85f97bc3",
   "metadata": {},
   "outputs": [
    {
     "data": {
      "text/plain": [
       "<AxesSubplot:>"
      ]
     },
     "execution_count": 322,
     "metadata": {},
     "output_type": "execute_result"
    },
    {
     "data": {
      "image/png": "[encoded data removed]",
      "text/plain": [
       "<Figure size 432x288 with 1 Axes>"
      ]
     },
     "metadata": {
      "needs_background": "light"
     },
     "output_type": "display_data"
    }
   ],
   "source": [
    "pd.DataFrame(auto_encoder.loss_curve_).plot()"
   ]
  },
  {
   "cell_type": "code",
   "execution_count": null,
   "id": "9f18b255-bedf-4992-9078-b5dcbe2739d4",
   "metadata": {},
   "outputs": [],
   "source": [
    "import os\n",
    "import shutil\n",
    "\n",
    "version = input()\n",
    "\n",
    "dir_path = f'submissions\\\\{version}'\n",
    "notebook_name = f'318443595_318949443_{version}.ipynb'\n",
    "if not os.path.exists(dir_path):\n",
    "    os.system(f'mkdir {dir_path}')\n",
    "\n",
    "shutil.copyfile('Untitled.ipynb', f'{dir_path}\\\\{notebook_name}')\n",
    "to_fill_df = pd.read_csv('challengeToFillOriginal.csv')\n",
    "to_fill_df.iloc[LABELED_USERS: ,TRAIN_SEG+1:] = np.array(preds, dtype=int)\n",
    "for col in to_fill_df.columns[1:]:\n",
    "    to_fill_df[col] = to_fill_df[col].astype(int)\n",
    "to_fill_df.to_csv(f'submissions/{version}/318443595_318949443_{version}.csv', index=False)"
   ]
  },
  {
   "cell_type": "code",
   "execution_count": null,
   "id": "a54fe775-1648-4b3c-8708-79abeb866f22",
   "metadata": {},
   "outputs": [],
   "source": []
  }
 ],
 "metadata": {
  "kernelspec": {
   "display_name": "Python [conda env:.conda-dl] *",
   "language": "python",
   "name": "conda-env-.conda-dl-py"
  },
  "language_info": {
   "codemirror_mode": {
    "name": "ipython",
    "version": 3
   },
   "file_extension": ".py",
   "mimetype": "text/x-python",
   "name": "python",
   "nbconvert_exporter": "python",
   "pygments_lexer": "ipython3",
   "version": "3.9.12"
  }
 },
 "nbformat": 4,
 "nbformat_minor": 5
}
