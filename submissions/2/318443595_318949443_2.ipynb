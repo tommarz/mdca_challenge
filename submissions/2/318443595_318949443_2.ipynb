{
 "cells": [
  {
   "cell_type": "markdown",
   "id": "1bc406a7-8cc9-41a7-9fed-0852ae721af1",
   "metadata": {},
   "source": [
    "# Challenge"
   ]
  },
  {
   "cell_type": "markdown",
   "id": "7e364a79-1f40-4209-9990-21921c2a16b5",
   "metadata": {
    "tags": []
   },
   "source": [
    "## Tom Marzea 318443595 Michael Michaelshvili 318949443"
   ]
  },
  {
   "cell_type": "code",
   "execution_count": 17,
   "id": "a796f3be-8990-4218-a033-b071f226f163",
   "metadata": {},
   "outputs": [],
   "source": [
    "%run utils.ipynb"
   ]
  },
  {
   "cell_type": "code",
   "execution_count": 18,
   "id": "c2dcb8c4-0b8e-4b29-be0e-9c8fbbb3893a",
   "metadata": {},
   "outputs": [],
   "source": [
    "import pandas as pd\n",
    "import numpy as np\n",
    "import os\n",
    "import sys\n",
    "# from utils import *\n",
    "import matplotlib.pyplot as plt\n",
    "%matplotlib inline\n",
    "from scipy import stats\n",
    "# import dill"
   ]
  },
  {
   "cell_type": "code",
   "execution_count": 19,
   "id": "e8600e74-eddd-41cf-9b15-3ffa85ac7e45",
   "metadata": {},
   "outputs": [],
   "source": [
    "import sklearn\n",
    "from sklearn.svm import OneClassSVM\n",
    "from sklearn.metrics import roc_auc_score, precision_score, recall_score, f1_score, accuracy_score, confusion_matrix, top_k_accuracy_score\n",
    "from sklearn.preprocessing import OneHotEncoder, LabelEncoder, FunctionTransformer, MinMaxScaler\n",
    "from sklearn.compose import ColumnTransformer, make_column_transformer\n",
    "from sklearn.model_selection import train_test_split, KFold\n",
    "from sklearn.feature_extraction.text import TfidfVectorizer, TfidfTransformer, CountVectorizer\n",
    "from sklearn.ensemble import RandomForestClassifier\n",
    "from sklearn.linear_model import LogisticRegression\n",
    "from sklearn.neural_network import MLPClassifier\n",
    "from sklearn.neighbors import KNeighborsClassifier\n",
    "from sklearn.decomposition import PCA\n",
    "from sklearn.feature_extraction import DictVectorizer\n",
    "from sklearn.pipeline import Pipeline, make_pipeline"
   ]
  },
  {
   "cell_type": "code",
   "execution_count": 20,
   "id": "fed05b45-3430-491c-af2c-ac1d31934752",
   "metadata": {},
   "outputs": [],
   "source": [
    "import tensorflow as tf\n",
    "from tensorflow.keras.layers import Dense, LSTM, Dropout, Activation, Input, Embedding, TextVectorization, Reshape, Add, Concatenate, Flatten, Conv1D, Conv1DTranspose\n",
    "from tensorflow.keras.losses import binary_crossentropy\n",
    "from tensorflow.keras.models import Model, Sequential\n",
    "from tensorflow.keras.optimizers import Adam, SGD\n",
    "from tensorflow.keras.callbacks import ReduceLROnPlateau, ModelCheckpoint, EarlyStopping"
   ]
  },
  {
   "cell_type": "code",
   "execution_count": 45,
   "id": "ba52c91c-93d7-47f9-8041-3a95982aecf9",
   "metadata": {
    "scrolled": true
   },
   "outputs": [
    {
     "name": "stdout",
     "output_type": "stream",
     "text": [
      "(40, 150)\n",
      "(10, 50)\n",
      "(10, 100)\n"
     ]
    }
   ],
   "source": [
    "_, seg_df = load_user_data()\n",
    "print(seg_df.shape)\n",
    "y = pd.read_csv('challengeToFill.csv').drop(columns=['Unnamed: 0']).T.reset_index(drop=True).T\n",
    "y_train = y.iloc[:LABELED_USERS, :TRAIN_SEG]\n",
    "y_test_df = y.iloc[:LABELED_USERS, TRAIN_SEG:]\n",
    "train_df = seg_df.iloc[:LABELED_USERS, :TRAIN_SEG]\n",
    "test_df = seg_df.iloc[:LABELED_USERS, TRAIN_SEG:]\n",
    "submission_df = seg_df.iloc[LABELED_USERS:, TRAIN_SEG:]\n",
    "sentences = train_df.to_numpy().flatten().tolist()\n",
    "# embedding_model = create_embeddings(sentences, vector_size=EMBEDDING_DIM, window=5)\n",
    "# print(embedding_model.wv)\n",
    "print(train_df.shape)\n",
    "print(test_df.shape)"
   ]
  },
  {
   "cell_type": "code",
   "execution_count": 22,
   "id": "6ad52a3b-72f0-407c-a4ac-78a7853c1b2d",
   "metadata": {},
   "outputs": [],
   "source": [
    "all_commands = np.unique(seg_df.to_numpy().flatten().tolist()).tolist()"
   ]
  },
  {
   "cell_type": "code",
   "execution_count": 23,
   "id": "49b64bc7-5ddd-4c7a-9171-84a6bebb0e99",
   "metadata": {},
   "outputs": [
    {
     "data": {
      "text/plain": [
       "((500,), (1000,))"
      ]
     },
     "execution_count": 23,
     "metadata": {},
     "output_type": "execute_result"
    }
   ],
   "source": [
    "train = train_df.to_numpy().flatten()\n",
    "test = test_df.to_numpy().flatten()\n",
    "train.shape, test.shape"
   ]
  },
  {
   "cell_type": "code",
   "execution_count": 24,
   "id": "cd3107d0-322d-4664-bb7d-e0bbfd3f5767",
   "metadata": {},
   "outputs": [],
   "source": [
    "w2x = {k: idx for idx, k in enumerate(all_commands)}\n",
    "x2w = {idx: k for idx, k in enumerate(all_commands)}"
   ]
  },
  {
   "cell_type": "code",
   "execution_count": 25,
   "id": "004dcf79-d923-47dc-b274-3b7933f071d7",
   "metadata": {},
   "outputs": [],
   "source": [
    "def seg_to_hist(segs, vocab=all_commands):\n",
    "    count_vec = CountVectorizer(lowercase=False, vocabulary=vocab)\n",
    "    features = count_vec.transform([' '.join(seg) for seg in segs])\n",
    "    return features.toarray()"
   ]
  },
  {
   "cell_type": "code",
   "execution_count": 85,
   "id": "98d51186-2db5-449d-9cf6-945408ebc9e8",
   "metadata": {},
   "outputs": [],
   "source": [
    "def tfidf_per_user(uid, top_n=100):\n",
    "    documents = []\n",
    "    for i in range(NUM_USERS):\n",
    "        documents.append(' '.join([' '.join(x) for x in seg_df.iloc[i,:TRAIN_SEG]]))\n",
    "    tfidf = TfidfVectorizer(ngram_range=(3,5))\n",
    "    data = tfidf.fit_transform(documents)\n",
    "    tfidf_features = pd.DataFrame.sparse.from_spmatrix(data, columns=tfidf.get_feature_names_out()).sparse.to_dense().T\n",
    "    tfidf_features.columns = [f'user{i}' for i in range(NUM_USERS)]\n",
    "    top_n_user = tfidf_features.nlargest(top_n, f'user{uid}').index.tolist()\n",
    "    return top_n_user"
   ]
  },
  {
   "cell_type": "code",
   "execution_count": 86,
   "id": "5420260e-1fad-4883-88a9-439bffdfbd00",
   "metadata": {},
   "outputs": [],
   "source": [
    "def get_all_features(top_n=100):\n",
    "    all_features = []\n",
    "    for uid in range(NUM_USERS):\n",
    "        gram1_hist = seg_to_hist(seg_df.iloc[uid, :])\n",
    "        top_n_user = tfidf_per_user(uid, top_n=top_n)\n",
    "        ngram_hist = seg_to_hist(seg_df.iloc[uid, :], vocab=top_n_user)\n",
    "        most_common = np.expand_dims(np.array([w2x[stats.mode(x).mode[0]] for x in seg_df.iloc[uid, :]]), axis=-1)\n",
    "        most_common_count = np.expand_dims(np.array([stats.mode(x).count[0] for x in seg_df.iloc[uid, :]]), axis=-1)\n",
    "        num_unique = np.expand_dims(np.array([len(set(x)) for x in seg_df.iloc[uid, :]]), axis=-1)\n",
    "        all_features.append(np.concatenate([gram1_hist, ngram_hist, most_common, most_common_count, num_unique], axis=1))\n",
    "    return all_features"
   ]
  },
  {
   "cell_type": "code",
   "execution_count": 87,
   "id": "3aa22b65-ecd7-4ace-b7a5-482df3637d3a",
   "metadata": {},
   "outputs": [
    {
     "data": {
      "text/plain": [
       "(868,)"
      ]
     },
     "execution_count": 87,
     "metadata": {},
     "output_type": "execute_result"
    }
   ],
   "source": [
    "features_per_user_seg = get_all_features(100)\n",
    "features_per_user_seg[1][0].shape"
   ]
  },
  {
   "cell_type": "code",
   "execution_count": 88,
   "id": "162d1898-5aa8-45ee-b1ab-4643240acf0a",
   "metadata": {},
   "outputs": [],
   "source": [
    "def build_train_data(uid, features_per_user_seg, other_users):\n",
    "    x_train = features_per_user_seg[uid][:TRAIN_SEG]\n",
    "    for i in range(NUM_USERS):\n",
    "        if i != uid:\n",
    "            x_train = np.concatenate([x_train, features_per_user_seg[i][:other_users]])\n",
    "    y_train = np.concatenate([np.zeros(TRAIN_SEG), np.ones(other_users*(NUM_USERS-1))])\n",
    "    return x_train, y_train"
   ]
  },
  {
   "cell_type": "code",
   "execution_count": 110,
   "id": "7fea4696-c8ce-49dc-87a7-4431f885bd40",
   "metadata": {},
   "outputs": [],
   "source": [
    "def build_train_model(uid, features_per_user_seg,other_users=3, top_n=15):\n",
    "    x_train, y_train = build_train_data(uid, features_per_user_seg,other_users)\n",
    "    clf = MLPClassifier(random_state=42, learning_rate='adaptive', hidden_layer_sizes=(80,), max_iter=2000)\n",
    "    clf.fit(x_train, y_train)\n",
    "    y_test = y_test_df.iloc[uid].to_numpy()\n",
    "    probas = clf.predict_proba(features_per_user_seg[uid][TRAIN_SEG:])[:,1]\n",
    "    preds = [1 if p in sorted(probas)[-top_n:] else 0 for p in probas]\n",
    "    return get_metrics(y_test, preds)"
   ]
  },
  {
   "cell_type": "code",
   "execution_count": 115,
   "id": "303c1dec-df57-42d7-90f7-94f1669db4bc",
   "metadata": {},
   "outputs": [],
   "source": [
    "def build_test_model(uid, features_per_user_seg,other_users=3, top_n=15):\n",
    "    x_train, y_train = build_train_data(uid, features_per_user_seg,other_users)\n",
    "    clf = MLPClassifier(random_state=42, learning_rate='adaptive', hidden_layer_sizes=(80,), max_iter=2000)\n",
    "    clf.fit(x_train, y_train)\n",
    "    probas = clf.predict_proba(features_per_user_seg[uid][TRAIN_SEG:])[:,1]\n",
    "    preds = [1 if p in sorted(probas)[-top_n:] else 0 for p in probas]\n",
    "    return preds"
   ]
  },
  {
   "cell_type": "code",
   "execution_count": 112,
   "id": "312ce6b7-4869-492d-9a49-ff9d4c1cb8c8",
   "metadata": {
    "tags": []
   },
   "outputs": [
    {
     "name": "stdout",
     "output_type": "stream",
     "text": [
      "Acc: 0.95\n",
      "Precision: 0.6666666666666666\n",
      "Recall: 1.0\n",
      "F1 Score: 0.8\n",
      "Classification Score: 175\n",
      "Acc: 0.91\n",
      "Precision: 0.5333333333333333\n",
      "Recall: 0.8\n",
      "F1 Score: 0.64\n",
      "Classification Score: 155\n",
      "Acc: 0.95\n",
      "Precision: 0.6666666666666666\n",
      "Recall: 1.0\n",
      "F1 Score: 0.8\n",
      "Classification Score: 175\n",
      "Acc: 0.93\n",
      "Precision: 0.6\n",
      "Recall: 0.9\n",
      "F1 Score: 0.7200000000000001\n",
      "Classification Score: 165\n",
      "Acc: 0.93\n",
      "Precision: 0.6\n",
      "Recall: 0.9\n",
      "F1 Score: 0.7200000000000001\n",
      "Classification Score: 165\n",
      "Acc: 0.83\n",
      "Precision: 0.26666666666666666\n",
      "Recall: 0.4\n",
      "F1 Score: 0.32\n",
      "Classification Score: 115\n",
      "Acc: 0.93\n",
      "Precision: 0.6\n",
      "Recall: 0.9\n",
      "F1 Score: 0.7200000000000001\n",
      "Classification Score: 165\n",
      "Acc: 0.82\n",
      "Precision: 0.25\n",
      "Recall: 0.4\n",
      "F1 Score: 0.3076923076923077\n",
      "Classification Score: 114\n",
      "Acc: 0.95\n",
      "Precision: 0.6666666666666666\n",
      "Recall: 1.0\n",
      "F1 Score: 0.8\n",
      "Classification Score: 175\n",
      "Acc: 0.95\n",
      "Precision: 0.6666666666666666\n",
      "Recall: 1.0\n",
      "F1 Score: 0.8\n",
      "Classification Score: 175\n",
      "1579\n"
     ]
    }
   ],
   "source": [
    "total_score = 0\n",
    "for uid in range(LABELED_USERS):\n",
    "    score = build_train_model(uid,features_per_user_seg, other_users=10, top_n=15)\n",
    "    total_score += score\n",
    "print(total_score)"
   ]
  },
  {
   "cell_type": "code",
   "execution_count": 116,
   "id": "204df4ce-3f6a-466e-9f52-0ccf5efcdda3",
   "metadata": {
    "tags": []
   },
   "outputs": [],
   "source": [
    "preds = []\n",
    "for uid in range(LABELED_USERS, NUM_USERS):\n",
    "    preds += [build_test_model(uid,features_per_user_seg, 10, top_n=15)]"
   ]
  },
  {
   "cell_type": "code",
   "execution_count": 118,
   "id": "34fffcfb-d946-4922-b770-45d7b901e5d3",
   "metadata": {},
   "outputs": [
    {
     "data": {
      "text/plain": [
       "array([15, 15, 15, 15, 15, 16, 15, 15, 15, 15, 15, 15, 15, 15, 15, 15, 15,\n",
       "       15, 15, 15, 15, 15, 15, 15, 15, 15, 15, 15, 15, 15])"
      ]
     },
     "execution_count": 118,
     "metadata": {},
     "output_type": "execute_result"
    }
   ],
   "source": [
    "np.array(preds).sum(axis=1)"
   ]
  },
  {
   "cell_type": "code",
   "execution_count": 119,
   "id": "0e430633-a680-4bdd-a3b3-3b78e903b5eb",
   "metadata": {},
   "outputs": [
    {
     "name": "stdin",
     "output_type": "stream",
     "text": [
      " 2\n"
     ]
    },
    {
     "ename": "FileNotFoundError",
     "evalue": "[Errno 2] No such file or directory: 'Untitled.ipynb'",
     "output_type": "error",
     "traceback": [
      "\u001b[1;31m---------------------------------------------------------------------------\u001b[0m",
      "\u001b[1;31mFileNotFoundError\u001b[0m                         Traceback (most recent call last)",
      "Input \u001b[1;32mIn [119]\u001b[0m, in \u001b[0;36m<cell line: 11>\u001b[1;34m()\u001b[0m\n\u001b[0;32m      9\u001b[0m     \u001b[38;5;28;01mraise\u001b[39;00m \u001b[38;5;167;01mException\u001b[39;00m(\u001b[38;5;124mf\u001b[39m\u001b[38;5;124m'\u001b[39m\u001b[38;5;124mDirectory for version \u001b[39m\u001b[38;5;132;01m{\u001b[39;00mversion\u001b[38;5;132;01m}\u001b[39;00m\u001b[38;5;124m already exists\u001b[39m\u001b[38;5;124m'\u001b[39m)\n\u001b[0;32m     10\u001b[0m os\u001b[38;5;241m.\u001b[39msystem(\u001b[38;5;124mf\u001b[39m\u001b[38;5;124m'\u001b[39m\u001b[38;5;124mmkdir \u001b[39m\u001b[38;5;132;01m{\u001b[39;00mdir_path\u001b[38;5;132;01m}\u001b[39;00m\u001b[38;5;124m'\u001b[39m)\n\u001b[1;32m---> 11\u001b[0m \u001b[43mshutil\u001b[49m\u001b[38;5;241;43m.\u001b[39;49m\u001b[43mcopyfile\u001b[49m\u001b[43m(\u001b[49m\u001b[38;5;124;43m'\u001b[39;49m\u001b[38;5;124;43mUntitled.ipynb\u001b[39;49m\u001b[38;5;124;43m'\u001b[39;49m\u001b[43m,\u001b[49m\u001b[43m \u001b[49m\u001b[38;5;124;43mf\u001b[39;49m\u001b[38;5;124;43m'\u001b[39;49m\u001b[38;5;132;43;01m{\u001b[39;49;00m\u001b[43mdir_path\u001b[49m\u001b[38;5;132;43;01m}\u001b[39;49;00m\u001b[38;5;130;43;01m\\\\\u001b[39;49;00m\u001b[38;5;132;43;01m{\u001b[39;49;00m\u001b[43mnotebook_name\u001b[49m\u001b[38;5;132;43;01m}\u001b[39;49;00m\u001b[38;5;124;43m'\u001b[39;49m\u001b[43m)\u001b[49m\n\u001b[0;32m     12\u001b[0m to_fill_df \u001b[38;5;241m=\u001b[39m pd\u001b[38;5;241m.\u001b[39mread_csv(\u001b[38;5;124m'\u001b[39m\u001b[38;5;124mchallengeToFillOriginal.csv\u001b[39m\u001b[38;5;124m'\u001b[39m)\n\u001b[0;32m     13\u001b[0m to_fill_df\u001b[38;5;241m.\u001b[39miloc[LABELED_USERS: ,TRAIN_SEG\u001b[38;5;241m+\u001b[39m\u001b[38;5;241m1\u001b[39m:] \u001b[38;5;241m=\u001b[39m np\u001b[38;5;241m.\u001b[39marray(preds, dtype\u001b[38;5;241m=\u001b[39m\u001b[38;5;28mint\u001b[39m)\n",
      "File \u001b[1;32m~\\.conda\\envs\\dl\\lib\\shutil.py:264\u001b[0m, in \u001b[0;36mcopyfile\u001b[1;34m(src, dst, follow_symlinks)\u001b[0m\n\u001b[0;32m    262\u001b[0m     os\u001b[38;5;241m.\u001b[39msymlink(os\u001b[38;5;241m.\u001b[39mreadlink(src), dst)\n\u001b[0;32m    263\u001b[0m \u001b[38;5;28;01melse\u001b[39;00m:\n\u001b[1;32m--> 264\u001b[0m     \u001b[38;5;28;01mwith\u001b[39;00m \u001b[38;5;28;43mopen\u001b[39;49m\u001b[43m(\u001b[49m\u001b[43msrc\u001b[49m\u001b[43m,\u001b[49m\u001b[43m \u001b[49m\u001b[38;5;124;43m'\u001b[39;49m\u001b[38;5;124;43mrb\u001b[39;49m\u001b[38;5;124;43m'\u001b[39;49m\u001b[43m)\u001b[49m \u001b[38;5;28;01mas\u001b[39;00m fsrc:\n\u001b[0;32m    265\u001b[0m         \u001b[38;5;28;01mtry\u001b[39;00m:\n\u001b[0;32m    266\u001b[0m             \u001b[38;5;28;01mwith\u001b[39;00m \u001b[38;5;28mopen\u001b[39m(dst, \u001b[38;5;124m'\u001b[39m\u001b[38;5;124mwb\u001b[39m\u001b[38;5;124m'\u001b[39m) \u001b[38;5;28;01mas\u001b[39;00m fdst:\n\u001b[0;32m    267\u001b[0m                 \u001b[38;5;66;03m# macOS\u001b[39;00m\n",
      "\u001b[1;31mFileNotFoundError\u001b[0m: [Errno 2] No such file or directory: 'Untitled.ipynb'"
     ]
    }
   ],
   "source": [
    "import os\n",
    "import shutil\n",
    "\n",
    "version = input()\n",
    "\n",
    "dir_path = f'submissions\\\\{version}'\n",
    "notebook_name = f'318443595_318949443_{version}.ipynb'\n",
    "if os.path.exists(dir_path):\n",
    "    raise Exception(f'Directory for version {version} already exists')\n",
    "os.system(f'mkdir {dir_path}')\n",
    "shutil.copyfile('318443595_318949443.ipynb', f'{dir_path}\\\\{notebook_name}')\n",
    "to_fill_df = pd.read_csv('challengeToFillOriginal.csv')\n",
    "to_fill_df.iloc[LABELED_USERS: ,TRAIN_SEG+1:] = np.array(preds, dtype=int)\n",
    "for col in to_fill_df.columns[1:]:\n",
    "    to_fill_df[col] = to_fill_df[col].astype(int)\n",
    "to_fill_df.to_csv(f'submissions/{version}/318443595_318949443_{version}.csv', index=False)"
   ]
  },
  {
   "cell_type": "code",
   "execution_count": null,
   "id": "f14bda49-7a2c-4e8c-a849-50e3f6373020",
   "metadata": {},
   "outputs": [],
   "source": []
  }
 ],
 "metadata": {
  "kernelspec": {
   "display_name": "Python [conda env:.conda-dl] *",
   "language": "python",
   "name": "conda-env-.conda-dl-py"
  },
  "language_info": {
   "codemirror_mode": {
    "name": "ipython",
    "version": 3
   },
   "file_extension": ".py",
   "mimetype": "text/x-python",
   "name": "python",
   "nbconvert_exporter": "python",
   "pygments_lexer": "ipython3",
   "version": "3.9.12"
  }
 },
 "nbformat": 4,
 "nbformat_minor": 5
}
