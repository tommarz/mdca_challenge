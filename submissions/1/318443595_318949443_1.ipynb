{
 "cells": [
  {
   "cell_type": "markdown",
   "id": "1bc406a7-8cc9-41a7-9fed-0852ae721af1",
   "metadata": {},
   "source": [
    "# Untitled"
   ]
  },
  {
   "cell_type": "code",
   "execution_count": 54,
   "id": "7c7f8162-bfec-40aa-a17c-a7109929ffbb",
   "metadata": {},
   "outputs": [],
   "source": [
    "%run utils.ipynb"
   ]
  },
  {
   "cell_type": "code",
   "execution_count": 55,
   "id": "9c64fbe8-2dfd-4223-b771-b41d9d547692",
   "metadata": {},
   "outputs": [],
   "source": [
    "import pandas as pd\n",
    "import numpy as np\n",
    "import os\n",
    "import sys\n",
    "# from utils import *\n",
    "import matplotlib.pyplot as plt\n",
    "%matplotlib inline\n",
    "from scipy import stats\n",
    "# import dill"
   ]
  },
  {
   "cell_type": "code",
   "execution_count": 56,
   "id": "19196106-8d74-494d-873d-9aee9be96727",
   "metadata": {},
   "outputs": [],
   "source": [
    "import sklearn\n",
    "from sklearn.svm import OneClassSVM\n",
    "from sklearn.metrics import roc_auc_score, precision_score, recall_score, f1_score, accuracy_score, confusion_matrix, top_k_accuracy_score\n",
    "from sklearn.preprocessing import OneHotEncoder, LabelEncoder, FunctionTransformer, MinMaxScaler\n",
    "from sklearn.compose import ColumnTransformer, make_column_transformer\n",
    "from sklearn.model_selection import train_test_split, KFold\n",
    "from sklearn.feature_extraction.text import TfidfVectorizer, TfidfTransformer, CountVectorizer\n",
    "from sklearn.ensemble import RandomForestClassifier\n",
    "from sklearn.linear_model import LogisticRegression\n",
    "from sklearn.neural_network import MLPClassifier\n",
    "from sklearn.neighbors import KNeighborsClassifier\n",
    "from sklearn.decomposition import PCA\n",
    "from sklearn.feature_extraction import DictVectorizer\n",
    "from sklearn.pipeline import Pipeline, make_pipeline"
   ]
  },
  {
   "cell_type": "code",
   "execution_count": 57,
   "id": "1693f547-d026-412c-8dc1-209832b293bb",
   "metadata": {},
   "outputs": [],
   "source": [
    "import tensorflow as tf\n",
    "from tensorflow.keras.layers import Dense, LSTM, Dropout, Activation, Input, Embedding, TextVectorization, Reshape, Add, Concatenate, Flatten, Conv1D, Conv1DTranspose\n",
    "from tensorflow.keras.losses import binary_crossentropy\n",
    "from tensorflow.keras.models import Model, Sequential\n",
    "from tensorflow.keras.optimizers import Adam, SGD\n",
    "from tensorflow.keras.callbacks import ReduceLROnPlateau, ModelCheckpoint, EarlyStopping"
   ]
  },
  {
   "cell_type": "code",
   "execution_count": 58,
   "id": "6e5a1641-28b4-442b-b675-71ad6a6ff9fe",
   "metadata": {
    "scrolled": true
   },
   "outputs": [
    {
     "name": "stdout",
     "output_type": "stream",
     "text": [
      "(40, 150)\n",
      "(10, 50)\n",
      "(10, 100)\n"
     ]
    }
   ],
   "source": [
    "_, seg_df = load_user_data()\n",
    "print(seg_df.shape)\n",
    "y = pd.read_csv('challengeToFill.csv').drop(columns=['Unnamed: 0']).T.reset_index(drop=True).T\n",
    "y_train = y.iloc[:LABELED_USERS, :TRAIN_SEG]\n",
    "y_test_df = y.iloc[:LABELED_USERS, TRAIN_SEG:]\n",
    "train_df = seg_df.iloc[:LABELED_USERS, :TRAIN_SEG]\n",
    "test_df = seg_df.iloc[:LABELED_USERS, TRAIN_SEG:]\n",
    "submission_df = seg_df.iloc[LABELED_USERS:, TRAIN_SEG:]\n",
    "sentences = train_df.to_numpy().flatten().tolist()\n",
    "# embedding_model = create_embeddings(sentences, vector_size=EMBEDDING_DIM, window=5)\n",
    "# print(embedding_model.wv)\n",
    "print(train_df.shape)\n",
    "print(test_df.shape)"
   ]
  },
  {
   "cell_type": "code",
   "execution_count": 138,
   "id": "6e3cf0ed",
   "metadata": {},
   "outputs": [],
   "source": [
    "all_commands = np.unique(seg_df.to_numpy().flatten().tolist()).tolist()"
   ]
  },
  {
   "cell_type": "code",
   "execution_count": 139,
   "id": "c9445bcc-fa8f-41cc-9a2c-5382c9e3d7b2",
   "metadata": {},
   "outputs": [
    {
     "data": {
      "text/plain": [
       "((500,), (1000,))"
      ]
     },
     "execution_count": 139,
     "metadata": {},
     "output_type": "execute_result"
    }
   ],
   "source": [
    "train = train_df.to_numpy().flatten()\n",
    "test = test_df.to_numpy().flatten()\n",
    "train.shape, test.shape"
   ]
  },
  {
   "cell_type": "code",
   "execution_count": 61,
   "id": "baaea5ff",
   "metadata": {},
   "outputs": [],
   "source": [
    "w2x = {k: idx for idx, k in enumerate(all_commands)}\n",
    "x2w = {idx: k for idx, k in enumerate(all_commands)}"
   ]
  },
  {
   "cell_type": "code",
   "execution_count": 141,
   "id": "238b17a4",
   "metadata": {},
   "outputs": [],
   "source": [
    "def seg_to_hist(segs, vocab=all_commands):\n",
    "    count_vec = CountVectorizer(lowercase=False, vocabulary=vocab)\n",
    "    features = count_vec.transform([' '.join(seg) for seg in segs])\n",
    "    return features.toarray()"
   ]
  },
  {
   "cell_type": "code",
   "execution_count": 143,
   "id": "edd89d3a",
   "metadata": {},
   "outputs": [],
   "source": [
    "def tfidf_per_user(uid, top_n=100):\n",
    "    documents = []\n",
    "    for i in range(NUM_USERS):\n",
    "        documents.append(' '.join([' '.join(x) for x in seg_df.iloc[i,:TRAIN_SEG]]))\n",
    "    tfidf = TfidfVectorizer(ngram_range=(3,3))\n",
    "    data = tfidf.fit_transform(documents)\n",
    "    tfidf_features = pd.DataFrame.sparse.from_spmatrix(data, columns=tfidf.get_feature_names_out()).sparse.to_dense().T\n",
    "    tfidf_features.columns = [f'user{i}' for i in range(NUM_USERS)]\n",
    "    top_n_user = tfidf_features.nlargest(top_n, f'user{uid}').index.tolist()\n",
    "    return top_n_user"
   ]
  },
  {
   "cell_type": "code",
   "execution_count": 254,
   "id": "dc46c72b-1c44-40e3-a38f-c47c7c60bfdc",
   "metadata": {},
   "outputs": [],
   "source": [
    "def get_all_features(top_n=100):\n",
    "    all_features = []\n",
    "    for uid in range(NUM_USERS):\n",
    "        gram1_hist = seg_to_hist(seg_df.iloc[uid, :])\n",
    "        top_n_user = tfidf_per_user(uid, top_n=top_n)\n",
    "        ngram_hist = seg_to_hist(seg_df.iloc[uid, :], vocab=top_n_user)\n",
    "        # print(gram1_hist.shape)\n",
    "        most_common = np.expand_dims(np.array([w2x[stats.mode(x).mode[0]] for x in seg_df.iloc[uid, :]]), axis=-1)\n",
    "        most_common_count = np.expand_dims(np.array([stats.mode(x).count[0] for x in seg_df.iloc[uid, :]]), axis=-1)\n",
    "        num_unique = np.expand_dims(np.array([len(set(x)) for x in seg_df.iloc[uid, :]]), axis=-1)\n",
    "        # ngram_hist = ngram_to_histogram(seg_df.iloc[uid, :])\n",
    "        all_features.append(np.concatenate([gram1_hist, ngram_hist, most_common, num_unique], axis=1))\n",
    "    return all_features"
   ]
  },
  {
   "cell_type": "code",
   "execution_count": 263,
   "id": "1a534656-e821-4952-af28-242aa53e2261",
   "metadata": {},
   "outputs": [],
   "source": [
    "features_per_user_seg = get_all_features(10)\n",
    "features_per_user_seg[1][0].shape"
   ]
  },
  {
   "cell_type": "code",
   "execution_count": 265,
   "id": "a681f143",
   "metadata": {},
   "outputs": [],
   "source": [
    "def build_train_data(uid, features_per_user_seg, other_users):\n",
    "    x_train = features_per_user_seg[uid][:TRAIN_SEG]\n",
    "    for i in range(NUM_USERS):\n",
    "        if i != uid:\n",
    "            x_train = np.concatenate([x_train, features_per_user_seg[i][:other_users]])\n",
    "    y_train = np.concatenate([np.zeros(TRAIN_SEG), np.ones(other_users*(NUM_USERS-1))])\n",
    "    return x_train, y_train"
   ]
  },
  {
   "cell_type": "code",
   "execution_count": 308,
   "id": "5844e602",
   "metadata": {},
   "outputs": [],
   "source": [
    "def build_train_model(uid, features_per_user_seg,other_users=3, top_n=15):\n",
    "    x_train, y_train = build_train_data(uid, features_per_user_seg,other_users)\n",
    "    clf = MLPClassifier(hidden_layer_sizes=(100,), max_iter=1000)\n",
    "    clf.fit(x_train, y_train)\n",
    "    y_test = y_test_df.iloc[uid].to_numpy()\n",
    "    probas = clf.predict_proba(features_per_user_seg[uid][TRAIN_SEG:])[:,1]\n",
    "    preds = [1 if p in sorted(probas)[-top_n:] else 0 for p in probas]\n",
    "    return get_metrics(y_test, preds)"
   ]
  },
  {
   "cell_type": "code",
   "execution_count": 309,
   "id": "f9989103-df10-4cd0-901d-af5f91185cf8",
   "metadata": {},
   "outputs": [],
   "source": [
    "def build_test_model(uid, features_per_user_seg,other_users=3, top_n=15):\n",
    "    x_train, y_train = build_train_data(uid, features_per_user_seg,other_users)\n",
    "    clf = MLPClassifier(learning_rate='adaptive', hidden_layer_sizes=(100,), max_iter=1000)\n",
    "    clf.fit(x_train, y_train)\n",
    "    probas = clf.predict_proba(features_per_user_seg[uid][TRAIN_SEG:])[:,1]\n",
    "    preds = [1 if p in sorted(probas)[-top_n:] else 0 for p in probas]\n",
    "    return preds"
   ]
  },
  {
   "cell_type": "code",
   "execution_count": 313,
   "id": "1a658e7d-4663-46e0-a08b-82621b0f82e2",
   "metadata": {
    "collapsed": true,
    "jupyter": {
     "outputs_hidden": true
    },
    "tags": []
   },
   "outputs": [
    {
     "name": "stdout",
     "output_type": "stream",
     "text": [
      "Acc: 0.88\n",
      "Precision: 0.45\n",
      "Recall: 0.9\n",
      "F1 Score: 0.6\n",
      "Classification Score: 160\n",
      "Final Grade: 9.967213114754099\n",
      "Acc: 0.88\n",
      "Precision: 0.45\n",
      "Recall: 0.9\n",
      "F1 Score: 0.6\n",
      "Classification Score: 160\n",
      "Final Grade: 9.967213114754099\n",
      "Acc: 0.9\n",
      "Precision: 0.5\n",
      "Recall: 1.0\n",
      "F1 Score: 0.6666666666666666\n",
      "Classification Score: 170\n",
      "Final Grade: 10.59016393442623\n",
      "Acc: 0.88\n",
      "Precision: 0.45\n",
      "Recall: 0.9\n",
      "F1 Score: 0.6\n",
      "Classification Score: 160\n",
      "Final Grade: 9.967213114754099\n",
      "Acc: 0.86\n",
      "Precision: 0.4\n",
      "Recall: 0.8\n",
      "F1 Score: 0.5333333333333333\n",
      "Classification Score: 150\n",
      "Final Grade: 9.344262295081966\n",
      "Acc: 0.82\n",
      "Precision: 0.3\n",
      "Recall: 0.6\n",
      "F1 Score: 0.4\n",
      "Classification Score: 130\n",
      "Final Grade: 8.098360655737705\n",
      "Acc: 0.87\n",
      "Precision: 0.43478260869565216\n",
      "Recall: 1.0\n",
      "F1 Score: 0.6060606060606061\n",
      "Classification Score: 167\n",
      "Final Grade: 10.40327868852459\n",
      "Acc: 0.79\n",
      "Precision: 0.23809523809523808\n",
      "Recall: 0.5\n",
      "F1 Score: 0.3225806451612903\n",
      "Classification Score: 119\n",
      "Final Grade: 7.413114754098361\n",
      "Acc: 0.83\n",
      "Precision: 0.37037037037037035\n",
      "Recall: 1.0\n",
      "F1 Score: 0.5405405405405406\n",
      "Classification Score: 163\n",
      "Final Grade: 10.154098360655738\n",
      "Acc: 0.9\n",
      "Precision: 0.5\n",
      "Recall: 1.0\n",
      "F1 Score: 0.6666666666666666\n",
      "Classification Score: 170\n",
      "Final Grade: 10.59016393442623\n",
      "1549\n"
     ]
    }
   ],
   "source": [
    "total_score = 0\n",
    "for uid in range(LABELED_USERS):\n",
    "    score = build_train_model(uid,features_per_user_seg, other_users=2, top_n=20)\n",
    "    total_score += score\n",
    "print(total_score)"
   ]
  },
  {
   "cell_type": "code",
   "execution_count": 314,
   "id": "d95bb1c5-cf30-4e60-9259-6b74716c91ce",
   "metadata": {
    "tags": []
   },
   "outputs": [],
   "source": [
    "preds = []\n",
    "for uid in range(LABELED_USERS, NUM_USERS):\n",
    "    preds += [build_test_model(uid,features_per_user_seg, 3)]"
   ]
  },
  {
   "cell_type": "code",
   "execution_count": 315,
   "id": "bd119a77-0594-4c6c-b058-e1f4fdbc7a8b",
   "metadata": {},
   "outputs": [
    {
     "data": {
      "text/plain": [
       "array([15, 15, 15, 15, 15, 16, 15, 15, 17, 15, 15, 15, 15, 15, 15, 15, 15,\n",
       "       15, 15, 15, 15, 15, 15, 15, 15, 15, 15, 15, 15, 15])"
      ]
     },
     "execution_count": 315,
     "metadata": {},
     "output_type": "execute_result"
    }
   ],
   "source": [
    "np.array(preds).sum(axis=1)"
   ]
  },
  {
   "cell_type": "code",
   "execution_count": null,
   "id": "148aec5e-68b9-410e-a656-23aed876de90",
   "metadata": {},
   "outputs": [],
   "source": [
    "import os\n",
    "import shutil\n",
    "\n",
    "version = input()\n",
    "\n",
    "dir_path = f'submissions\\\\{version}'\n",
    "notebook_name = f'318443595_318949443_{version}.ipynb'\n",
    "if not os.path.exists(dir_path):\n",
    "    os.system(f'mkdir {dir_path}')\n",
    "\n",
    "shutil.copyfile('Untitled.ipynb', f'{dir_path}\\\\{notebook_name}')\n",
    "to_fill_df = pd.read_csv('challengeToFillOriginal.csv')\n",
    "to_fill_df.iloc[LABELED_USERS: ,TRAIN_SEG+1:] = np.array(preds, dtype=int)\n",
    "for col in to_fill_df.columns[1:]:\n",
    "    to_fill_df[col] = to_fill_df[col].astype(int)\n",
    "to_fill_df.to_csv(f'submissions/{version}/318443595_318949443_{version}.csv', index=False)"
   ]
  },
  {
   "cell_type": "code",
   "execution_count": null,
   "id": "8eca0883-6fcd-43a3-9415-f25459779131",
   "metadata": {},
   "outputs": [],
   "source": []
  }
 ],
 "metadata": {
  "kernelspec": {
   "display_name": "Python [conda env:.conda-dl] *",
   "language": "python",
   "name": "conda-env-.conda-dl-py"
  },
  "language_info": {
   "codemirror_mode": {
    "name": "ipython",
    "version": 3
   },
   "file_extension": ".py",
   "mimetype": "text/x-python",
   "name": "python",
   "nbconvert_exporter": "python",
   "pygments_lexer": "ipython3",
   "version": "3.9.12"
  }
 },
 "nbformat": 4,
 "nbformat_minor": 5
}
